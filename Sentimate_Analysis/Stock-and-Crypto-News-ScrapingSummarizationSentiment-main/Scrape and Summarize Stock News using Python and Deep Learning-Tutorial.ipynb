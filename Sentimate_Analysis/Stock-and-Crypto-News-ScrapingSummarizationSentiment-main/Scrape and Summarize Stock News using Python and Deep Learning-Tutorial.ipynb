{
 "cells": [
  {
   "cell_type": "markdown",
   "metadata": {},
   "source": [
    "# 1. Install and Import Baseline Dependencies"
   ]
  },
  {
   "cell_type": "code",
   "execution_count": 2,
   "metadata": {
    "collapsed": true
   },
   "outputs": [],
   "source": [
    "# !pip install transformers"
   ]
  },
  {
   "cell_type": "code",
   "execution_count": 1,
   "metadata": {},
   "outputs": [],
   "source": [
    "from transformers import PegasusTokenizer, PegasusForConditionalGeneration\n",
    "from bs4 import BeautifulSoup\n",
    "import requests"
   ]
  },
  {
   "cell_type": "markdown",
   "metadata": {},
   "source": [
    "# 2. Setup Summarization Model"
   ]
  },
  {
   "cell_type": "code",
   "execution_count": 3,
   "metadata": {},
   "outputs": [
    {
     "name": "stderr",
     "output_type": "stream",
     "text": [
      "Some weights of PegasusForConditionalGeneration were not initialized from the model checkpoint at human-centered-summarization/financial-summarization-pegasus and are newly initialized: ['model.decoder.embed_positions.weight', 'model.encoder.embed_positions.weight']\n",
      "You should probably TRAIN this model on a down-stream task to be able to use it for predictions and inference.\n"
     ]
    }
   ],
   "source": [
    "model_name = \"human-centered-summarization/financial-summarization-pegasus\"\n",
    "tokenizer = PegasusTokenizer.from_pretrained(model_name)\n",
    "model = PegasusForConditionalGeneration.from_pretrained(model_name)"
   ]
  },
  {
   "cell_type": "markdown",
   "metadata": {},
   "source": [
    "# 3. Summarize a Single Article"
   ]
  },
  {
   "cell_type": "code",
   "execution_count": 4,
   "metadata": {},
   "outputs": [],
   "source": [
    "url = \"https://au.finance.yahoo.com/news/china-restricting-tesla-use-uncovers-a-significant-challenge-for-elon-musk-expert-161921664.html\"\n",
    "r = requests.get(url)\n",
    "soup = BeautifulSoup(r.text, 'html.parser')\n",
    "paragraphs = soup.find_all('p')"
   ]
  },
  {
   "cell_type": "code",
   "execution_count": 9,
   "metadata": {},
   "outputs": [
    {
     "data": {
      "text/plain": [
       "'Thank you for your patience.'"
      ]
     },
     "execution_count": 9,
     "metadata": {},
     "output_type": "execute_result"
    }
   ],
   "source": [
    "paragraphs[0].text"
   ]
  },
  {
   "cell_type": "code",
   "execution_count": 10,
   "metadata": {},
   "outputs": [],
   "source": [
    "text = [paragraph.text for paragraph in paragraphs]\n",
    "words = ' '.join(text).split(' ')[:400]\n",
    "ARTICLE = ' '.join(words)"
   ]
  },
  {
   "cell_type": "code",
   "execution_count": 11,
   "metadata": {},
   "outputs": [
    {
     "data": {
      "text/plain": [
       "'Thank you for your patience. Our engineers are working quickly to resolve the issue.'"
      ]
     },
     "execution_count": 11,
     "metadata": {},
     "output_type": "execute_result"
    }
   ],
   "source": [
    "ARTICLE"
   ]
  },
  {
   "cell_type": "code",
   "execution_count": 12,
   "metadata": {},
   "outputs": [],
   "source": [
    "input_ids = tokenizer.encode(ARTICLE, return_tensors='pt')\n",
    "output = model.generate(input_ids, max_length=55, num_beams=5, early_stopping=True)\n",
    "summary = tokenizer.decode(output[0], skip_special_tokens=True)"
   ]
  },
  {
   "cell_type": "code",
   "execution_count": 13,
   "metadata": {},
   "outputs": [
    {
     "data": {
      "text/plain": [
       "'We are aware of the issue and are working to resolve it.'"
      ]
     },
     "execution_count": 13,
     "metadata": {},
     "output_type": "execute_result"
    }
   ],
   "source": [
    "summary"
   ]
  },
  {
   "cell_type": "markdown",
   "metadata": {},
   "source": [
    "# 4. Building a News and Sentiment Pipeline"
   ]
  },
  {
   "cell_type": "code",
   "execution_count": 15,
   "metadata": {},
   "outputs": [],
   "source": [
    "monitored_tickers = ['GME', 'TSLA', 'BTC']"
   ]
  },
  {
   "cell_type": "markdown",
   "metadata": {},
   "source": [
    "## 4.1. Search for Stock News using Google and Yahoo Finance"
   ]
  },
  {
   "cell_type": "code",
   "execution_count": 16,
   "metadata": {},
   "outputs": [],
   "source": [
    "def search_for_stock_news_urls(ticker):\n",
    "    search_url = \"https://www.google.com/search?q=yahoo+finance+{}&tbm=nws\".format(ticker)\n",
    "    r = requests.get(search_url)\n",
    "    soup = BeautifulSoup(r.text, 'html.parser')\n",
    "    atags = soup.find_all('a')\n",
    "    hrefs = [link['href'] for link in atags]\n",
    "    return hrefs "
   ]
  },
  {
   "cell_type": "code",
   "execution_count": 17,
   "metadata": {
    "collapsed": true
   },
   "outputs": [
    {
     "data": {
      "text/plain": [
       "{'GME': ['/?sa=X&ved=0ahUKEwifuM6WmpOCAxX4p5UCHfgDA5YQOwgC',\n",
       "  '/search?q=yahoo+finance+GME&tbm=nws&sca_esv=576753509&ie=UTF-8&gbv=1&sei=Fxc6Zd_QA_jP1sQP-IeMsAk',\n",
       "  '/search?q=yahoo+finance+GME&sca_esv=576753509&ie=UTF-8&source=lnms&sa=X&ved=0ahUKEwifuM6WmpOCAxX4p5UCHfgDA5YQ_AUIBSgA',\n",
       "  '/search?q=yahoo+finance+GME&sca_esv=576753509&ie=UTF-8&tbm=vid&source=lnms&sa=X&ved=0ahUKEwifuM6WmpOCAxX4p5UCHfgDA5YQ_AUIBygC',\n",
       "  '/search?q=yahoo+finance+GME&sca_esv=576753509&ie=UTF-8&tbm=bks&source=lnms&sa=X&ved=0ahUKEwifuM6WmpOCAxX4p5UCHfgDA5YQ_AUICCgD',\n",
       "  '/search?q=yahoo+finance+GME&sca_esv=576753509&ie=UTF-8&tbm=isch&source=lnms&sa=X&ved=0ahUKEwifuM6WmpOCAxX4p5UCHfgDA5YQ_AUICSgE',\n",
       "  'https://maps.google.com/maps?q=yahoo+finance+GME&um=1&ie=UTF-8&sa=X&ved=0ahUKEwifuM6WmpOCAxX4p5UCHfgDA5YQ_AUICigF',\n",
       "  '/search?q=yahoo+finance+GME&sca_esv=576753509&ie=UTF-8&tbm=shop&source=lnms&sa=X&ved=0ahUKEwifuM6WmpOCAxX4p5UCHfgDA5YQ_AUICygG',\n",
       "  '/advanced_search',\n",
       "  '/search?q=yahoo+finance+GME&sca_esv=576753509&ie=UTF-8&tbm=nws&source=lnt&tbs=qdr:h&sa=X&ved=0ahUKEwifuM6WmpOCAxX4p5UCHfgDA5YQpwUIDQ',\n",
       "  '/search?q=yahoo+finance+GME&sca_esv=576753509&ie=UTF-8&tbm=nws&source=lnt&tbs=qdr:d&sa=X&ved=0ahUKEwifuM6WmpOCAxX4p5UCHfgDA5YQpwUIDg',\n",
       "  '/search?q=yahoo+finance+GME&sca_esv=576753509&ie=UTF-8&tbm=nws&source=lnt&tbs=qdr:w&sa=X&ved=0ahUKEwifuM6WmpOCAxX4p5UCHfgDA5YQpwUIDw',\n",
       "  '/search?q=yahoo+finance+GME&sca_esv=576753509&ie=UTF-8&tbm=nws&source=lnt&tbs=qdr:m&sa=X&ved=0ahUKEwifuM6WmpOCAxX4p5UCHfgDA5YQpwUIEA',\n",
       "  '/search?q=yahoo+finance+GME&sca_esv=576753509&ie=UTF-8&tbm=nws&source=lnt&tbs=qdr:y&sa=X&ved=0ahUKEwifuM6WmpOCAxX4p5UCHfgDA5YQpwUIEQ',\n",
       "  '/search?q=yahoo+finance+GME&sca_esv=576753509&ie=UTF-8&tbm=nws&source=lnt&tbs=ar:1&sa=X&ved=0ahUKEwifuM6WmpOCAxX4p5UCHfgDA5YQpwUIEg',\n",
       "  '/search?q=yahoo+finance+GME&sca_esv=576753509&ie=UTF-8&tbm=nws&source=lnt&tbs=sbd:1&sa=X&ved=0ahUKEwifuM6WmpOCAxX4p5UCHfgDA5YQpwUIFA',\n",
       "  '/url?q=https://finance.yahoo.com/news/down-19-41-4-weeks-133506409.html&sa=U&ved=2ahUKEwifuM6WmpOCAxX4p5UCHfgDA5YQxfQBegQIARAC&usg=AOvVaw38xqdII11W5Q9h6J5L33WO',\n",
       "  '/url?q=https://finance.yahoo.com/news/why-gamestop-gme-down-22-153004926.html&sa=U&ved=2ahUKEwifuM6WmpOCAxX4p5UCHfgDA5YQxfQBegQICRAC&usg=AOvVaw0WtvQRYSVYtwoHI8WZtKzG',\n",
       "  '/url?q=https://finance.yahoo.com/news/gwti-inks-letter-intent-gme-131500800.html&sa=U&ved=2ahUKEwifuM6WmpOCAxX4p5UCHfgDA5YQxfQBegQIBhAC&usg=AOvVaw0lq7hrJHD3yX3pasEwTNF7',\n",
       "  '/url?q=https://finance.yahoo.com/video/gamestop-stock-rises-ryan-cohen-140155496.html&sa=U&ved=2ahUKEwifuM6WmpOCAxX4p5UCHfgDA5YQxfQBegQIABAC&usg=AOvVaw3MtzXpvq1Iyrp-iD7gJoMR',\n",
       "  '/url?q=https://finance.yahoo.com/news/usf-health-tampa-general-again-123000669.html&sa=U&ved=2ahUKEwifuM6WmpOCAxX4p5UCHfgDA5YQxfQBegQIAhAC&usg=AOvVaw2LZBdmrxz3VSgDWaAQMp1-',\n",
       "  '/url?q=https://finance.yahoo.com/news/20-highest-paying-countries-doctors-141147787.html&sa=U&ved=2ahUKEwifuM6WmpOCAxX4p5UCHfgDA5YQxfQBegQIBBAC&usg=AOvVaw0amQfeK1l9ueJ7zPB7-Y6S',\n",
       "  '/url?q=https://ca.finance.yahoo.com/news/market-lessons-what-gamestop-flop-teach-investing-strategy-143742509.html&sa=U&ved=2ahUKEwifuM6WmpOCAxX4p5UCHfgDA5YQxfQBegQIBRAC&usg=AOvVaw3FggK_Jbcp30zse4lt1C75',\n",
       "  '/url?q=https://finance.yahoo.com/news/nasdaq-rises-dow-falls-in-seesaw-start-to-q4-stock-market-news-today-200428762.html&sa=U&ved=2ahUKEwifuM6WmpOCAxX4p5UCHfgDA5YQxfQBegQIAxAC&usg=AOvVaw25YmQKVyMPBdY4FholILbC',\n",
       "  '/url?q=https://finance.yahoo.com/news/stocks-rise-as-oil-bond-yields-finally-take-a-breather-stock-market-news-today-200406227.html&sa=U&ved=2ahUKEwifuM6WmpOCAxX4p5UCHfgDA5YQxfQBegQICBAC&usg=AOvVaw1UJlG3dMIBUR9cfL0xvN-b',\n",
       "  '/url?q=https://finance.yahoo.com/news/introducing-dumb-money-game-changing-220000035.html&sa=U&ved=2ahUKEwifuM6WmpOCAxX4p5UCHfgDA5YQxfQBegQIBxAC&usg=AOvVaw1mTfjppcZwHBYK7g8F5ygb',\n",
       "  '/search?q=yahoo+finance+GME&sca_esv=576753509&ie=UTF-8&tbm=nws&ei=Fxc6Zd_QA_jP1sQP-IeMsAk&start=10&sa=N',\n",
       "  '/url?q=https://support.google.com/websearch%3Fp%3Dws_settings_location%26hl%3Den-IN&opi=89978449&sa=U&ved=0ahUKEwifuM6WmpOCAxX4p5UCHfgDA5YQty4IUw&usg=AOvVaw0lIwdIAlCik7luXzehrkQC',\n",
       "  '/url?q=https://accounts.google.com/ServiceLogin%3Fcontinue%3Dhttps://www.google.com/search%253Fq%253Dyahoo%252Bfinance%252BGME%2526tbm%253Dnws%26hl%3Den&opi=89978449&sa=U&ved=0ahUKEwifuM6WmpOCAxX4p5UCHfgDA5YQxs8CCFQ&usg=AOvVaw1Dk-AgoXoVuouYLssUeJey',\n",
       "  'https://www.google.com/preferences?hl=en-IN&fg=1&sa=X&ved=0ahUKEwifuM6WmpOCAxX4p5UCHfgDA5YQ5fUCCFU',\n",
       "  'https://policies.google.com/privacy?hl=en-IN&fg=1',\n",
       "  'https://policies.google.com/terms?hl=en-IN&fg=1',\n",
       "  '/setprefs?hl=en&prev=https://www.google.com/search?q%3Dyahoo%2Bfinance%2BGME%26tbm%3Dnws%26pccc%3D1&sig=0_gDClsu4HKbMXijo8BQyJdfnYeM4%3D&cs=2&sa=X&ved=0ahUKEwifuM6WmpOCAxX4p5UCHfgDA5YQjcAJCFY'],\n",
       " 'TSLA': ['/?sa=X&ved=0ahUKEwjf0IqXmpOCAxWIr5UCHTIVAD0QOwgC',\n",
       "  '/search?q=yahoo+finance+TSLA&tbm=nws&sca_esv=576753509&ie=UTF-8&gbv=1&sei=GBc6Zd_kAojf1sQPsqqA6AM',\n",
       "  '/search?q=yahoo+finance+TSLA&sca_esv=576753509&ie=UTF-8&source=lnms&sa=X&ved=0ahUKEwjf0IqXmpOCAxWIr5UCHTIVAD0Q_AUIBSgA',\n",
       "  '/search?q=yahoo+finance+TSLA&sca_esv=576753509&ie=UTF-8&tbm=vid&source=lnms&sa=X&ved=0ahUKEwjf0IqXmpOCAxWIr5UCHTIVAD0Q_AUIBygC',\n",
       "  '/search?q=yahoo+finance+TSLA&sca_esv=576753509&ie=UTF-8&tbm=bks&source=lnms&sa=X&ved=0ahUKEwjf0IqXmpOCAxWIr5UCHTIVAD0Q_AUICCgD',\n",
       "  '/search?q=yahoo+finance+TSLA&sca_esv=576753509&ie=UTF-8&tbm=isch&source=lnms&sa=X&ved=0ahUKEwjf0IqXmpOCAxWIr5UCHTIVAD0Q_AUICSgE',\n",
       "  'https://maps.google.com/maps?q=yahoo+finance+TSLA&um=1&ie=UTF-8&sa=X&ved=0ahUKEwjf0IqXmpOCAxWIr5UCHTIVAD0Q_AUICigF',\n",
       "  '/search?q=yahoo+finance+TSLA&sca_esv=576753509&ie=UTF-8&tbm=shop&source=lnms&sa=X&ved=0ahUKEwjf0IqXmpOCAxWIr5UCHTIVAD0Q_AUICygG',\n",
       "  '/advanced_search',\n",
       "  '/search?q=yahoo+finance+TSLA&sca_esv=576753509&ie=UTF-8&tbm=nws&source=lnt&tbs=qdr:h&sa=X&ved=0ahUKEwjf0IqXmpOCAxWIr5UCHTIVAD0QpwUIDQ',\n",
       "  '/search?q=yahoo+finance+TSLA&sca_esv=576753509&ie=UTF-8&tbm=nws&source=lnt&tbs=qdr:d&sa=X&ved=0ahUKEwjf0IqXmpOCAxWIr5UCHTIVAD0QpwUIDg',\n",
       "  '/search?q=yahoo+finance+TSLA&sca_esv=576753509&ie=UTF-8&tbm=nws&source=lnt&tbs=qdr:w&sa=X&ved=0ahUKEwjf0IqXmpOCAxWIr5UCHTIVAD0QpwUIDw',\n",
       "  '/search?q=yahoo+finance+TSLA&sca_esv=576753509&ie=UTF-8&tbm=nws&source=lnt&tbs=qdr:m&sa=X&ved=0ahUKEwjf0IqXmpOCAxWIr5UCHTIVAD0QpwUIEA',\n",
       "  '/search?q=yahoo+finance+TSLA&sca_esv=576753509&ie=UTF-8&tbm=nws&source=lnt&tbs=qdr:y&sa=X&ved=0ahUKEwjf0IqXmpOCAxWIr5UCHTIVAD0QpwUIEQ',\n",
       "  '/search?q=yahoo+finance+TSLA&sca_esv=576753509&ie=UTF-8&tbm=nws&source=lnt&tbs=ar:1&sa=X&ved=0ahUKEwjf0IqXmpOCAxWIr5UCHTIVAD0QpwUIEg',\n",
       "  '/search?q=yahoo+finance+TSLA&sca_esv=576753509&ie=UTF-8&tbm=nws&source=lnt&tbs=sbd:1&sa=X&ved=0ahUKEwjf0IqXmpOCAxWIr5UCHTIVAD0QpwUIFA',\n",
       "  '/url?q=https://finance.yahoo.com/news/elon-musk-lost-fortune-tesla-113844160.html&sa=U&ved=2ahUKEwjf0IqXmpOCAxWIr5UCHTIVAD0QxfQBegQICBAC&usg=AOvVaw1BnQ-VSG-etdxdMEPYooHh',\n",
       "  '/url?q=https://finance.yahoo.com/news/the-road-ahead-gets-bumpier-for-tesla-as-doj-deepens-scrutiny-183208771.html&sa=U&ved=2ahUKEwjf0IqXmpOCAxWIr5UCHTIVAD0QxfQBegQICRAC&usg=AOvVaw2DuHWlUyarxqoaKL8XBC1v',\n",
       "  '/url?q=https://finance.yahoo.com/video/musk-turned-little-baby-tesla-173731640.html&sa=U&ved=2ahUKEwjf0IqXmpOCAxWIr5UCHTIVAD0QxfQBegQIAxAC&usg=AOvVaw1lqREwwaaQ-VsHDdPskMdx',\n",
       "  '/url?q=https://finance.yahoo.com/news/elon-musk-acted-little-baby-160535804.html&sa=U&ved=2ahUKEwjf0IqXmpOCAxWIr5UCHTIVAD0QxfQBegQIBBAC&usg=AOvVaw3jnXu-lCuXZGOZiQucVbBH',\n",
       "  '/url?q=https://finance.yahoo.com/news/dip-buyers-flock-tesla-bull-191150092.html&sa=U&ved=2ahUKEwjf0IqXmpOCAxWIr5UCHTIVAD0QxfQBegQIBRAC&usg=AOvVaw0xcPhajqBELulrpSrkbXJm',\n",
       "  '/url?q=https://finance.yahoo.com/news/tesla-q3-earnings-140032243.html&sa=U&ved=2ahUKEwjf0IqXmpOCAxWIr5UCHTIVAD0QxfQBegQIARAC&usg=AOvVaw2D2040gnxbyi3zZTfu2v_u',\n",
       "  '/url?q=https://finance.yahoo.com/news/tesla-netflix-and-banks-highlight-earnings-rush-the-week-ahead-140003751.html&sa=U&ved=2ahUKEwjf0IqXmpOCAxWIr5UCHTIVAD0QxfQBegQIABAC&usg=AOvVaw0zJkDKf4_Yrc-QKibF5PYE',\n",
       "  '/url?q=https://finance.yahoo.com/news/porsche-joins-tesla-in-warning-about-high-rates-181123085.html&sa=U&ved=2ahUKEwjf0IqXmpOCAxWIr5UCHTIVAD0QxfQBegQIBxAC&usg=AOvVaw0-WK_mPYuOPBBgo4n-7VJp',\n",
       "  '/url?q=https://finance.yahoo.com/news/time-buy-recent-dip-teslas-005400771.html&sa=U&ved=2ahUKEwjf0IqXmpOCAxWIr5UCHTIVAD0QxfQBegQIAhAC&usg=AOvVaw3zGT59qT54n2IrVcqya2cD',\n",
       "  '/url?q=https://uk.finance.yahoo.com/news/tesla-stock-almost-50-off-063500435.html&sa=U&ved=2ahUKEwjf0IqXmpOCAxWIr5UCHTIVAD0QxfQBegQIBhAC&usg=AOvVaw2bfyf2cXEmrUXz13e7PMh3',\n",
       "  '/search?q=yahoo+finance+TSLA&sca_esv=576753509&ie=UTF-8&tbm=nws&ei=GBc6Zd_kAojf1sQPsqqA6AM&start=10&sa=N',\n",
       "  '/url?q=https://support.google.com/websearch%3Fp%3Dws_settings_location%26hl%3Den-IN&opi=89978449&sa=U&ved=0ahUKEwjf0IqXmpOCAxWIr5UCHTIVAD0Qty4IUw&usg=AOvVaw1b3JeOFDjesMc9X7Spc77S',\n",
       "  '/url?q=https://accounts.google.com/ServiceLogin%3Fcontinue%3Dhttps://www.google.com/search%253Fq%253Dyahoo%252Bfinance%252BTSLA%2526tbm%253Dnws%26hl%3Den&opi=89978449&sa=U&ved=0ahUKEwjf0IqXmpOCAxWIr5UCHTIVAD0Qxs8CCFQ&usg=AOvVaw0FDS1nZnCM56yxP626pS5a',\n",
       "  'https://www.google.com/preferences?hl=en-IN&fg=1&sa=X&ved=0ahUKEwjf0IqXmpOCAxWIr5UCHTIVAD0Q5fUCCFU',\n",
       "  'https://policies.google.com/privacy?hl=en-IN&fg=1',\n",
       "  'https://policies.google.com/terms?hl=en-IN&fg=1',\n",
       "  '/setprefs?hl=en&prev=https://www.google.com/search?q%3Dyahoo%2Bfinance%2BTSLA%26tbm%3Dnws%26pccc%3D1&sig=0_qSL7UiZkAxqwkmEE85CEfnmLSH0%3D&cs=2&sa=X&ved=0ahUKEwjf0IqXmpOCAxWIr5UCHTIVAD0QjcAJCFY'],\n",
       " 'BTC': ['/?sa=X&ved=0ahUKEwidns2XmpOCAxXMppUCHQYIBH0QOwgC',\n",
       "  '/search?q=yahoo+finance+BTC&tbm=nws&sca_esv=576753509&ie=UTF-8&gbv=1&sei=GRc6Zd2tCMzN1sQPhpCQ6Ac',\n",
       "  '/search?q=yahoo+finance+BTC&sca_esv=576753509&ie=UTF-8&source=lnms&sa=X&ved=0ahUKEwidns2XmpOCAxXMppUCHQYIBH0Q_AUIBSgA',\n",
       "  '/search?q=yahoo+finance+BTC&sca_esv=576753509&ie=UTF-8&tbm=vid&source=lnms&sa=X&ved=0ahUKEwidns2XmpOCAxXMppUCHQYIBH0Q_AUIBygC',\n",
       "  '/search?q=yahoo+finance+BTC&sca_esv=576753509&ie=UTF-8&tbm=bks&source=lnms&sa=X&ved=0ahUKEwidns2XmpOCAxXMppUCHQYIBH0Q_AUICCgD',\n",
       "  '/search?q=yahoo+finance+BTC&sca_esv=576753509&ie=UTF-8&tbm=isch&source=lnms&sa=X&ved=0ahUKEwidns2XmpOCAxXMppUCHQYIBH0Q_AUICSgE',\n",
       "  'https://maps.google.com/maps?q=yahoo+finance+BTC&um=1&ie=UTF-8&sa=X&ved=0ahUKEwidns2XmpOCAxXMppUCHQYIBH0Q_AUICigF',\n",
       "  '/search?q=yahoo+finance+BTC&sca_esv=576753509&ie=UTF-8&tbm=shop&source=lnms&sa=X&ved=0ahUKEwidns2XmpOCAxXMppUCHQYIBH0Q_AUICygG',\n",
       "  '/advanced_search',\n",
       "  '/search?q=yahoo+finance+BTC&sca_esv=576753509&ie=UTF-8&tbm=nws&source=lnt&tbs=qdr:h&sa=X&ved=0ahUKEwidns2XmpOCAxXMppUCHQYIBH0QpwUIDQ',\n",
       "  '/search?q=yahoo+finance+BTC&sca_esv=576753509&ie=UTF-8&tbm=nws&source=lnt&tbs=qdr:d&sa=X&ved=0ahUKEwidns2XmpOCAxXMppUCHQYIBH0QpwUIDg',\n",
       "  '/search?q=yahoo+finance+BTC&sca_esv=576753509&ie=UTF-8&tbm=nws&source=lnt&tbs=qdr:w&sa=X&ved=0ahUKEwidns2XmpOCAxXMppUCHQYIBH0QpwUIDw',\n",
       "  '/search?q=yahoo+finance+BTC&sca_esv=576753509&ie=UTF-8&tbm=nws&source=lnt&tbs=qdr:m&sa=X&ved=0ahUKEwidns2XmpOCAxXMppUCHQYIBH0QpwUIEA',\n",
       "  '/search?q=yahoo+finance+BTC&sca_esv=576753509&ie=UTF-8&tbm=nws&source=lnt&tbs=qdr:y&sa=X&ved=0ahUKEwidns2XmpOCAxXMppUCHQYIBH0QpwUIEQ',\n",
       "  '/search?q=yahoo+finance+BTC&sca_esv=576753509&ie=UTF-8&tbm=nws&source=lnt&tbs=ar:1&sa=X&ved=0ahUKEwidns2XmpOCAxXMppUCHQYIBH0QpwUIEg',\n",
       "  '/search?q=yahoo+finance+BTC&sca_esv=576753509&ie=UTF-8&tbm=nws&source=lnt&tbs=sbd:1&sa=X&ved=0ahUKEwidns2XmpOCAxXMppUCHQYIBH0QpwUIFA',\n",
       "  '/url?q=https://finance.yahoo.com/news/bitcoin-solana-borroe-finance-among-142516987.html&sa=U&ved=2ahUKEwidns2XmpOCAxXMppUCHQYIBH0QxfQBegQIARAC&usg=AOvVaw1-TeZrVFF-0N-76qkup4Va',\n",
       "  '/url?q=https://finance.yahoo.com/video/spot-bitcoin-etf-could-mean-204307210.html&sa=U&ved=2ahUKEwidns2XmpOCAxXMppUCHQYIBH0QxfQBegQICRAC&usg=AOvVaw2HC_d5niQN5thl2N4e0yzg',\n",
       "  '/url?q=https://finance.yahoo.com/news/bitcoin-surged-above-35000-to-highest-level-since-2022-141522816.html&sa=U&ved=2ahUKEwidns2XmpOCAxXMppUCHQYIBH0QxfQBegQIBBAC&usg=AOvVaw2TlPbBkQ83Ps39M0E4QNCC',\n",
       "  '/url?q=https://uk.finance.yahoo.com/news/why-bitcoin-prices-doubled-since-163341266.html&sa=U&ved=2ahUKEwidns2XmpOCAxXMppUCHQYIBH0QxfQBegQIAxAC&usg=AOvVaw2PP3fb7txG6QoacWzx5cS2',\n",
       "  '/url?q=https://www.marketpulse.com/newsfeed/btc-usd-is-bitcoin-back/emoya&sa=U&ved=2ahUKEwidns2XmpOCAxXMppUCHQYIBH0QxfQBegQIAhAC&usg=AOvVaw3WBw51vge4nQEx_YfOyGDk',\n",
       "  '/url?q=https://finance.yahoo.com/news/arthur-hayes-says-btc-rallying-053200278.html&sa=U&ved=2ahUKEwidns2XmpOCAxXMppUCHQYIBH0QxfQBegQICBAC&usg=AOvVaw3Ohw5Y2_0XwxtGTvNhMohR',\n",
       "  '/url?q=https://finance.yahoo.com/news/globalecrypto-revolutionizes-bitcoin-acquisition-strategies-183000829.html&sa=U&ved=2ahUKEwidns2XmpOCAxXMppUCHQYIBH0QxfQBegQIBxAC&usg=AOvVaw3jJ0HX_KgB_Ee6EtnIeLqo',\n",
       "  '/url?q=https://finance.yahoo.com/news/bitcoin-spot-etf-delays-flood-130000481.html&sa=U&ved=2ahUKEwidns2XmpOCAxXMppUCHQYIBH0QxfQBegQIABAC&usg=AOvVaw1pBc1OBHG9YBhqtDLPv-m2',\n",
       "  '/url?q=https://finance.yahoo.com/news/end-crypto-winter-093926791.html&sa=U&ved=2ahUKEwidns2XmpOCAxXMppUCHQYIBH0QxfQBegQIBRAC&usg=AOvVaw16imX8gzQ_oa6YgvBWrajP',\n",
       "  '/url?q=https://finance.yahoo.com/news/grayscale-gets-court-order-fight-190431100.html&sa=U&ved=2ahUKEwidns2XmpOCAxXMppUCHQYIBH0QxfQBegQIBhAC&usg=AOvVaw2ws9Hm7q8q55bRKzW0SzAf',\n",
       "  '/search?q=yahoo+finance+BTC&sca_esv=576753509&ie=UTF-8&tbm=nws&ei=GRc6Zd2tCMzN1sQPhpCQ6Ac&start=10&sa=N',\n",
       "  '/url?q=https://support.google.com/websearch%3Fp%3Dws_settings_location%26hl%3Den-IN&opi=89978449&sa=U&ved=0ahUKEwidns2XmpOCAxXMppUCHQYIBH0Qty4IUw&usg=AOvVaw0OjHBUiL72sZ55S8jnDbRe',\n",
       "  '/url?q=https://accounts.google.com/ServiceLogin%3Fcontinue%3Dhttps://www.google.com/search%253Fq%253Dyahoo%252Bfinance%252BBTC%2526tbm%253Dnws%26hl%3Den&opi=89978449&sa=U&ved=0ahUKEwidns2XmpOCAxXMppUCHQYIBH0Qxs8CCFQ&usg=AOvVaw0-0wJak73YcQBiTtxjidTG',\n",
       "  'https://www.google.com/preferences?hl=en-IN&fg=1&sa=X&ved=0ahUKEwidns2XmpOCAxXMppUCHQYIBH0Q5fUCCFU',\n",
       "  'https://policies.google.com/privacy?hl=en-IN&fg=1',\n",
       "  'https://policies.google.com/terms?hl=en-IN&fg=1',\n",
       "  '/setprefs?hl=en&prev=https://www.google.com/search?q%3Dyahoo%2Bfinance%2BBTC%26tbm%3Dnws%26pccc%3D1&sig=0_1oBVG3hWPlOLdwQv1qYoQLZRmWM%3D&cs=2&sa=X&ved=0ahUKEwidns2XmpOCAxXMppUCHQYIBH0QjcAJCFY']}"
      ]
     },
     "execution_count": 17,
     "metadata": {},
     "output_type": "execute_result"
    }
   ],
   "source": [
    "raw_urls = {ticker:search_for_stock_news_urls(ticker) for ticker in monitored_tickers}\n",
    "raw_urls"
   ]
  },
  {
   "cell_type": "code",
   "execution_count": 18,
   "metadata": {
    "collapsed": true
   },
   "outputs": [
    {
     "data": {
      "text/plain": [
       "['/?sa=X&ved=0ahUKEwifuM6WmpOCAxX4p5UCHfgDA5YQOwgC',\n",
       " '/search?q=yahoo+finance+GME&tbm=nws&sca_esv=576753509&ie=UTF-8&gbv=1&sei=Fxc6Zd_QA_jP1sQP-IeMsAk',\n",
       " '/search?q=yahoo+finance+GME&sca_esv=576753509&ie=UTF-8&source=lnms&sa=X&ved=0ahUKEwifuM6WmpOCAxX4p5UCHfgDA5YQ_AUIBSgA',\n",
       " '/search?q=yahoo+finance+GME&sca_esv=576753509&ie=UTF-8&tbm=vid&source=lnms&sa=X&ved=0ahUKEwifuM6WmpOCAxX4p5UCHfgDA5YQ_AUIBygC',\n",
       " '/search?q=yahoo+finance+GME&sca_esv=576753509&ie=UTF-8&tbm=bks&source=lnms&sa=X&ved=0ahUKEwifuM6WmpOCAxX4p5UCHfgDA5YQ_AUICCgD',\n",
       " '/search?q=yahoo+finance+GME&sca_esv=576753509&ie=UTF-8&tbm=isch&source=lnms&sa=X&ved=0ahUKEwifuM6WmpOCAxX4p5UCHfgDA5YQ_AUICSgE',\n",
       " 'https://maps.google.com/maps?q=yahoo+finance+GME&um=1&ie=UTF-8&sa=X&ved=0ahUKEwifuM6WmpOCAxX4p5UCHfgDA5YQ_AUICigF',\n",
       " '/search?q=yahoo+finance+GME&sca_esv=576753509&ie=UTF-8&tbm=shop&source=lnms&sa=X&ved=0ahUKEwifuM6WmpOCAxX4p5UCHfgDA5YQ_AUICygG',\n",
       " '/advanced_search',\n",
       " '/search?q=yahoo+finance+GME&sca_esv=576753509&ie=UTF-8&tbm=nws&source=lnt&tbs=qdr:h&sa=X&ved=0ahUKEwifuM6WmpOCAxX4p5UCHfgDA5YQpwUIDQ',\n",
       " '/search?q=yahoo+finance+GME&sca_esv=576753509&ie=UTF-8&tbm=nws&source=lnt&tbs=qdr:d&sa=X&ved=0ahUKEwifuM6WmpOCAxX4p5UCHfgDA5YQpwUIDg',\n",
       " '/search?q=yahoo+finance+GME&sca_esv=576753509&ie=UTF-8&tbm=nws&source=lnt&tbs=qdr:w&sa=X&ved=0ahUKEwifuM6WmpOCAxX4p5UCHfgDA5YQpwUIDw',\n",
       " '/search?q=yahoo+finance+GME&sca_esv=576753509&ie=UTF-8&tbm=nws&source=lnt&tbs=qdr:m&sa=X&ved=0ahUKEwifuM6WmpOCAxX4p5UCHfgDA5YQpwUIEA',\n",
       " '/search?q=yahoo+finance+GME&sca_esv=576753509&ie=UTF-8&tbm=nws&source=lnt&tbs=qdr:y&sa=X&ved=0ahUKEwifuM6WmpOCAxX4p5UCHfgDA5YQpwUIEQ',\n",
       " '/search?q=yahoo+finance+GME&sca_esv=576753509&ie=UTF-8&tbm=nws&source=lnt&tbs=ar:1&sa=X&ved=0ahUKEwifuM6WmpOCAxX4p5UCHfgDA5YQpwUIEg',\n",
       " '/search?q=yahoo+finance+GME&sca_esv=576753509&ie=UTF-8&tbm=nws&source=lnt&tbs=sbd:1&sa=X&ved=0ahUKEwifuM6WmpOCAxX4p5UCHfgDA5YQpwUIFA',\n",
       " '/url?q=https://finance.yahoo.com/news/down-19-41-4-weeks-133506409.html&sa=U&ved=2ahUKEwifuM6WmpOCAxX4p5UCHfgDA5YQxfQBegQIARAC&usg=AOvVaw38xqdII11W5Q9h6J5L33WO',\n",
       " '/url?q=https://finance.yahoo.com/news/why-gamestop-gme-down-22-153004926.html&sa=U&ved=2ahUKEwifuM6WmpOCAxX4p5UCHfgDA5YQxfQBegQICRAC&usg=AOvVaw0WtvQRYSVYtwoHI8WZtKzG',\n",
       " '/url?q=https://finance.yahoo.com/news/gwti-inks-letter-intent-gme-131500800.html&sa=U&ved=2ahUKEwifuM6WmpOCAxX4p5UCHfgDA5YQxfQBegQIBhAC&usg=AOvVaw0lq7hrJHD3yX3pasEwTNF7',\n",
       " '/url?q=https://finance.yahoo.com/video/gamestop-stock-rises-ryan-cohen-140155496.html&sa=U&ved=2ahUKEwifuM6WmpOCAxX4p5UCHfgDA5YQxfQBegQIABAC&usg=AOvVaw3MtzXpvq1Iyrp-iD7gJoMR',\n",
       " '/url?q=https://finance.yahoo.com/news/usf-health-tampa-general-again-123000669.html&sa=U&ved=2ahUKEwifuM6WmpOCAxX4p5UCHfgDA5YQxfQBegQIAhAC&usg=AOvVaw2LZBdmrxz3VSgDWaAQMp1-',\n",
       " '/url?q=https://finance.yahoo.com/news/20-highest-paying-countries-doctors-141147787.html&sa=U&ved=2ahUKEwifuM6WmpOCAxX4p5UCHfgDA5YQxfQBegQIBBAC&usg=AOvVaw0amQfeK1l9ueJ7zPB7-Y6S',\n",
       " '/url?q=https://ca.finance.yahoo.com/news/market-lessons-what-gamestop-flop-teach-investing-strategy-143742509.html&sa=U&ved=2ahUKEwifuM6WmpOCAxX4p5UCHfgDA5YQxfQBegQIBRAC&usg=AOvVaw3FggK_Jbcp30zse4lt1C75',\n",
       " '/url?q=https://finance.yahoo.com/news/nasdaq-rises-dow-falls-in-seesaw-start-to-q4-stock-market-news-today-200428762.html&sa=U&ved=2ahUKEwifuM6WmpOCAxX4p5UCHfgDA5YQxfQBegQIAxAC&usg=AOvVaw25YmQKVyMPBdY4FholILbC',\n",
       " '/url?q=https://finance.yahoo.com/news/stocks-rise-as-oil-bond-yields-finally-take-a-breather-stock-market-news-today-200406227.html&sa=U&ved=2ahUKEwifuM6WmpOCAxX4p5UCHfgDA5YQxfQBegQICBAC&usg=AOvVaw1UJlG3dMIBUR9cfL0xvN-b',\n",
       " '/url?q=https://finance.yahoo.com/news/introducing-dumb-money-game-changing-220000035.html&sa=U&ved=2ahUKEwifuM6WmpOCAxX4p5UCHfgDA5YQxfQBegQIBxAC&usg=AOvVaw1mTfjppcZwHBYK7g8F5ygb',\n",
       " '/search?q=yahoo+finance+GME&sca_esv=576753509&ie=UTF-8&tbm=nws&ei=Fxc6Zd_QA_jP1sQP-IeMsAk&start=10&sa=N',\n",
       " '/url?q=https://support.google.com/websearch%3Fp%3Dws_settings_location%26hl%3Den-IN&opi=89978449&sa=U&ved=0ahUKEwifuM6WmpOCAxX4p5UCHfgDA5YQty4IUw&usg=AOvVaw0lIwdIAlCik7luXzehrkQC',\n",
       " '/url?q=https://accounts.google.com/ServiceLogin%3Fcontinue%3Dhttps://www.google.com/search%253Fq%253Dyahoo%252Bfinance%252BGME%2526tbm%253Dnws%26hl%3Den&opi=89978449&sa=U&ved=0ahUKEwifuM6WmpOCAxX4p5UCHfgDA5YQxs8CCFQ&usg=AOvVaw1Dk-AgoXoVuouYLssUeJey',\n",
       " 'https://www.google.com/preferences?hl=en-IN&fg=1&sa=X&ved=0ahUKEwifuM6WmpOCAxX4p5UCHfgDA5YQ5fUCCFU',\n",
       " 'https://policies.google.com/privacy?hl=en-IN&fg=1',\n",
       " 'https://policies.google.com/terms?hl=en-IN&fg=1',\n",
       " '/setprefs?hl=en&prev=https://www.google.com/search?q%3Dyahoo%2Bfinance%2BGME%26tbm%3Dnws%26pccc%3D1&sig=0_gDClsu4HKbMXijo8BQyJdfnYeM4%3D&cs=2&sa=X&ved=0ahUKEwifuM6WmpOCAxX4p5UCHfgDA5YQjcAJCFY']"
      ]
     },
     "execution_count": 18,
     "metadata": {},
     "output_type": "execute_result"
    }
   ],
   "source": [
    "raw_urls['GME']"
   ]
  },
  {
   "cell_type": "markdown",
   "metadata": {},
   "source": [
    "## 4.2. Strip out unwanted URLs"
   ]
  },
  {
   "cell_type": "code",
   "execution_count": 19,
   "metadata": {},
   "outputs": [],
   "source": [
    "import re"
   ]
  },
  {
   "cell_type": "code",
   "execution_count": 20,
   "metadata": {},
   "outputs": [],
   "source": [
    "exclude_list = ['maps', 'policies', 'preferences', 'accounts', 'support']"
   ]
  },
  {
   "cell_type": "code",
   "execution_count": 21,
   "metadata": {},
   "outputs": [],
   "source": [
    "def strip_unwanted_urls(urls, exclude_list):\n",
    "    val = []\n",
    "    for url in urls: \n",
    "        if 'https://' in url and not any(exclude_word in url for exclude_word in exclude_list):\n",
    "            res = re.findall(r'(https?://\\S+)', url)[0].split('&')[0]\n",
    "            val.append(res)\n",
    "    return list(set(val))"
   ]
  },
  {
   "cell_type": "code",
   "execution_count": 22,
   "metadata": {
    "collapsed": true
   },
   "outputs": [
    {
     "data": {
      "text/plain": [
       "{'GME': ['https://ca.finance.yahoo.com/news/market-lessons-what-gamestop-flop-teach-investing-strategy-143742509.html',\n",
       "  'https://finance.yahoo.com/news/stocks-rise-as-oil-bond-yields-finally-take-a-breather-stock-market-news-today-200406227.html',\n",
       "  'https://finance.yahoo.com/news/nasdaq-rises-dow-falls-in-seesaw-start-to-q4-stock-market-news-today-200428762.html',\n",
       "  'https://finance.yahoo.com/news/down-19-41-4-weeks-133506409.html',\n",
       "  'https://finance.yahoo.com/news/introducing-dumb-money-game-changing-220000035.html',\n",
       "  'https://finance.yahoo.com/news/usf-health-tampa-general-again-123000669.html',\n",
       "  'https://finance.yahoo.com/news/20-highest-paying-countries-doctors-141147787.html',\n",
       "  'https://www.google.com/search?q%3Dyahoo%2Bfinance%2BGME%26tbm%3Dnws%26pccc%3D1',\n",
       "  'https://finance.yahoo.com/video/gamestop-stock-rises-ryan-cohen-140155496.html',\n",
       "  'https://finance.yahoo.com/news/why-gamestop-gme-down-22-153004926.html',\n",
       "  'https://finance.yahoo.com/news/gwti-inks-letter-intent-gme-131500800.html'],\n",
       " 'TSLA': ['https://finance.yahoo.com/news/tesla-q3-earnings-140032243.html',\n",
       "  'https://www.google.com/search?q%3Dyahoo%2Bfinance%2BTSLA%26tbm%3Dnws%26pccc%3D1',\n",
       "  'https://finance.yahoo.com/news/the-road-ahead-gets-bumpier-for-tesla-as-doj-deepens-scrutiny-183208771.html',\n",
       "  'https://finance.yahoo.com/news/tesla-netflix-and-banks-highlight-earnings-rush-the-week-ahead-140003751.html',\n",
       "  'https://finance.yahoo.com/video/musk-turned-little-baby-tesla-173731640.html',\n",
       "  'https://finance.yahoo.com/news/porsche-joins-tesla-in-warning-about-high-rates-181123085.html',\n",
       "  'https://finance.yahoo.com/news/time-buy-recent-dip-teslas-005400771.html',\n",
       "  'https://finance.yahoo.com/news/dip-buyers-flock-tesla-bull-191150092.html',\n",
       "  'https://finance.yahoo.com/news/elon-musk-lost-fortune-tesla-113844160.html',\n",
       "  'https://uk.finance.yahoo.com/news/tesla-stock-almost-50-off-063500435.html',\n",
       "  'https://finance.yahoo.com/news/elon-musk-acted-little-baby-160535804.html'],\n",
       " 'BTC': ['https://finance.yahoo.com/video/spot-bitcoin-etf-could-mean-204307210.html',\n",
       "  'https://finance.yahoo.com/news/end-crypto-winter-093926791.html',\n",
       "  'https://www.marketpulse.com/newsfeed/btc-usd-is-bitcoin-back/emoya',\n",
       "  'https://finance.yahoo.com/news/grayscale-gets-court-order-fight-190431100.html',\n",
       "  'https://finance.yahoo.com/news/bitcoin-spot-etf-delays-flood-130000481.html',\n",
       "  'https://finance.yahoo.com/news/arthur-hayes-says-btc-rallying-053200278.html',\n",
       "  'https://finance.yahoo.com/news/bitcoin-solana-borroe-finance-among-142516987.html',\n",
       "  'https://www.google.com/search?q%3Dyahoo%2Bfinance%2BBTC%26tbm%3Dnws%26pccc%3D1',\n",
       "  'https://uk.finance.yahoo.com/news/why-bitcoin-prices-doubled-since-163341266.html',\n",
       "  'https://finance.yahoo.com/news/bitcoin-surged-above-35000-to-highest-level-since-2022-141522816.html',\n",
       "  'https://finance.yahoo.com/news/globalecrypto-revolutionizes-bitcoin-acquisition-strategies-183000829.html']}"
      ]
     },
     "execution_count": 22,
     "metadata": {},
     "output_type": "execute_result"
    }
   ],
   "source": [
    "cleaned_urls = {ticker:strip_unwanted_urls(raw_urls[ticker], exclude_list) for ticker in monitored_tickers}\n",
    "cleaned_urls"
   ]
  },
  {
   "cell_type": "markdown",
   "metadata": {},
   "source": [
    "## 4.3. Search and Scrape Cleaned URLs"
   ]
  },
  {
   "cell_type": "code",
   "execution_count": 23,
   "metadata": {},
   "outputs": [],
   "source": [
    "def scrape_and_process(URLs):\n",
    "    ARTICLES = []\n",
    "    for url in URLs: \n",
    "        r = requests.get(url)\n",
    "        soup = BeautifulSoup(r.text, 'html.parser')\n",
    "        paragraphs = soup.find_all('p')\n",
    "        text = [paragraph.text for paragraph in paragraphs]\n",
    "        words = ' '.join(text).split(' ')[:350]\n",
    "        ARTICLE = ' '.join(words)\n",
    "        ARTICLES.append(ARTICLE)\n",
    "    return ARTICLES"
   ]
  },
  {
   "cell_type": "code",
   "execution_count": 24,
   "metadata": {},
   "outputs": [
    {
     "data": {
      "text/plain": [
       "{'GME': ['Dovish comments from Fed officials on effects of bond yield surge helping support mood Market Lessons is a series that explores the biggest wins, losses and lessons across a variety of investor experiences. We spoke to Rob Khazzam, chief executive officer and co-founder of Float, a Canadian fintech startup. A few years before the infamous GameStop (GME) short squeeze of January 2021 – the one that would be a part of what is known as the meme stock phenomenon – Khazzam saw opportunity with the video game retailer. He had previous success investing in GameStop, first buying shares in the company in 2010 and selling them three years later, tripling his investment. Khazzam bought shares again in 2017. The company was struggling, but still \"generating a decent amount of cash flow,\" Khazzam said. He thought the business was undervalued and viewed it as an opportunity. \"They were trading at a very low multiple of their earnings,\" he told Yahoo Finance Canada in an interview. \"The price seemed so low that it felt like even at a moderate outcome for the company, you could still make a lot of money. I bought it at a time where I didn\\'t anchor to this idea of buying great businesses. I bought an average business, for a phenomenal bargain basement price.\" Khazzam hoped for management to take those undervalued assets and look at selling them. Not long after he bought the shares, it looked like that could happen. GameStop announced a strategic review in 2018 that included discussions with third parties about a potential sale of the company. With $820 million in debt on the balance sheet, an analyst told the Wall Street Journal in 2019 that the best path forward involved reducing debt, closing stores and going private. But that didn\\'t happen. Less than a year after it started the strategic review, GameStop ditched its pursuit of a potential sale, citing \"a lack of available financing on terms that would be commercially acceptable to a prospective acquirer.\" \"Unfortunately, GameStop did not have a management team that was willing to deliver shareholder value, so',\n",
       "  'Stocks rallied on Thursday, looking to recover some losses after the Fed\\'s higher-for-longer stance on interest rates drove markets lower over the past week. The S&P 500 (^GSPC) rose about 0.6%, while the Dow Jones Industrial Average (^DJI) rose about 0.3%. The tech-heavy Nasdaq Composite (^IXIC) led the gains, rising 0.8%. With the question of whether the Fed can nail a \"soft landing\" for the economy still a key debate, a fresh estimate for second quarter GDP came in unchanged at 2.1%. Also, official figures showed jobless claims last week rose slightly from the week prior to 204,000, compared with 215,000 expected. And data from the National Association of Realtors showed pending home sales\\xa0for August plunged 7.1% down from a 0.9% monthly increase in July. The Federal Reserve\\'s message that rates will remain higher for longer has rattled markets, though stocks are showing some resilience after several days of steep losses. In bonds, the rapid rise in the 10-year Treasury yield (^TNX) cooled off slightly, but still remained near 4.6%. Both markets are under pressure from the surge in the price of oil, which hit fresh 2023 highs on Wednesday and is up over 35% since the end of June. That increase is seen as likely to drive up fuel prices, posing a challenge to the Fed\\'s efforts to cool inflation — and in turn to the chances of a rate cut. Oil prices turned lower on Thursday, as West Texas Intermediate futures (CL=F) fell under $92 a barrel after topping $95 earlier in the morning. Brent crude futures (BZ=F) were lower around $95, having neared $97 in the session. Friday brings the week\\'s data highlight, the reading on PCE inflation, the Fed\\'s preferred gauge. However, some believe it won\\'t be persistent price increases that prompt central bankers to act, but insatiable American shoppers and an economy that stays too hot. In individual stocks, shares of Micron (MU) fell more than 4% after the chipmaker said its first quarter loss would be wider than previously forecast. Stocks ended a choppy day of trading in the Green on Thursday as investors',\n",
       "  \"Stocks finished mixed on Monday, with the Nasdaq leading the way to start a new quarter of trading after US lawmakers averted a government shutdown and as closely watched auto deliveries data rolled in. The S&P 500 (^GSPC) turned just above the flatline at the close, and Dow Jones Industrial Average (^DJI) dropped about 0.2%. The tech-heavy Nasdaq Composite (^IXIC) was up roughly 0.7% as Goldman Sachs strategists said valuations in the sector were historically cheap. In a surprise turnabout, Congress on Saturday sealed a last-second deal to sidestep a shutdown that had seemed all but inevitable. That brought some relief to investors concerned by the threat of significant harm to the economy and stock market. But as the agreement brought just a temporary extension to the budgetary wrangling, the relief could be just as short-lived. The major gauges still face other headwinds that helped drag stocks to sharp losses for the quarter and month on Friday, with the Federal Reserve's message that rates will stay higher for longer ringing in investors' ears. Oil prices and Treasury yields (^TNX) are still rising and piling on pressure. The benchmark 10-year yield rose to sit just below 4.7% on Monday, hovering around more-than-15-year highs. Read more: What the Fed rate-hike pause means for bank accounts, CDs, loans, and credit cards On Monday, the ISM Manufacturing Index for September came in at 49. That was above analyst expectations, but readings below 50 suggest a contraction. Also still hanging over markets is the United Auto Workers strike, which was extended to more Ford and GM plants on Friday. A deal between the UAW and Mack Trucks in their dispute on Sunday could provide reason for optimism. Auto companies report deliveries for the third quarter this week, which should help the market gauge the impact of the strike action. Shares in Tesla (TSLA) reversed an early decline after the EV maker undershot analysts' estimates for deliveries, while rival Rivian's (RIVN) stock was also in focus as its figures beat expectations. Elsewhere, the World Bank slashed its outlook for China's growth in 2024, even as it\",\n",
       "  \"GameStop (GME) has been on a downward spiral lately with significant selling pressure. After declining 19.4% over the past four weeks, the stock looks well positioned for a trend reversal as it is now in oversold territory and there is strong agreement among Wall Street analysts that the company will report better earnings than they predicted earlier. How to Determine if a Stock is Oversold We use Relative Strength Index (RSI), one of the most commonly used technical indicators, for spotting whether a stock is oversold. This is a momentum oscillator that measures the speed and change of price movements. RSI oscillates between zero and 100. Usually, a stock is considered oversold when its RSI reading falls below 30. Technically, every stock oscillates between being overbought and oversold irrespective of the quality of their fundamentals. And the beauty of RSI is that it helps you quickly and easily check if a stock's price is reaching a point of reversal. So, by this measure, if a stock has gotten too far below its fair value just because of unwarranted selling pressure, investors may start looking for entry opportunities in the stock for benefitting from the inevitable rebound. However, like every investing tool, RSI has its limitations, and should not be used alone for making an investment decision. Here's Why GME Could Experience a Turnaround The RSI reading of 29.62 for GME is an indication that the heavy selling could be in the process of exhausting itself, so the stock could bounce back in a quest for reaching the old equilibrium of supply and demand. The RSI value is not the only factor that indicates a potential turnaround for the stock in the near term. On the fundamental side, there has been strong agreement among the sell-side analysts covering the stock in raising earnings estimates for the current year. Over the last 30 days, the consensus EPS estimate for GME has increased 30.8%. And an upward trend in earnings estimate revisions usually translates into price appreciation in the near term. Moreover, GME currently has a Zacks Rank #1 (Strong Buy), which means\",\n",
       "  'CALIFORNIA CITY, CA, Oct. 03, 2023 (GLOBE NEWSWIRE) -- In a world where traditional finance has left many feeling like mere spectators, a group of passionate individuals decided it was time to take matters into their own hands. Inspired by the GameStop saga that captivated the world, they proudly embraced the label of \"APE\" and embarked on a mission to reshape the financial landscape. Today, Dumb Money, a crypto project on the Ethereum Chain, is unveiled to the public, poised to revolutionize the way investments are perceived.  The GameStop saga served as a rallying point for a new generation of investors who chose to be called \"APES.\" This term gained fame in the crypto world, symbolizing a united community\\'s strength against conventional markets. Drawing inspiration from this movement, some of these \"APES\" from Reddit and GameStop decided to code their own project Dumb Money ($GME) , a symbol of community unity against traditional financial systems.  As part of this revolutionary journey, Dumb Money is proud to announce the launch of the DumbMoney Movie, an event that promises to make waves on Twitter. The community behind Dumb Money believes that their collective strength will propel them to new heights of popularity and connection within the crypto world.  Dumb Money\\'s mission is clear: to bring together every \"APE\" on Earth, gather all the \"degens,\" and elevate everyone together. This community is here to disrupt the system and turn the financial market on its head. Imagine sharing stories of massive gains from $GME, not from traditional stocks, but from the Ethereum blockchain. It\\'s a thrilling vision, and Dumb Money aims to make it a reality.  With an experienced and passionate team, dedicated moderators, professional developers and a community that lives by the mantra of ‘HODL’, Dumb Money is well on its way to the moon and beyond.  For more information and to get involved, please visit the official resources:  Website:\\xa0https://www.dumbmoneytoken.vipTelegram:\\xa0https://t.me/DumbMoneyERCTwitter:\\xa0https://twitter.com/DumbMoneyERC  Disclaimer:The information provided in this release is not investment advice, financial advice, or trading advice. It is recommended that you practice due diligence (including consultation with',\n",
       "  'New anesthesiology residency program will train future physicians in crucial specialty TAMPA, Fla., Oct. 25, 2023 /PRNewswire/ -- USF Health Morsani College of Medicine and Tampa General Hospital today announced the launch of a new medical residency training program in anesthesiology. The new anesthesiology residency program is based in the USF Health Morsani College of Medicine (MCOM) at the University of South Florida and is accredited by the Accreditation Council for Graduate Medical Education. Residents in the four-year program will work at Tampa General Hospital and other TGH locations throughout the Tampa Bay region and be trained by USF Health faculty. Recruitment for applicants to the inaugural class has already begun. The anesthesiology residents will add to the training positions already in place in MCOM\\'s Graduate Medical Education (GME) program. As the new anesthesiology residency positions fill to 48 physicians – with 12 residents in each of the four years of training – USF Health\\'s GME program will expand to support more than 780 residents and fellows in nearly 70 specialty programs. \"Our new anesthesiology residency program will help us address a national shortage of both anesthesiologists and residency positions to train future physicians in this crucial specialty,\" said Charles J. Lockwood, MD, MHCM, executive vice president of USF Health and dean of the USF Health Morsani College of Medicine. \"We are delighted that Tampa General Hospital is collaborating with us to further expand our GME programs across a wide variety of specialties to ensure the most advanced care to the next generation of Floridians.\" Dr. Lockwood is also executive vice president and chief academic officer of Tampa General Hospital. \"This new anesthesiology residency program at Tampa General is an incredible opportunity for residents to train under the supervision of some of the nation\\'s leading physicians,\" said John Couris, president and CEO of Tampa General Hospital. \"In partnership with USF Health Morsani College of Medicine, we\\'re continuing to expand training opportunities, strengthening the pipeline of talent to our region, and contributing to the exceptional care offered at Tampa General now and for years to come. At the same time, we',\n",
       "  \"In this article, we will look at the 20 highest-paying countries for doctors. We have also discussed the global healthcare market and key players. If you want to skip our detailed analysis, head straight to the 5 Highest Paying Countries for Doctors.\\xa0 The global healthcare services market reached nearly $8 trillion\\xa0in 2023, growing at a 6.3% CAGR from 2022. The market is projected to reach close to $10 trillion by 2027, with a 5.3% CAGR.\\xa0 HCA Healthcare Inc (NYSE:HCA), one of the key players in US healthcare, has responded proactively to the growing physician shortage in the United States. They welcomed 2,006 new residents and fellows to their Graduate Medical Education (GME) program in 2023. This initiative is crucial as estimates project a huge national shortage, potentially ranging from 37,800 to 124,000 physicians by 2034. HCA Healthcare Inc (NYSE:HCA)’s investment in medical education is an important step towards mitigating this crisis. It is worth highlighting that HCA Healthcare owns some of the best for-profit hospitals in the US. In addition to addressing the physician shortage, HCA Healthcare Inc (NYSE:HCA) has engaged in strategic deals and collaborations in the healthcare market. Notably, despite regulatory hurdles, they sold three Louisiana hospitals for $150 million and explored mergers with organizations like Catholic Medical Center in New Hampshire and the acquisition of Wise Health System in Texas.\\xa0 According to Glassdoor, the estimated salary for a Physician at HCA Healthcare Inc (NYSE:HCA) is $214,652 per year.\\xa0 On the other hand, another key player, Community Health Systems Inc (NYSE:CYH), has committed itself to its workforce through initiatives like the Pathways Program, which paid $6.5 million in student loan payments for over 2,500 employees and covered $1.1 million in healthcare license fees. The company's investments in 2022, totaling $475 million, improved healthcare accessibility.\\xa0 Owing to the rise of telemedicine, Community Health Systems Inc (NYSE:CYH) has improved patient outcomes by implementing a remote patient monitoring (RPM) program to manage chronic diseases. It is worth mentioning that the results have been impressive, with over 60 clinics, 120 participating providers, and more than 3,000 actively enrolled patients. Patient engagement has\",\n",
       "  '© 2023 - Privacy - Terms',\n",
       "  'Thank you for your patience. Our engineers are working quickly to resolve the issue.',\n",
       "  \"It has been about a month since the last earnings report for GameStop (GME). Shares have lost about 22.1% in that time frame, underperforming the S&P 500. Will the recent negative trend continue leading up to its next earnings release, or is GameStop due for a breakout? Before we dive into how investors and analysts have reacted as of late, let's take a quick look at its most recent earnings report in order to get a better handle on the important catalysts. GameStop posted second-quarter fiscal 2023 results, delivering a narrower-than-expected loss per share and better-than-expected revenues. The top and bottom lines increased from their respective year-ago quarter’s reported figures. GameStop posted an adjusted loss of 3 cents per share in second-quarter fiscal 2023, narrower than the Zacks Consensus Estimate of a loss of 15 cents. The company had incurred an adjusted loss per share of 35 cents in the prior year quarter.GME reported net sales of $1,163.8 million, which surpassed the Zacks Consensus Estimate of $1,143 million. Also, the metric increased from $1,136 million reported in the year-ago fiscal quarter. Management highlighted that a significant software release and increased sales of new gaming hardware in international segments contributed to the top-line growth, partially offset by a decline in sales of collectibles.By sales mix, hardware and accessories sales inched up to $597 million from $596.4 million reported in the year-ago quarter. Software sales came in at $397 million, up from $316.4 million in the prior year quarter. Sales in the collectibles unit amounted to $169.8 million compared with $223.2 million reported in the year-ago quarter. Gross profit increased to $305.9 million from $282.2 million in the year-ago fiscal quarter. Selling, general and administrative (SG&A) expenses declined to $322.5 million from $387.5 million reported in the year-ago quarter. As a percentage of net sales, SG&A expenses came in at 27.7%, down from 34.1% reported in the year-ago period.The company’s adjusted operating loss was $20.7 million in the reported quarter. It had reported an adjusted operating loss of $106.2 million in the prior-year fiscal period. Adjusted EBITDA was $1 million compared with\",\n",
       "  'ARLINGTON, Texas, Oct. 20, 2023 (GLOBE NEWSWIRE) -- Greenway Technologies, Inc. (OTCQB: GWTI), (“Greenway”), an advanced gas-to-liquids (“GTL”) and gas-to-hydrogen (“GTH”) technology development company, announces a Letter of Intent (“LOI”) agreement to manufacture and deliver two patented GWTI G-Reformer® units (“G-Reformers®”) to GME Hydro LP (“GME Hydro”) for the purpose of converting natural gas (CH4) to hydrogen (H2) for use in an electrical power generation system. Greenway’s two G-Reformer® units, configured to produce approximately 10,800 Kg of carbon-free hydrogen, to fuel reciprocating generators sufficient to generate 10 Megawatts of electricity. Under the plan outlined in the LOI, GME Hydro will purchase, install, and operate the two G-Reformer® units at its Johnstown, PA facility, where the company has access to on-site pipelines and renewable natural gas. By combining incoming natural gas with 25% renewable natural gas, the project is expected to be eligible for Federal Clean Air Credits. GME Hydro will deploy Greenway’s proprietary technology to achieve its goal of a low-cost, on-site clean hydrogen production solution with no atmospheric carbon, as G-Reformer® units are compatible with processes that separate carbon from its only production bi-product, CO2. The liquified carbon will be sold to provide additional revenue and offset operating costs. In conjunction with the execution of the LOI, GME Hydro has elected to make an investment in GWTI through the purchase of restricted stock. In a statement, Ray Wright, co-founder and chairman of the board of Greenway, said, “Greenway Technologies has been working closely with the University of Texas at Arlington to develop and patent processes and procedures to perfect innovative and clean gas-to-hydrogen solutions. Hydrogen shows great promise as a fuel but adoption has been limited due to the high price of transportation, whether it be by truck, rail, or limited pipeline infrastructure. Since natural gas is abundantly available at numerous locations, the winning hydrogen solution had to be one that could perform the hydrogen creation at the final use site without carbon generation into the atmosphere. Existing hydrogen-creation processes are either non-scalable, carbon-generating, or too expensive to be practical. With our technology, each full-sized G-Reformer® can be transported'],\n",
       " 'TSLA': ['Tesla stock (TSLA) sank 9.3% to its lowest level in nearly two months, after the electric vehicle maker missed on earnings and CEO Elon Musk\\'s concerns about the global economy, future of its Mexico Gigafactory, and challenging Cybertruck ramp-up weighed on shares. For the third quarter, Tesla reported top-line revenue of $23.4 billion, missing analysts\\' estimates of $24.06 billion; however, revenue did climb 13% from a year ago. From a profitability standpoint, Tesla reported adjusted earnings per share (EPS) of $0.66 versus $0.74 expected and adjusted net income of $2.3 billion versus $2.56 billion expected. The drop in profitability could be attributed to expected downward pressure on margins since Tesla began its cost-cutting efforts late last year. Tesla reported a Q3 gross margin of 17.9%, slightly missing Wall Street estimates of 18.0%. Last quarter Tesla reported a gross margin of 18.2%. \"The quarter itself delivered auto [gross margin] (ex credits) of 16.3% vs. the Street at 17.6% with margins that should stabilize over the coming quarters however Tesla is not committing to the end of price cuts and that is a big problem and overhang for the stock in the near-term,\" Wedbush analyst Dan Ives wrote in a note published Thursday morning. Wedbush lowered its Tesla price target to $310 from $350 following Q3 earnings. Looking ahead to future products, Tesla revealed Cybertruck deliveries remain on track for later this year, with deliveries beginning on Nov. 30. On the conference call, Musk said it would take a year to 18 months before the Cybertruck would be cash-flow positive and that by 2025 he expected a production run rate of 250,000 units a year. Musk added that Tesla would face \"enormous challenges\" in reaching volume production of the Cybertruck. \"We believe the 3Q report will add to near-to-intermediate term investor concerns given company commentary that the current macro backdrop/higher rates could gate its growth (including how quickly it ramps factories), and comments that the initial Cybertruck ramp could be slow,\" Goldman Sachs analyst Mark Delaney wrote in a note to investors. Delaney subsequently lowered his Tesla price target to $235 from',\n",
       "  '© 2023 - Privacy - Terms',\n",
       "  'The road ahead is looking bumpier for Tesla (TSLA). Days after reporting earnings that landed below Wall Street\\'s expectations, the EV maker disclosed that its automated driving systems are under deepening federal scrutiny. In a filing Monday with the Securities and Exchange Commission, Tesla said it had received requests from the Justice Department that included subpoenas asking it to turn over documents relating to its autopilot and full self-driving features. Tesla said it also received requests for information, \"including subpoenas,\" on a wide range of other issues \"regarding certain matters associated with personal benefits, related parties, vehicle range, and personnel decisions.\" In August, the Wall Street Journal reported that federal prosecutors were looking into concerns that Tesla’s company funds may have been used to create a glass house commissioned by CEO Elon Musk. The company didn\\'t say in its filing whether the glass house was among the issues under scrutiny by the Justice Department. The Justice Department’s requests for information concerning Tesla’s autopilot and self-driving features were disclosed by the company in January. The new revelation Monday that the agency had used its subpoena power suggests it has launched more serious inquiries. The company didn’t offer additional details on the nature of the subpoena requests, but said \"to our knowledge no government agency in any ongoing investigation has concluded that any wrongdoing occurred.\" Reuters and other news organizations have reported that Tesla’s vehicles frequently fail to drive as far on a full charge as the company represents. Last year, Reuters also reported that federal prosecutors had launched a criminal investigation into Musk’s statements as far back as 2016 concerning Tesla \"self-driving\" features. On its website Tesla specifically states that its vehicles are not self-driving and that features like automatic braking and lane correction are intended for \"fully attentive drivers\" whose hands are on the wheel at all times. The new probes deepen legal entanglements for the vehicle manufacturer, as it tries to recover from earnings reported on Wednesday that missed analysts’ expectations. For its third quarter, Tesla reported top-line revenue of $23.4 billion, a result that fell short of analyst',\n",
       "  'After weeks of Fed speak and rising yields driving stock action, corporate earnings will take center stage in the week ahead. Results from Bank of America (BAC) and Goldman Sachs (GS) will provide a look at how the financial sector is responding to the rising rate environment. Meanwhile, Tesla and Netflix will highlight the start of tech earnings. A September retail sales report is expected to show minor growth amid an otherwise quiet week for economic data. Recent economic data showed inflation cooling enough for the market to bet that the Fed won\\'t\\xa0raise interest rates at its November meeting but stocks still struggled to find solid footing as rising geopolitical risks and the fallout from higher for longer interest rates continue to cloud the picture. In the past week, the Nasdaq (^IXIC) fell nearly 0.2% while the benchmark S&P 500 (^GSPC) rose almost 0.5% and the Dow Jones Industrial Average (^DJI) popped about 0.8%. Inflation data out last week showed cooling price increases under the surface. The data left markets optimistic on a rate pause in November as Fed officials expressed that higher yields could provide necessary monetary tightening and effectively take the place of another interest rate hike. But combined with a hot September jobs report, there isn\\'t a broad consensus that the Fed is done hiking altogether. \"Continued strength in the labor market could lead to persistence in wage growth and forestall declines in consumption growth, which would leave price pressures elevated and growth above trend,\" Oxford Economics\\' team of economists wrote in a research note on Thursday. \"With the Fed committed to returning inflation back to its long-run target of 2%, this would raise the odds of rate increases this year, extend the duration of restrictive monetary policy, and increase the chances of a recession occurring down the road.\" The impact of the Federal Reserve\\'s interest rate hikes on corporate America are expected to once again be a key focus during third quarters earnings season. And at first reading, major financial institutions are holding up, as JPMorgan Chase (JPM), Citigroup (C), and Wells Fargo (WFC) all reported',\n",
       "  'Thank you for your patience. Our engineers are working quickly to resolve the issue.',\n",
       "  'German luxury brand Porsche (P911.DE) and EV stalwart Tesla (TSLA) make strange bedfellows, unless it comes to warning about high interest rates crimping demand. Following the release of its year-to-date Q3 financial results, Porsche warned that inflation and the effect of high rates were a concern. \"Governments increased interest rates heavily ... that creates a situation where customers are quite reluctant [to invest in] a new product,\" Porsche CFO Lutz Meschke said in a call with reporters. Prior to Porsche\\'s warning, Tesla CEO Elon Musk railed against the effect of high rates during the EV maker’s Q3 earnings conference call last week. “If interest rates remain high or if they go even higher, it\\'s that much harder for people to buy the car. They simply can\\'t afford it,” Musk said, repeating multiple times that higher rates, including high credit card rates, were a big concern. “There’s going to be a broken record on the interest front. It\\'s just the interest rates have to come down. Like if interest rates keep rising, you just fundamentally reduce affordability,” Musk added. Porsche also warned about a region that is of high concern to Tesla: China. “In 2024, we expect a challenging year due to the geopolitical situation and the economy in China,” Porsche’s Meschke said. Meschke also had warnings for the larger luxury sector. \"It is also hitting the luxury industry — you can follow it when it comes to share price development of all luxury retailers worldwide,\" he said, alluding to the share prices of luxury brands like LVMH, Richemont, and Kering. Despite these warnings, Porsche confirmed its forecast for the current financial year. Porsche expects global sales revenue in the range of 40 to 42 billion euros ($42.3 billion - $44.4 billion), with a return on sales (a metric similar to operating margin) of 17-19%, with the caveat that global economic conditions do not worsen. In the long run, Porsche said it is aiming for an operating return on sales of more than 20%. Porsche said high demand and “positive product mix and price effects” boosted results and its prospects for',\n",
       "  \"Growing rumors that Tesla TSLA\\xa0boss Elon Musk was visibly upset after the company missed its third quarter top and bottom-line expectations last Wednesday may have investors on edge about buying TSLA shares after the recent dip. Tesla’s stock has dropped -12% since its Q3 report but is still up +72% for the year to largely outperform the broader market and many of its automaker peers including General Motors’\\xa0GM\\xa0-13% and Ford’s F\\xa0-1%.  Let's see if the recent dip in Tesla’s stock is indeed a buying opportunity with the company still having a wide lead in the domestic EV market ahead of runner-ups General Motors and Ford. Image Source: Zacks Investment Research Q3 Review Having a week to digest Tesla’s Q3 results has been critical for many investors with earnings coming in at $0.66 a share and -8% below the Zacks Consensus of $0.72 per share. On the top line, Q3 sales of $23.35 billion missed expectations by -4%. Image Source: Zacks Investment Research Strongly correlated to the recent dip in Tesla’s stock is that Q3 earnings fell -37% from EPS of $1.05 in the prior-year quarter. This was indicative of price cuts in the company’s EV lineup as Tesla has planned to prioritize affordability amid a challenging macroeconomic environment. However, Q3 sales did rise 9% from a year ago with deliveries of 435,059 vehicles soaring 26% YoY despite missing Zacks estimates by roughly -1%. Image Source: Zacks Investment Research Growth & Valuation Tesla still expects to deliver 1.28 million vehicles this year and according to Zacks estimates earnings are now forecasted to dip -18% in fiscal 2023 at $3.34 a share but rebound and soar 31% in FY24 to $4.37 per share. Being the clear-cut leader and innovator in its space, it’s important to note that TSLA trades at 63.5X forward earnings after last week’s selloff which is well below its extreme highs over the last five years and a 26% discount to the median of 86.3X. Image Source: Zacks Investment Research Total sales are forecasted to jump 21% this year and climb another 23% in FY24 to $121.78 billion.\",\n",
       "  'By Bansari Mayur Kamdar (Reuters) - Investors piled into a leveraged exchange traded fund that bet on upside in Tesla\\'s shares as the company\\'s stock price sank following a weaker-than-expected earnings report. The Direxion Daily TSLA Bull 1.5X Shares ETF, the largest single-stock ETF for bullish bets on Tesla\\'s shares, saw net daily inflows of $24.9 million on Thursday, according to Lipper data. The inflows came as the $833 million fund - which seeks to track 150% of Tesla\\'s daily stock price performance - fell 14% on Thursday, while Tesla\\'s shares fell 9.3% to a two-month low the day after CEO Elon Musk warned that high interest rates could sap demand for electric vehicles. The fund\\'s shares were down 4% on Friday. \"Tesla has its fair share of bulls – and bears – so guessing the bulls are attempting to view this earnings release as a speed bump and using any weakness here to add exposure to positions,\" said Todd Sohn, ETF and technical strategist at Strategas Securities. The leveraged Direxion fund has seen net inflows of $501 million so far this year and has doubled in price year-to-date. Tesla\\'s shares are up 72.3% this year. Tesla was also the most-bought stock among retail traders on Thursday, with net buys of $159.5 million, according to data from Vanda Research. On the other side, two ETFs bearish on Tesla, the $58 million Direxion Daily TSLA Bear 1X Shares ETF and the $109.6 million AXS TSLA Bear Daily ETF, saw net outflows of over $1 million each. Both funds climbed more than 9% on Thursday and were up 2.4% each on Friday. Rex Shares and Tuttle Capital Management launched a suite of hyper-levered single-stock exposure funds on Thursday, including the T-REX 2X Long Tesla Daily Target ETF, the T-REX 2X Inverse Tesla Daily Target ETF. (Reporting by Bansari Mayur Kamdar in Bengaluru; Editing by Ira Iosebashvili and Leslie Adler)',\n",
       "  'October hasn’t gone swimmingly for Elon Musk and Tesla. In fact, last week the company charted its worst performance on Wall Street this year. But according to legendary investor Cathie Wood that’s precisely why the company will endure: When faced with tough times, its CEO, Musk, comes back swinging. Wood, the CEO of ARK Invest, has remained a backer of EV maker Tesla where other investors have lost faith: The auto manufacturer is still ARK’s biggest holding. Wood justifies her support of Musk on account of his “troubleshooting” abilities, and dismissed fears that the richest man on earth is spreading himself too thin. Musk, who purchased social media platform X—formerly known as Twitter—for $44 billion in October last year, has concerned some Tesla investors who feared his attention has been overly drawn to the site. Wood acknowledged that X was facing challenges, potentially drawing Musk’s focus on occasion, but insisted it was no cause for concern. “Elon is a troubleshooter,” Wood told CNBC’s ETF Edge last week. “The troubles at X are not over yet…These difficult times, though, spur Elon’s creativity. He is a troubleshooter and a brilliant technologist.” The Israel-Hamas war has prompted warnings from advertisers and governments alike, telling social media sites to be vigilant on content moderation and step in to stop the spread of misinformation. But such challenges, Wood said, just push Musk further: “We think that each time [Musk] does face turmoil like this, the intensity of his brain cells takes him to new answers.” Wood’s theory on Musk’s bounce back may be tested sooner rather than later. Just days after Wood doubled down on her support for Tesla, Musk hosted a less-than-buoyant Q3 earnings call, during which he issued warnings about the state of the economy and the costs facing consumers. Tesla closed last week at $211.99 after posting its lowest quarterly earnings per share in two years at 66 cents, a figure that lagged consensus estimates by 10%. The update spooked Wall Street—by 10:45 a.m. on Oct. 20, a little over one trading day after Tesla announced earnings, the stock was hovering around',\n",
       "  \"Vertex AI harnesses Google's datasets and online networks to create bespoke apps, says Google senior product director  Anyone buying Tesla (NASDAQ: TSLA) stock for the first time a little over two years ago could be forgiven for thinking that its value was only going one way. Since that time, however, it’s been a rollercoaster ride. As things stand, the share price is nearly 50% off its all-time high. Should I be regarding this as a wonderful chance to finally load up? From the outset, it’s important to put this drop in context. While no doubt frustrating for loyal holders, Tesla is still far above the 52-week low set in January of just over $100. That followed a period in which many in the market jettisoned anything vaguely tech-related from their portfolios. Galloping interest rates, supply chain issues and ongoing conflict in Ukraine were among the catalysts. Since then, the stock has bounced, partly due to the frenzy of excitement surrounding AI. That said, the performance over October so far has been poor, largely due to last week’s disappointing Q3 earnings announcement. Revenue came in 3% lower than expected. The number of vehicles being delivered (a little over 435,000) was also below that forecast and 6% down on Q2. As experienced Fools know, this is the problem with any company that trades on a high valuation — there’s always the prospect of any profits being quickly wiped out if the execution is anything but perfect. Of course, talking about past performance only gets us so far. As Foolish investors, we need to be forward-looking — just like the market itself. So, what might get the Tesla share price moving in the right direction again? Well, evidence of a smooth rollout of its new Cybertruck model next month will help. That’s despite Elon Musk already warning that it might take a year-and-a-half before this vehicle is a “significant positive cashflow contributor“. I also reckon further progress in the company’s clean energy division (which includes both storage and solar) may provide a boost. After all, revenue growth here has been higher than\",\n",
       "  'Financial analyst Kevin Paffrath criticized Elon Musk\\'s comments on Tesla\\'s recent earnings call. He said Musk blamed the EV maker\\'s struggles on economic factors instead of \"coming up with a plan.\" Tesla\\'s third-quarter results\\xa0fell short of analysts\\' expectations. It\\'s now clear that Tesla\\'s third-quarter earnings call on Wednesday didn\\'t exactly go as expected. CEO Elon Musk acted like \"a little baby,\" financial analyst and YouTuber Kevin Paffrath recently told Yahoo Finance. He also described the call as \"terrible\" and said Musk was \"almost in tears\" at one point. \"For a leader to cry about the economy rather than funneling that and coming up with a plan is pathetic,\" said Paffrath, who has almost 1.9 million subscribers on his Meet Kevin YouTube channel,\\xa0and owns Tesla stock. Paffrath pointed to Musk\\'s comments on Tesla\\'s gigafactory in Mexico as an example. The $10 billion endeavor, which Musk confirmed during a meeting with investors in March, would be the company\\'s sixth and most expensive factory to date.Musk suggested at one point on the call that he was delaying the factory in light of rising interest rates, which make borrowing more expensive. \"If interest rates remain high or if they go even higher, it\\'s that much harder for people to buy the car. They simply can\\'t afford it,\" Musk said, pointing to the impact on monthly car loan payments. But Paffrath slammed Musk\\'s response, saying the Tesla CEO was \"afraid,\" and suggested that Musk should negotiate a better deal with the Mexican government or potentially \"advertise to higher-income areas.\" Paffrath has previously called on Tesla to promote its products to non-fans. \"We need to know the light is at the end of the tunnel rather than hearing a complaining CEO who\\'s not actually providing that path,\" he told Yahoo Finance. Tesla reported weaker than expected third quarter results, with both earnings per share and revenue of $23.35 billion falling short of analysts\\' estimates. Shares in the EV maker fell 15% in the past week, valuing the company at $664 billion, but the stock is still up 96% this year. Paffrath is far from the only'],\n",
       " 'BTC': ['Thank you for your patience. Our engineers are working quickly to resolve the issue.',\n",
       "  'Navigating the Recent Market Shifts Victoria, Seychelles --News Direct-- Bitget Introduction The crypto markets are buzzing with activity, fueled by a recent BTC price rally. What catalysts lie behind this surge? Does this signal the end of the often-talked-about \\'Crypto Winter\\'? And importantly, what does it mean for investors? Mention \\'Crypto Winter\\' and the imagery evokes visions of dwindling cryptocurrency values and fading investor enthusiasm, much akin to the stock market\\'s bearish phase. Yet, history suggests that while crypto winters are characterized by starck price drops, the savvy investor who remains attuned to market nuances may discover opportunities even in such frosty phases. Unraveling the Shift: Deciphering Recent Crypto Moves Within the last 48 hours, Bitcoin\\'s value has surged by an impressive 12%, not only breaching the crucial $32k threshold but also scaling up to $35k at its highest peak. This momentum breaks away from a year of stagnation, hinting at the possibility of crypto winter\\'s wane. And while Bitcoin remains the bellwether, its rally resonates across the altcoin spectrum, reaffirming Bitcoin\\'s overarching influence. The sudden market surge is driven by the news that \"BlackRock may start preparing seed funding for Bitcoin spot ETF this month. BlackRock\\'s Bitcoin spot ETF has already been listed with the Depository Trust & Clearing Corporation (DTCC), marking a crucial step in the listing of Bitcoin spot ETFs.\" Spot Bitcoin ETFs are highly significant because they reduce investment costs, increase liquidity, enhance price tracking efficiency, and meet stricter regulatory requirements. They expand the accessibility and acceptance of Bitcoin, particularly for retail and institutional investors, providing a more convenient and direct investment channel. The influx of significant new capital into the cryptocurrency market is expected to boost the total market capitalization of the crypto world. In this context, both institutional and retail investors have gained tremendous confidence. Bitcoin (BTC): Charting the Journey of the Crypto Titan Bitcoin\\'s trajectory mirrors a rollercoaster. A multitude of factors converge to influence its price: Growing institutional investments. Positive regulatory developments globally. Advancements in blockchain technology and scalability. Speculation and discussions surrounding Bitcoin ETFs. Broader economic elements, such as potential dips',\n",
       "  'Bitcoin is rallying alongside tech stocks as the bond market has a major reversal.\\xa0 Today’s rally that took prices to a three-month high is not about spot Bitcoin ETF optimism but about a significant reversal in the dollar and 10-year Treasury yield.\\xa0 Bitcoin could continue to rally if investors continue expect risk appetite prefers risky assets over Treasuries.\\xa0 The key for Bitcoin won’t just be positive ETF news but will require a peak in rates to be confidently priced in.\\xa0 There is still a risk that investors might prefer stocks versus cryptos.\\xa0 As long as the Fed is done with this hiking cycle and soft landing hopes remain, that should be a positive backdrop for Bitcoin. If Bitcoin is able to rally above the $31,500 level, bullish momentum could support a rally towards the $35,700 region, which is the 38.2% Fibonacci retracement level of the collapse record highs ($68,772) to this cycle’s low ($15,278).   What would really get the crypto world going again is we start to new money become highly committed. Endorsements from Michael Saylor, Elon Musk, or even Cathy Wood will do little to attract new investors.\\xa0 It is unlikely that Bitcoin skeptics will be changing their tune anytime soon. Some bitcoin supporters believe that the next halving in 162 days could potentially be the key catalysts to send Bitcoin back above the $40,000 level.\\xa0 A lot needs to go well for crypto, but at the very least it seems regulation won’t kill the space. Content is for general information purposes only. It is not investment advice or a solution to buy or sell securities. Opinions are the authors; not necessarily that of OANDA Business Information & Services, Inc. or any of its affiliates, subsidiaries, officers or directors. If you would like to reproduce or redistribute any of the content found on MarketPulse, an award winning forex, commodities and global indices analysis and news site service produced by OANDA Business Information & Services, Inc., please access the RSS feed or contact us at info@marketpulse.com. Visit https://www.marketpulse.com/ to find out more about the beat of the global',\n",
       "  '(Bloomberg) -- A federal appeals court formalized a victory for Grayscale Investments LLC in its bid to create an exchange-traded fund based on Bitcoin over the objection of the US Securities and Exchange Commission. Most Read from Bloomberg An Oil Giant Quietly Ditched the World’s Biggest Carbon Capture Plant China Repeats Its View That Israel Must Protect Civilians Hostages and Hezbollah Force Israel to Rethink Gaza Ground War Israel Latest: Biden, Netanyahu Discuss Hostages, US Deployments Disney Said to Near Multibillion-Dollar Deal With Reliance The move sends the matter back to the SEC. The mandate puts into effect the court’s ruling in August, when it overturned the SEC’s rejection of Grayscale’s proposal to convert its trust into an ETF. Judge Neomi Rao called the SEC’s decision “arbitrary and capricious” because the regulator failed to explain why it approved similar products. The SEC had argued that an ETF based on Bitcoin lacked adequate oversight to detect fraud. “The Grayscale team looks forward to continuing to work constructively with the SEC to convert GBTC to an ETF,” Grayscale spokeswoman Jennifer Rosenthal said in a statement. “GBTC is operationally ready, and we intend to move as expeditiously as possible on behalf of our investors.” Approval of the ETFs is seen as a potential watershed moment by digital-asset advocates, who say broader access will lead to mainstream acceptance of what has been viewed by critics as a lightly regulated speculative niche. Industry scandals and bankruptcies such as the collapse of the FTX exchange helped to cut the estimated value of the sector by more than half since late 2021 to around $1 trillion. Bitcoin accounts for about half the total. Bitcoin climbed above $31,000 on Monday for the first time since July amid expectations the mandate will help clear the path for an ETF. The crypto market is closely watching efforts by asset managers to win approval for ETFs. Last week, Bitcoin briefly surged 10%, the highest price since August, on an erroneous report that BlackRock Inc. had won SEC approval for its long-awaited Bitcoin ETF. The move cooled after the world’s biggest money',\n",
       "  'Al Falak St. Dubai Internet City --News Direct-- Bitcoin Spark The cryptocurrency world has been abuzz with anticipation. The potential approval of Bitcoin Spot ETFs could trigger a cascade of demand for cryptocurrencies, particularly Bitcoin (BTC) and Bitcoin Spark (BTCS). Bitcoin ETFs, or Exchange-Traded Funds, have become a hot topic in the crypto space. They offer a regulated pathway for investors to gain exposure to Bitcoin and other cryptocurrencies. The primary appeal of a Bitcoin ETF is its ability to democratize investment in the crypto sector. A Bitcoin ETF could unlock an estimated $600 billion in new demand, based on a report by Bernstein analysts. This figure more than doubles the current market cap of Bitcoin, which stands at approximately $550 billion. However, these estimates are speculative, hinging on factors such as market dynamics, company strategies, and regulatory responses. The U.S. Securities and Exchange Commission (SEC) has been notoriously slow in approving Bitcoin ETFs. Their reluctance has been criticized by many in the investment community. However, there have been recent developments that suggest a change may be on the horizon. The SEC has been directed to reassess its denial of Grayscale’s application for a Bitcoin ETF. This could potentially open up the cryptocurrency market to $600 billion in new investments. Major players in the crypto industry, including Coinbase, are actively lobbying for new rules. They aim to garner support among lawmakers for the introduction of new regulations. These developments underscore the fact that the future of crypto regulations is being hotly contested. The approval of a Bitcoin ETF would be a significant step towards mainstream acceptance of cryptocurrencies. It could pave the way for more regulated and accessible Bitcoin investing, attracting more capital to the crypto market. The potential approval could also have geopolitical implications, setting a precedent for other countries and accelerating global adoption of cryptocurrencies. One important distinction to make is between Bitcoin Spot ETFs and Bitcoin Futures ETFs. A Spot ETF purchases and holds the underlying assets, while a Futures ETF does not. Spot ETFs are generally more popular than their futures counterparts, as they offer a',\n",
       "  \"Arthur Hayes, the co-founder of the BitMEX derivatives exchange, published an essay attributing the crypto market rally to the costs associated with hawkish U.S. foreign policy and not spot Bitcoin ETF anticipation. In an Oct. 24 essay titled The Periphery, Hayes attributed U.S. president Joe Biden’s open-ended commitment to supporting Israel’s war effort against Hamas to the recent surge in the crypto markets. “Added to Ukraine’s tab, America’s military budget is set to truly explode,” Hayes said. “This will increase future government borrowing, and the sky's the limit when it comes to the sums of capital a war can waste.” Hayes said institutional investors already moved to sell off bonds and treasury bills in preparation for expanded U.S. military expenditure and will be seeking returns from new asset classes. “If long-term U.S. Treasury bonds offer no safety for investors, then their money will seek out alternatives,” Hayes said. “Gold, and most importantly, Bitcoin, will begin rising on true fears of global wartime inflation.” Hayes’ comments come after BTC surged 19.5% in seven days, with many pundits attributing the move to progress on BlackRock’s application for an exchange-traded fund (ETF) investing spot in Bitcoin. The combined capitalization of digital assets is up 12.6% over the same period. Hayes noted that gold has been rallying since the conflict broke out in Gaza. Gold is up 8.6% since Oct. 4, last changing hands for $1,975 per ounce, according to Market Index. Read the original post on The Defiant\",\n",
       "  'Miami, Florida --News Direct-- Blockchain Digest With the crypto market finding the right footing based on the bullish momentum being witnessed, Borroe Finance ($ROE), Bitcoin (BTC), and Solana (SOL) are leading the pack based on a couple of reasons. >>BUY $ROE TOKENS NOW<< With more than 115 million $ROE tokens already sold at the presale level, Borroe Finance is stamping its authority in the crypto space because its primary objective is changing the stakes in Web3 financing. $ROE is Borroe Finance’s native token and its adoption rate is going through the roof because in investors’ eyes, it’s a top crypto to buy. Since innovation pays, Borroe Finance is heeding the call by incorporating cutting-edge technologies, such as artificial intelligence (AI), non-fungible token (NFT), and blockchain to streamline the Web3 fundraising process. As a result, Borroe Finance is crafting a name for itself as one of the top DeFi projects because its peer-to-peer platform enables Web3 participants to get immediate cash needed to fund their projects by using their future incomes as collateral. Specifically, the future earnings are minted as NFTs, making revenue buying and selling easier. As a result, Borroe Finance is changing the odds in Web3 financing because one of its primary objectives is lowering the barrier to entry in this field. These factors are making Borroe Finance a top climber in the crypto space, making it one of the altcoins to watch. >>BUY $ROE TOKENS NOW<< When it comes to the question of which crypto to buy today for long-term, Bitcoin is always top of mind for investors as the pioneer cryptocurrency. Despite the ups and downs witnessed in the crypto market, Bitcoin usually gets the upper hand based on the keen eye of both retail and institutional investors. For instance, the optimism engulfing the Bitcoin network about the approval of spot BTC exchange-traded funds (ETFs) by leading asset managers, such as Grayscale and BlackRock, is one of the factors triggering a bullish momentum in the ecosystem. Bitcoin has been trying for months to breach the psychological price of $30,000 in vain, but this fate was recently sealed.',\n",
       "  '© 2023 - Privacy - Terms',\n",
       "  \"The latest investor updates on stocks that are trending on Tuesday The price of Bitcoin has doubled since the start of the year in signs of a resurgence of investor confidence in the cryptocurrency after its value tumbled last year. Bitcoin rose more than 3% today to touch the $34,500 mark. It is up 29% in the past month and up 104% since January, though it remains well down on the $64,400 peak it hit in November 2021. Ethereum has also seen a bounce-back, with its price up 13% in the past month and 49% since the start of the year. A combination of economic and regulatory factors are thought to be behind the lift in investor confidence. Simon Peters, analyst at trading and investment platform eToro, said: “The key driver for this positive price move is the rumoured news around a spot ETF approval last Monday. Although this proved to be 'fake news' it was perhaps a preview or a taster of what is to come should a US based spot bitcoin ETF be approved.” A Bitcoin ETF, or exchange-traded fund, is considered a major boost to the cryptocurrency as it will allow investors who might otherwise be put off from trading speculative digital assets to invest in them via a public stock exchange, expanding Bitcoin’s user base and deepening its liquidity in the process. A number of applications for Bitcoin ETFs, including by investment giant Blackrock, are still awaiting approval. The US securities regulator, had previously rejected similar ETF applications on investor protection grounds. But earlier this week it signalled it would not be appealing a court case which found it was wrong to reject ETF application from crypto company Grayscale. The end of a long run of central bank interest rate rises also appears to be helping push up Bitcoin prices. James Harte, market analyst at Tickmill Group, said: “BTC bulls have also been helped by last week’s comments from Fed chairman Powell. Powell signalled that with yields rising sharply, the Fed might not need to use any further tightening. “While rates are expected to stay at\",\n",
       "  'Bitcoin (BTC-USD) surged above $35,000 in its largest single-day jump in 13 months, fueled by optimism that regulatory approval of the first spot bitcoin exchange-traded fund is nearing. The world’s largest cryptocurrency moved up more than 10% Monday, its biggest increase over a 24-hour period since September 2022. The price reached its highest point in a year and a half. The stocks of digital asset companies also pushed higher. Coinbase (COIN), the largest US crypto exchange, opened 13% higher Tuesday while MicroStrategy (MSTR) rose 12%. Bitcoin mining firms Riot Platforms (RIOT) and Marathon Digital (MARA) surged more than 13% and 17%, respectively. The rally appeared to be driven partly by speculation that the Securities and Exchange Commission was close to granting approval for a spot bitcoin ETF, which would allow investors to get exposure to the cryptocurrency without having to own it. BlackRock (BLK) is among the money managers that have recently applied to launch such a product. Bitcoin backers pointed to the listing of BlackRock’s iShares Bitcoin Trust on the website of clearing house Depository Trust and Clearing Corporation (DTCC), while also cheering a suggestion that BlackRock had begun seeding the fund. A spokesman for DTCC said Tuesday evening that its \"standard practice\" for the company to add securities to its list, which includes \"active and potential\" ETFs, in preparation for the launch of a new ETF to the market and that BlackRock\\'s iShares Bitcoin Trust ETF was added in August 2023. \"Appearing on the list is simply an indication that an agent bank has requested a DTCC identifier for an ETF fund, and that DTCC may process that transaction at an undetermined date,\" said the DTCC spokesman. It \"is not indicative of an outcome for any outstanding regulatory or other approval processes,\" they added. Speculation about BlackRock also drove prices higher last week when a rumor circulated that the SEC had granted its approval for the spot bitcoin ETF. Prices pulled back when BlackRock denied it. Investors expect the agency will rule on the applications by Jan. 10. There is another factor behind this week’s price swings, according',\n",
       "  'GlobaleCrypto is prepared for the upcoming Bitcoin halving event with its cloud mining services, offering an accessible path to Bitcoin ownership. This strategic approach aligns with Bitcoin\\'s rising value and reinforces its scarcity. LONDON, ENGLAND, Oct. 23, 2023 (GLOBE NEWSWIRE) --  As the Bitcoin halving event approaches, a critical turning point in the cryptocurrency world, GlobaleCrypto offers a strategic solution for acquiring BTC. In the realm of digital currencies, Bitcoin\\'s unique supply control mechanism, known as the halving mechanism, periodically reduces mining rewards, ultimately capping the total available bitcoins at 21 million. This mechanism reinforces Bitcoin\\'s scarcity and intrinsic value.  Zack Rios, the manager at\\xa0GlobaleCrypto, shared insights into their strategy: \"Anticipating the increasing demand and potential scarcity of Bitcoin, we proactively invested in a substantial volume of mining machines over a year ago. Our mining farms operate continuously, aiming to acquire as many BTC as possible before the next halving event.\"  However, the high costs associated with purchasing and maintaining mining equipment can be prohibitive for individual investors. Innovative solutions like cloud mining platforms, such as GlobaleCrypto, offer an accessible alternative. By renting computational power from these mining machines, investors can participate in Bitcoin mining without the challenges of direct ownership and maintenance.  The Bitcoin market is experiencing a meteoric rise, recently surpassing the $30,000 mark. This trend, coupled with the impending halving event, underscores the current opportunity for visionary investors to engage with Bitcoin. GlobaleCrypto sweetens the deal by introducing a BTC mining plan that awards new users with $7 worth of BTC, empowering individuals to seize the boundless rewards Bitcoin promises.  As the Bitcoin halving event draws near, GlobaleCrypto\\'s cloud mining services provide an excellent opportunity to be part of the Bitcoin ecosystem\\'s future. By strategically expanding their mining infrastructure over the past year, the company is well-prepared to continue acquiring Bitcoin efficiently. For individual investors, cloud mining through GlobaleCrypto offers an affordable entry into the world of Bitcoin, enabling them to benefit from the cryptocurrency\\'s surging value.  Now, more than ever, it\\'s an exhilarating time for Bitcoin enthusiasts to explore innovative']}"
      ]
     },
     "execution_count": 24,
     "metadata": {},
     "output_type": "execute_result"
    }
   ],
   "source": [
    "articles = {ticker:scrape_and_process(cleaned_urls[ticker]) for ticker in monitored_tickers}\n",
    "articles"
   ]
  },
  {
   "cell_type": "code",
   "execution_count": 25,
   "metadata": {},
   "outputs": [
    {
     "data": {
      "text/plain": [
       "'The road ahead is looking bumpier for Tesla (TSLA). Days after reporting earnings that landed below Wall Street\\'s expectations, the EV maker disclosed that its automated driving systems are under deepening federal scrutiny. In a filing Monday with the Securities and Exchange Commission, Tesla said it had received requests from the Justice Department that included subpoenas asking it to turn over documents relating to its autopilot and full self-driving features. Tesla said it also received requests for information, \"including subpoenas,\" on a wide range of other issues \"regarding certain matters associated with personal benefits, related parties, vehicle range, and personnel decisions.\" In August, the Wall Street Journal reported that federal prosecutors were looking into concerns that Tesla’s company funds may have been used to create a glass house commissioned by CEO Elon Musk. The company didn\\'t say in its filing whether the glass house was among the issues under scrutiny by the Justice Department. The Justice Department’s requests for information concerning Tesla’s autopilot and self-driving features were disclosed by the company in January. The new revelation Monday that the agency had used its subpoena power suggests it has launched more serious inquiries. The company didn’t offer additional details on the nature of the subpoena requests, but said \"to our knowledge no government agency in any ongoing investigation has concluded that any wrongdoing occurred.\" Reuters and other news organizations have reported that Tesla’s vehicles frequently fail to drive as far on a full charge as the company represents. Last year, Reuters also reported that federal prosecutors had launched a criminal investigation into Musk’s statements as far back as 2016 concerning Tesla \"self-driving\" features. On its website Tesla specifically states that its vehicles are not self-driving and that features like automatic braking and lane correction are intended for \"fully attentive drivers\" whose hands are on the wheel at all times. The new probes deepen legal entanglements for the vehicle manufacturer, as it tries to recover from earnings reported on Wednesday that missed analysts’ expectations. For its third quarter, Tesla reported top-line revenue of $23.4 billion, a result that fell short of analyst'"
      ]
     },
     "execution_count": 25,
     "metadata": {},
     "output_type": "execute_result"
    }
   ],
   "source": [
    "articles['TSLA'][2]"
   ]
  },
  {
   "cell_type": "markdown",
   "metadata": {},
   "source": [
    "## 4.4. Summarise all Articles"
   ]
  },
  {
   "cell_type": "code",
   "execution_count": 26,
   "metadata": {},
   "outputs": [],
   "source": [
    "def summarize(articles):\n",
    "    summaries = []\n",
    "    for article in articles:\n",
    "        input_ids = tokenizer.encode(article, return_tensors='pt')\n",
    "        output = model.generate(input_ids, max_length=55, num_beams=5, early_stopping=True)\n",
    "        summary = tokenizer.decode(output[0], skip_special_tokens=True)\n",
    "        summaries.append(summary)\n",
    "    return summaries"
   ]
  },
  {
   "cell_type": "code",
   "execution_count": 27,
   "metadata": {
    "collapsed": true
   },
   "outputs": [
    {
     "data": {
      "text/plain": [
       "{'GME': ['Rob Khazzam bought shares in struggling video game retailer in 2017.',\n",
       "  'Fresh estimate for second-quarter GDP came in unchanged at 2.1%.',\n",
       "  'Tech-heavy Nasdaq leads way to start new quarter higher. ISM Manufacturing Index for September comes in stronger than expected',\n",
       "  'Relative Strength Index (RSI) reading for GME is 29.62.',\n",
       "  'A crypto project on the Ethereum Chain aims to shake up the financial system. Community comes together for the first time to film a movie',\n",
       "  'New anesthesiology residency program is accredited by the Accreditation Council for Graduate Medical Education.',\n",
       "  'Glassdoor ranks the 20 highest-paying countries for doctors. Community Health Systems has improved patient outcomes by implementing a remote patient monitoring program',\n",
       "  'All images are copyrighted.',\n",
       "  'We are aware of the issue and are working to resolve it.',\n",
       "  'Video game retailer reported better-than-expected results in second quarter. Shares of the company have lost about 22.1% in the past month',\n",
       "  'GME Hydro to purchase, install and operate two G-Reformer® units. Hydrogen produced will be sold to offset operating costs'],\n",
       " 'TSLA': ['Wall Street expects lower profitability due to cost-cutting efforts. CEO Musk sees challenges in reaching volume production of the Cybertruck',\n",
       "  'All images are copyrighted.',\n",
       "  'EV maker says Justice Department has been requesting documents. Justice Department has been asking for information for months',\n",
       "  'Bank of America, Goldman Sachs to report third-quarter results. Tesla, Netflix and other tech companies to report results',\n",
       "  'We are aware of the issue and are working to resolve it.',\n",
       "  'Carmaker says high rates are a concern; China outlook ‘challenging’. Musk had warned last week that high rates were a problem',\n",
       "  'Tesla still has a wide lead in the domestic EV market ahead of Ford.',\n",
       "  'Direxion Daily TSLA Bull 1.5X Shares ETF seen net inflows of $24.9 million. Tesla was also most-bought stock among retail traders on Thursday',\n",
       "  'EV maker’s Q3 earnings missed estimates by 10%. ‘Elon is a troubleshooter,’ says legendary investor Cathie Wood',\n",
       "  'Tesla’s new truck model to be launched next month. Share price has been underperforming so far in October',\n",
       "  'EV maker reported weaker-than-expected third quarter results. Paffrath said Musk acted like a \"little baby\" on the call'],\n",
       " 'BTC': ['We are aware of the issue and are working to resolve it.',\n",
       "  'Largest cryptocurrency has surged by 12% in the last 48 hours. Bitcoin spot ETF to be listed with DTCC this month',\n",
       "  'Rally is not about Bitcoin ETF optimism, but about risk appetite. Bitcoin could continue to rally if risk appetite improves',\n",
       "  'Court overturns SEC’s rejection of Grayscale fund. Bitcoin climbs above $31,000 for first time since July',\n",
       "  'A Bitcoin ETF could unlock an estimated $600 billion in new demand. Potential approval could also set a precedent for other countries',\n",
       "  'Co-founder of BitMEX blames hawkish U.S. policy for crypto rally. Bitcoin to rise on fears of global inflation: Hayes',\n",
       "  'Borroe Finance is leading the crypto race because of its Web3 financing platform. Solana’s adoption rate is going through the roof because it’s a top crypto to buy',\n",
       "  'All images are copyrighted.',\n",
       "  'The cryptocurrency has more than doubled since the start of the year. A number of applications for Bitcoin ETFs are still awaiting approval',\n",
       "  'DTCC says listing of BlackRock’s Bitcoin Trust ETF is ‘not indicative of an outcome.’',\n",
       "  'Cloud mining platform GlobaleCrypto offers a Bitcoin mining plan with $7 worth of BTC.']}"
      ]
     },
     "execution_count": 27,
     "metadata": {},
     "output_type": "execute_result"
    }
   ],
   "source": [
    "summaries = {ticker:summarize(articles[ticker]) for ticker in monitored_tickers}\n",
    "summaries"
   ]
  },
  {
   "cell_type": "code",
   "execution_count": 28,
   "metadata": {},
   "outputs": [
    {
     "data": {
      "text/plain": [
       "['We are aware of the issue and are working to resolve it.',\n",
       " 'Largest cryptocurrency has surged by 12% in the last 48 hours. Bitcoin spot ETF to be listed with DTCC this month',\n",
       " 'Rally is not about Bitcoin ETF optimism, but about risk appetite. Bitcoin could continue to rally if risk appetite improves',\n",
       " 'Court overturns SEC’s rejection of Grayscale fund. Bitcoin climbs above $31,000 for first time since July',\n",
       " 'A Bitcoin ETF could unlock an estimated $600 billion in new demand. Potential approval could also set a precedent for other countries',\n",
       " 'Co-founder of BitMEX blames hawkish U.S. policy for crypto rally. Bitcoin to rise on fears of global inflation: Hayes',\n",
       " 'Borroe Finance is leading the crypto race because of its Web3 financing platform. Solana’s adoption rate is going through the roof because it’s a top crypto to buy',\n",
       " 'All images are copyrighted.',\n",
       " 'The cryptocurrency has more than doubled since the start of the year. A number of applications for Bitcoin ETFs are still awaiting approval',\n",
       " 'DTCC says listing of BlackRock’s Bitcoin Trust ETF is ‘not indicative of an outcome.’',\n",
       " 'Cloud mining platform GlobaleCrypto offers a Bitcoin mining plan with $7 worth of BTC.']"
      ]
     },
     "execution_count": 28,
     "metadata": {},
     "output_type": "execute_result"
    }
   ],
   "source": [
    "summaries['BTC']"
   ]
  },
  {
   "cell_type": "markdown",
   "metadata": {},
   "source": [
    "# 5. Adding Sentiment Analysis"
   ]
  },
  {
   "cell_type": "code",
   "execution_count": 29,
   "metadata": {},
   "outputs": [
    {
     "name": "stderr",
     "output_type": "stream",
     "text": [
      "No model was supplied, defaulted to distilbert-base-uncased-finetuned-sst-2-english and revision af0f99b (https://huggingface.co/distilbert-base-uncased-finetuned-sst-2-english).\n",
      "Using a pipeline without specifying a model name and revision in production is not recommended.\n"
     ]
    }
   ],
   "source": [
    "from transformers import pipeline\n",
    "sentiment = pipeline('sentiment-analysis')"
   ]
  },
  {
   "cell_type": "code",
   "execution_count": 30,
   "metadata": {},
   "outputs": [
    {
     "data": {
      "text/plain": [
       "[{'label': 'POSITIVE', 'score': 0.9979088306427002},\n",
       " {'label': 'NEGATIVE', 'score': 0.8980571627616882},\n",
       " {'label': 'NEGATIVE', 'score': 0.9926819205284119},\n",
       " {'label': 'NEGATIVE', 'score': 0.9425058960914612},\n",
       " {'label': 'NEGATIVE', 'score': 0.590732753276825},\n",
       " {'label': 'NEGATIVE', 'score': 0.9877322912216187},\n",
       " {'label': 'POSITIVE', 'score': 0.6432871222496033},\n",
       " {'label': 'NEGATIVE', 'score': 0.9880996346473694},\n",
       " {'label': 'POSITIVE', 'score': 0.7488734126091003},\n",
       " {'label': 'NEGATIVE', 'score': 0.9996650218963623},\n",
       " {'label': 'NEGATIVE', 'score': 0.99250727891922}]"
      ]
     },
     "execution_count": 30,
     "metadata": {},
     "output_type": "execute_result"
    }
   ],
   "source": [
    "sentiment(summaries['BTC'])"
   ]
  },
  {
   "cell_type": "code",
   "execution_count": 31,
   "metadata": {
    "collapsed": true
   },
   "outputs": [
    {
     "data": {
      "text/plain": [
       "{'GME': [{'label': 'POSITIVE', 'score': 0.6601110696792603},\n",
       "  {'label': 'NEGATIVE', 'score': 0.9919314980506897},\n",
       "  {'label': 'POSITIVE', 'score': 0.7117865681648254},\n",
       "  {'label': 'NEGATIVE', 'score': 0.8664737343788147},\n",
       "  {'label': 'POSITIVE', 'score': 0.9736675024032593},\n",
       "  {'label': 'POSITIVE', 'score': 0.9923668503761292},\n",
       "  {'label': 'POSITIVE', 'score': 0.9948858618736267},\n",
       "  {'label': 'NEGATIVE', 'score': 0.9880996346473694},\n",
       "  {'label': 'POSITIVE', 'score': 0.9979088306427002},\n",
       "  {'label': 'NEGATIVE', 'score': 0.9992434978485107},\n",
       "  {'label': 'NEGATIVE', 'score': 0.9839251041412354}],\n",
       " 'TSLA': [{'label': 'NEGATIVE', 'score': 0.9985221028327942},\n",
       "  {'label': 'NEGATIVE', 'score': 0.9880996346473694},\n",
       "  {'label': 'NEGATIVE', 'score': 0.9826707243919373},\n",
       "  {'label': 'NEGATIVE', 'score': 0.9354450106620789},\n",
       "  {'label': 'POSITIVE', 'score': 0.9979088306427002},\n",
       "  {'label': 'NEGATIVE', 'score': 0.944806694984436},\n",
       "  {'label': 'POSITIVE', 'score': 0.9996185302734375},\n",
       "  {'label': 'POSITIVE', 'score': 0.637374997138977},\n",
       "  {'label': 'NEGATIVE', 'score': 0.9897423982620239},\n",
       "  {'label': 'NEGATIVE', 'score': 0.9946118593215942},\n",
       "  {'label': 'NEGATIVE', 'score': 0.9997205138206482}],\n",
       " 'BTC': [{'label': 'POSITIVE', 'score': 0.9979088306427002},\n",
       "  {'label': 'NEGATIVE', 'score': 0.8980571627616882},\n",
       "  {'label': 'NEGATIVE', 'score': 0.9926819205284119},\n",
       "  {'label': 'NEGATIVE', 'score': 0.9425058960914612},\n",
       "  {'label': 'NEGATIVE', 'score': 0.590732753276825},\n",
       "  {'label': 'NEGATIVE', 'score': 0.9877322912216187},\n",
       "  {'label': 'POSITIVE', 'score': 0.6432871222496033},\n",
       "  {'label': 'NEGATIVE', 'score': 0.9880996346473694},\n",
       "  {'label': 'POSITIVE', 'score': 0.7488734126091003},\n",
       "  {'label': 'NEGATIVE', 'score': 0.9996650218963623},\n",
       "  {'label': 'NEGATIVE', 'score': 0.99250727891922}]}"
      ]
     },
     "execution_count": 31,
     "metadata": {},
     "output_type": "execute_result"
    }
   ],
   "source": [
    "scores = {ticker:sentiment(summaries[ticker]) for ticker in monitored_tickers}\n",
    "scores"
   ]
  },
  {
   "cell_type": "code",
   "execution_count": 32,
   "metadata": {},
   "outputs": [
    {
     "name": "stdout",
     "output_type": "stream",
     "text": [
      "Relative Strength Index (RSI) reading for GME is 29.62. NEGATIVE 0.8664737343788147\n"
     ]
    }
   ],
   "source": [
    "print(summaries['GME'][3], scores['GME'][3]['label'], scores['GME'][3]['score'])"
   ]
  },
  {
   "cell_type": "code",
   "execution_count": 33,
   "metadata": {},
   "outputs": [
    {
     "data": {
      "text/plain": [
       "0.9979088306427002"
      ]
     },
     "execution_count": 33,
     "metadata": {},
     "output_type": "execute_result"
    }
   ],
   "source": [
    "scores['BTC'][0]['score']"
   ]
  },
  {
   "cell_type": "markdown",
   "metadata": {},
   "source": [
    "# 6. Exporting Results to CSV"
   ]
  },
  {
   "cell_type": "code",
   "execution_count": 34,
   "metadata": {
    "collapsed": true
   },
   "outputs": [
    {
     "data": {
      "text/plain": [
       "{'GME': ['Rob Khazzam bought shares in struggling video game retailer in 2017.',\n",
       "  'Fresh estimate for second-quarter GDP came in unchanged at 2.1%.',\n",
       "  'Tech-heavy Nasdaq leads way to start new quarter higher. ISM Manufacturing Index for September comes in stronger than expected',\n",
       "  'Relative Strength Index (RSI) reading for GME is 29.62.',\n",
       "  'A crypto project on the Ethereum Chain aims to shake up the financial system. Community comes together for the first time to film a movie',\n",
       "  'New anesthesiology residency program is accredited by the Accreditation Council for Graduate Medical Education.',\n",
       "  'Glassdoor ranks the 20 highest-paying countries for doctors. Community Health Systems has improved patient outcomes by implementing a remote patient monitoring program',\n",
       "  'All images are copyrighted.',\n",
       "  'We are aware of the issue and are working to resolve it.',\n",
       "  'Video game retailer reported better-than-expected results in second quarter. Shares of the company have lost about 22.1% in the past month',\n",
       "  'GME Hydro to purchase, install and operate two G-Reformer® units. Hydrogen produced will be sold to offset operating costs'],\n",
       " 'TSLA': ['Wall Street expects lower profitability due to cost-cutting efforts. CEO Musk sees challenges in reaching volume production of the Cybertruck',\n",
       "  'All images are copyrighted.',\n",
       "  'EV maker says Justice Department has been requesting documents. Justice Department has been asking for information for months',\n",
       "  'Bank of America, Goldman Sachs to report third-quarter results. Tesla, Netflix and other tech companies to report results',\n",
       "  'We are aware of the issue and are working to resolve it.',\n",
       "  'Carmaker says high rates are a concern; China outlook ‘challenging’. Musk had warned last week that high rates were a problem',\n",
       "  'Tesla still has a wide lead in the domestic EV market ahead of Ford.',\n",
       "  'Direxion Daily TSLA Bull 1.5X Shares ETF seen net inflows of $24.9 million. Tesla was also most-bought stock among retail traders on Thursday',\n",
       "  'EV maker’s Q3 earnings missed estimates by 10%. ‘Elon is a troubleshooter,’ says legendary investor Cathie Wood',\n",
       "  'Tesla’s new truck model to be launched next month. Share price has been underperforming so far in October',\n",
       "  'EV maker reported weaker-than-expected third quarter results. Paffrath said Musk acted like a \"little baby\" on the call'],\n",
       " 'BTC': ['We are aware of the issue and are working to resolve it.',\n",
       "  'Largest cryptocurrency has surged by 12% in the last 48 hours. Bitcoin spot ETF to be listed with DTCC this month',\n",
       "  'Rally is not about Bitcoin ETF optimism, but about risk appetite. Bitcoin could continue to rally if risk appetite improves',\n",
       "  'Court overturns SEC’s rejection of Grayscale fund. Bitcoin climbs above $31,000 for first time since July',\n",
       "  'A Bitcoin ETF could unlock an estimated $600 billion in new demand. Potential approval could also set a precedent for other countries',\n",
       "  'Co-founder of BitMEX blames hawkish U.S. policy for crypto rally. Bitcoin to rise on fears of global inflation: Hayes',\n",
       "  'Borroe Finance is leading the crypto race because of its Web3 financing platform. Solana’s adoption rate is going through the roof because it’s a top crypto to buy',\n",
       "  'All images are copyrighted.',\n",
       "  'The cryptocurrency has more than doubled since the start of the year. A number of applications for Bitcoin ETFs are still awaiting approval',\n",
       "  'DTCC says listing of BlackRock’s Bitcoin Trust ETF is ‘not indicative of an outcome.’',\n",
       "  'Cloud mining platform GlobaleCrypto offers a Bitcoin mining plan with $7 worth of BTC.']}"
      ]
     },
     "execution_count": 34,
     "metadata": {},
     "output_type": "execute_result"
    }
   ],
   "source": [
    "summaries"
   ]
  },
  {
   "cell_type": "code",
   "execution_count": 35,
   "metadata": {
    "collapsed": true
   },
   "outputs": [
    {
     "data": {
      "text/plain": [
       "{'GME': [{'label': 'POSITIVE', 'score': 0.6601110696792603},\n",
       "  {'label': 'NEGATIVE', 'score': 0.9919314980506897},\n",
       "  {'label': 'POSITIVE', 'score': 0.7117865681648254},\n",
       "  {'label': 'NEGATIVE', 'score': 0.8664737343788147},\n",
       "  {'label': 'POSITIVE', 'score': 0.9736675024032593},\n",
       "  {'label': 'POSITIVE', 'score': 0.9923668503761292},\n",
       "  {'label': 'POSITIVE', 'score': 0.9948858618736267},\n",
       "  {'label': 'NEGATIVE', 'score': 0.9880996346473694},\n",
       "  {'label': 'POSITIVE', 'score': 0.9979088306427002},\n",
       "  {'label': 'NEGATIVE', 'score': 0.9992434978485107},\n",
       "  {'label': 'NEGATIVE', 'score': 0.9839251041412354}],\n",
       " 'TSLA': [{'label': 'NEGATIVE', 'score': 0.9985221028327942},\n",
       "  {'label': 'NEGATIVE', 'score': 0.9880996346473694},\n",
       "  {'label': 'NEGATIVE', 'score': 0.9826707243919373},\n",
       "  {'label': 'NEGATIVE', 'score': 0.9354450106620789},\n",
       "  {'label': 'POSITIVE', 'score': 0.9979088306427002},\n",
       "  {'label': 'NEGATIVE', 'score': 0.944806694984436},\n",
       "  {'label': 'POSITIVE', 'score': 0.9996185302734375},\n",
       "  {'label': 'POSITIVE', 'score': 0.637374997138977},\n",
       "  {'label': 'NEGATIVE', 'score': 0.9897423982620239},\n",
       "  {'label': 'NEGATIVE', 'score': 0.9946118593215942},\n",
       "  {'label': 'NEGATIVE', 'score': 0.9997205138206482}],\n",
       " 'BTC': [{'label': 'POSITIVE', 'score': 0.9979088306427002},\n",
       "  {'label': 'NEGATIVE', 'score': 0.8980571627616882},\n",
       "  {'label': 'NEGATIVE', 'score': 0.9926819205284119},\n",
       "  {'label': 'NEGATIVE', 'score': 0.9425058960914612},\n",
       "  {'label': 'NEGATIVE', 'score': 0.590732753276825},\n",
       "  {'label': 'NEGATIVE', 'score': 0.9877322912216187},\n",
       "  {'label': 'POSITIVE', 'score': 0.6432871222496033},\n",
       "  {'label': 'NEGATIVE', 'score': 0.9880996346473694},\n",
       "  {'label': 'POSITIVE', 'score': 0.7488734126091003},\n",
       "  {'label': 'NEGATIVE', 'score': 0.9996650218963623},\n",
       "  {'label': 'NEGATIVE', 'score': 0.99250727891922}]}"
      ]
     },
     "execution_count": 35,
     "metadata": {},
     "output_type": "execute_result"
    }
   ],
   "source": [
    "scores"
   ]
  },
  {
   "cell_type": "code",
   "execution_count": 36,
   "metadata": {
    "collapsed": true
   },
   "outputs": [
    {
     "data": {
      "text/plain": [
       "{'GME': ['https://ca.finance.yahoo.com/news/market-lessons-what-gamestop-flop-teach-investing-strategy-143742509.html',\n",
       "  'https://finance.yahoo.com/news/stocks-rise-as-oil-bond-yields-finally-take-a-breather-stock-market-news-today-200406227.html',\n",
       "  'https://finance.yahoo.com/news/nasdaq-rises-dow-falls-in-seesaw-start-to-q4-stock-market-news-today-200428762.html',\n",
       "  'https://finance.yahoo.com/news/down-19-41-4-weeks-133506409.html',\n",
       "  'https://finance.yahoo.com/news/introducing-dumb-money-game-changing-220000035.html',\n",
       "  'https://finance.yahoo.com/news/usf-health-tampa-general-again-123000669.html',\n",
       "  'https://finance.yahoo.com/news/20-highest-paying-countries-doctors-141147787.html',\n",
       "  'https://www.google.com/search?q%3Dyahoo%2Bfinance%2BGME%26tbm%3Dnws%26pccc%3D1',\n",
       "  'https://finance.yahoo.com/video/gamestop-stock-rises-ryan-cohen-140155496.html',\n",
       "  'https://finance.yahoo.com/news/why-gamestop-gme-down-22-153004926.html',\n",
       "  'https://finance.yahoo.com/news/gwti-inks-letter-intent-gme-131500800.html'],\n",
       " 'TSLA': ['https://finance.yahoo.com/news/tesla-q3-earnings-140032243.html',\n",
       "  'https://www.google.com/search?q%3Dyahoo%2Bfinance%2BTSLA%26tbm%3Dnws%26pccc%3D1',\n",
       "  'https://finance.yahoo.com/news/the-road-ahead-gets-bumpier-for-tesla-as-doj-deepens-scrutiny-183208771.html',\n",
       "  'https://finance.yahoo.com/news/tesla-netflix-and-banks-highlight-earnings-rush-the-week-ahead-140003751.html',\n",
       "  'https://finance.yahoo.com/video/musk-turned-little-baby-tesla-173731640.html',\n",
       "  'https://finance.yahoo.com/news/porsche-joins-tesla-in-warning-about-high-rates-181123085.html',\n",
       "  'https://finance.yahoo.com/news/time-buy-recent-dip-teslas-005400771.html',\n",
       "  'https://finance.yahoo.com/news/dip-buyers-flock-tesla-bull-191150092.html',\n",
       "  'https://finance.yahoo.com/news/elon-musk-lost-fortune-tesla-113844160.html',\n",
       "  'https://uk.finance.yahoo.com/news/tesla-stock-almost-50-off-063500435.html',\n",
       "  'https://finance.yahoo.com/news/elon-musk-acted-little-baby-160535804.html'],\n",
       " 'BTC': ['https://finance.yahoo.com/video/spot-bitcoin-etf-could-mean-204307210.html',\n",
       "  'https://finance.yahoo.com/news/end-crypto-winter-093926791.html',\n",
       "  'https://www.marketpulse.com/newsfeed/btc-usd-is-bitcoin-back/emoya',\n",
       "  'https://finance.yahoo.com/news/grayscale-gets-court-order-fight-190431100.html',\n",
       "  'https://finance.yahoo.com/news/bitcoin-spot-etf-delays-flood-130000481.html',\n",
       "  'https://finance.yahoo.com/news/arthur-hayes-says-btc-rallying-053200278.html',\n",
       "  'https://finance.yahoo.com/news/bitcoin-solana-borroe-finance-among-142516987.html',\n",
       "  'https://www.google.com/search?q%3Dyahoo%2Bfinance%2BBTC%26tbm%3Dnws%26pccc%3D1',\n",
       "  'https://uk.finance.yahoo.com/news/why-bitcoin-prices-doubled-since-163341266.html',\n",
       "  'https://finance.yahoo.com/news/bitcoin-surged-above-35000-to-highest-level-since-2022-141522816.html',\n",
       "  'https://finance.yahoo.com/news/globalecrypto-revolutionizes-bitcoin-acquisition-strategies-183000829.html']}"
      ]
     },
     "execution_count": 36,
     "metadata": {},
     "output_type": "execute_result"
    }
   ],
   "source": [
    "cleaned_urls"
   ]
  },
  {
   "cell_type": "code",
   "execution_count": 37,
   "metadata": {},
   "outputs": [
    {
     "data": {
      "text/plain": [
       "range(0, 11)"
      ]
     },
     "execution_count": 37,
     "metadata": {},
     "output_type": "execute_result"
    }
   ],
   "source": [
    "range(len(summaries['GME']))"
   ]
  },
  {
   "cell_type": "code",
   "execution_count": 38,
   "metadata": {},
   "outputs": [
    {
     "data": {
      "text/plain": [
       "'A crypto project on the Ethereum Chain aims to shake up the financial system. Community comes together for the first time to film a movie'"
      ]
     },
     "execution_count": 38,
     "metadata": {},
     "output_type": "execute_result"
    }
   ],
   "source": [
    "summaries['GME'][4]"
   ]
  },
  {
   "cell_type": "code",
   "execution_count": 39,
   "metadata": {},
   "outputs": [],
   "source": [
    "def create_output_array(summaries, scores, urls):\n",
    "    output = []\n",
    "    for ticker in monitored_tickers:\n",
    "        for counter in range(len(summaries[ticker])):\n",
    "            output_this = [\n",
    "                ticker,\n",
    "                summaries[ticker][counter],\n",
    "                scores[ticker][counter]['label'],\n",
    "                scores[ticker][counter]['score'],\n",
    "                urls[ticker][counter]\n",
    "            ]\n",
    "            output.append(output_this)\n",
    "    return output"
   ]
  },
  {
   "cell_type": "code",
   "execution_count": 40,
   "metadata": {
    "collapsed": true
   },
   "outputs": [
    {
     "data": {
      "text/plain": [
       "[['GME',\n",
       "  'Rob Khazzam bought shares in struggling video game retailer in 2017.',\n",
       "  'POSITIVE',\n",
       "  0.6601110696792603,\n",
       "  'https://ca.finance.yahoo.com/news/market-lessons-what-gamestop-flop-teach-investing-strategy-143742509.html'],\n",
       " ['GME',\n",
       "  'Fresh estimate for second-quarter GDP came in unchanged at 2.1%.',\n",
       "  'NEGATIVE',\n",
       "  0.9919314980506897,\n",
       "  'https://finance.yahoo.com/news/stocks-rise-as-oil-bond-yields-finally-take-a-breather-stock-market-news-today-200406227.html'],\n",
       " ['GME',\n",
       "  'Tech-heavy Nasdaq leads way to start new quarter higher. ISM Manufacturing Index for September comes in stronger than expected',\n",
       "  'POSITIVE',\n",
       "  0.7117865681648254,\n",
       "  'https://finance.yahoo.com/news/nasdaq-rises-dow-falls-in-seesaw-start-to-q4-stock-market-news-today-200428762.html'],\n",
       " ['GME',\n",
       "  'Relative Strength Index (RSI) reading for GME is 29.62.',\n",
       "  'NEGATIVE',\n",
       "  0.8664737343788147,\n",
       "  'https://finance.yahoo.com/news/down-19-41-4-weeks-133506409.html'],\n",
       " ['GME',\n",
       "  'A crypto project on the Ethereum Chain aims to shake up the financial system. Community comes together for the first time to film a movie',\n",
       "  'POSITIVE',\n",
       "  0.9736675024032593,\n",
       "  'https://finance.yahoo.com/news/introducing-dumb-money-game-changing-220000035.html'],\n",
       " ['GME',\n",
       "  'New anesthesiology residency program is accredited by the Accreditation Council for Graduate Medical Education.',\n",
       "  'POSITIVE',\n",
       "  0.9923668503761292,\n",
       "  'https://finance.yahoo.com/news/usf-health-tampa-general-again-123000669.html'],\n",
       " ['GME',\n",
       "  'Glassdoor ranks the 20 highest-paying countries for doctors. Community Health Systems has improved patient outcomes by implementing a remote patient monitoring program',\n",
       "  'POSITIVE',\n",
       "  0.9948858618736267,\n",
       "  'https://finance.yahoo.com/news/20-highest-paying-countries-doctors-141147787.html'],\n",
       " ['GME',\n",
       "  'All images are copyrighted.',\n",
       "  'NEGATIVE',\n",
       "  0.9880996346473694,\n",
       "  'https://www.google.com/search?q%3Dyahoo%2Bfinance%2BGME%26tbm%3Dnws%26pccc%3D1'],\n",
       " ['GME',\n",
       "  'We are aware of the issue and are working to resolve it.',\n",
       "  'POSITIVE',\n",
       "  0.9979088306427002,\n",
       "  'https://finance.yahoo.com/video/gamestop-stock-rises-ryan-cohen-140155496.html'],\n",
       " ['GME',\n",
       "  'Video game retailer reported better-than-expected results in second quarter. Shares of the company have lost about 22.1% in the past month',\n",
       "  'NEGATIVE',\n",
       "  0.9992434978485107,\n",
       "  'https://finance.yahoo.com/news/why-gamestop-gme-down-22-153004926.html'],\n",
       " ['GME',\n",
       "  'GME Hydro to purchase, install and operate two G-Reformer® units. Hydrogen produced will be sold to offset operating costs',\n",
       "  'NEGATIVE',\n",
       "  0.9839251041412354,\n",
       "  'https://finance.yahoo.com/news/gwti-inks-letter-intent-gme-131500800.html'],\n",
       " ['TSLA',\n",
       "  'Wall Street expects lower profitability due to cost-cutting efforts. CEO Musk sees challenges in reaching volume production of the Cybertruck',\n",
       "  'NEGATIVE',\n",
       "  0.9985221028327942,\n",
       "  'https://finance.yahoo.com/news/tesla-q3-earnings-140032243.html'],\n",
       " ['TSLA',\n",
       "  'All images are copyrighted.',\n",
       "  'NEGATIVE',\n",
       "  0.9880996346473694,\n",
       "  'https://www.google.com/search?q%3Dyahoo%2Bfinance%2BTSLA%26tbm%3Dnws%26pccc%3D1'],\n",
       " ['TSLA',\n",
       "  'EV maker says Justice Department has been requesting documents. Justice Department has been asking for information for months',\n",
       "  'NEGATIVE',\n",
       "  0.9826707243919373,\n",
       "  'https://finance.yahoo.com/news/the-road-ahead-gets-bumpier-for-tesla-as-doj-deepens-scrutiny-183208771.html'],\n",
       " ['TSLA',\n",
       "  'Bank of America, Goldman Sachs to report third-quarter results. Tesla, Netflix and other tech companies to report results',\n",
       "  'NEGATIVE',\n",
       "  0.9354450106620789,\n",
       "  'https://finance.yahoo.com/news/tesla-netflix-and-banks-highlight-earnings-rush-the-week-ahead-140003751.html'],\n",
       " ['TSLA',\n",
       "  'We are aware of the issue and are working to resolve it.',\n",
       "  'POSITIVE',\n",
       "  0.9979088306427002,\n",
       "  'https://finance.yahoo.com/video/musk-turned-little-baby-tesla-173731640.html'],\n",
       " ['TSLA',\n",
       "  'Carmaker says high rates are a concern; China outlook ‘challenging’. Musk had warned last week that high rates were a problem',\n",
       "  'NEGATIVE',\n",
       "  0.944806694984436,\n",
       "  'https://finance.yahoo.com/news/porsche-joins-tesla-in-warning-about-high-rates-181123085.html'],\n",
       " ['TSLA',\n",
       "  'Tesla still has a wide lead in the domestic EV market ahead of Ford.',\n",
       "  'POSITIVE',\n",
       "  0.9996185302734375,\n",
       "  'https://finance.yahoo.com/news/time-buy-recent-dip-teslas-005400771.html'],\n",
       " ['TSLA',\n",
       "  'Direxion Daily TSLA Bull 1.5X Shares ETF seen net inflows of $24.9 million. Tesla was also most-bought stock among retail traders on Thursday',\n",
       "  'POSITIVE',\n",
       "  0.637374997138977,\n",
       "  'https://finance.yahoo.com/news/dip-buyers-flock-tesla-bull-191150092.html'],\n",
       " ['TSLA',\n",
       "  'EV maker’s Q3 earnings missed estimates by 10%. ‘Elon is a troubleshooter,’ says legendary investor Cathie Wood',\n",
       "  'NEGATIVE',\n",
       "  0.9897423982620239,\n",
       "  'https://finance.yahoo.com/news/elon-musk-lost-fortune-tesla-113844160.html'],\n",
       " ['TSLA',\n",
       "  'Tesla’s new truck model to be launched next month. Share price has been underperforming so far in October',\n",
       "  'NEGATIVE',\n",
       "  0.9946118593215942,\n",
       "  'https://uk.finance.yahoo.com/news/tesla-stock-almost-50-off-063500435.html'],\n",
       " ['TSLA',\n",
       "  'EV maker reported weaker-than-expected third quarter results. Paffrath said Musk acted like a \"little baby\" on the call',\n",
       "  'NEGATIVE',\n",
       "  0.9997205138206482,\n",
       "  'https://finance.yahoo.com/news/elon-musk-acted-little-baby-160535804.html'],\n",
       " ['BTC',\n",
       "  'We are aware of the issue and are working to resolve it.',\n",
       "  'POSITIVE',\n",
       "  0.9979088306427002,\n",
       "  'https://finance.yahoo.com/video/spot-bitcoin-etf-could-mean-204307210.html'],\n",
       " ['BTC',\n",
       "  'Largest cryptocurrency has surged by 12% in the last 48 hours. Bitcoin spot ETF to be listed with DTCC this month',\n",
       "  'NEGATIVE',\n",
       "  0.8980571627616882,\n",
       "  'https://finance.yahoo.com/news/end-crypto-winter-093926791.html'],\n",
       " ['BTC',\n",
       "  'Rally is not about Bitcoin ETF optimism, but about risk appetite. Bitcoin could continue to rally if risk appetite improves',\n",
       "  'NEGATIVE',\n",
       "  0.9926819205284119,\n",
       "  'https://www.marketpulse.com/newsfeed/btc-usd-is-bitcoin-back/emoya'],\n",
       " ['BTC',\n",
       "  'Court overturns SEC’s rejection of Grayscale fund. Bitcoin climbs above $31,000 for first time since July',\n",
       "  'NEGATIVE',\n",
       "  0.9425058960914612,\n",
       "  'https://finance.yahoo.com/news/grayscale-gets-court-order-fight-190431100.html'],\n",
       " ['BTC',\n",
       "  'A Bitcoin ETF could unlock an estimated $600 billion in new demand. Potential approval could also set a precedent for other countries',\n",
       "  'NEGATIVE',\n",
       "  0.590732753276825,\n",
       "  'https://finance.yahoo.com/news/bitcoin-spot-etf-delays-flood-130000481.html'],\n",
       " ['BTC',\n",
       "  'Co-founder of BitMEX blames hawkish U.S. policy for crypto rally. Bitcoin to rise on fears of global inflation: Hayes',\n",
       "  'NEGATIVE',\n",
       "  0.9877322912216187,\n",
       "  'https://finance.yahoo.com/news/arthur-hayes-says-btc-rallying-053200278.html'],\n",
       " ['BTC',\n",
       "  'Borroe Finance is leading the crypto race because of its Web3 financing platform. Solana’s adoption rate is going through the roof because it’s a top crypto to buy',\n",
       "  'POSITIVE',\n",
       "  0.6432871222496033,\n",
       "  'https://finance.yahoo.com/news/bitcoin-solana-borroe-finance-among-142516987.html'],\n",
       " ['BTC',\n",
       "  'All images are copyrighted.',\n",
       "  'NEGATIVE',\n",
       "  0.9880996346473694,\n",
       "  'https://www.google.com/search?q%3Dyahoo%2Bfinance%2BBTC%26tbm%3Dnws%26pccc%3D1'],\n",
       " ['BTC',\n",
       "  'The cryptocurrency has more than doubled since the start of the year. A number of applications for Bitcoin ETFs are still awaiting approval',\n",
       "  'POSITIVE',\n",
       "  0.7488734126091003,\n",
       "  'https://uk.finance.yahoo.com/news/why-bitcoin-prices-doubled-since-163341266.html'],\n",
       " ['BTC',\n",
       "  'DTCC says listing of BlackRock’s Bitcoin Trust ETF is ‘not indicative of an outcome.’',\n",
       "  'NEGATIVE',\n",
       "  0.9996650218963623,\n",
       "  'https://finance.yahoo.com/news/bitcoin-surged-above-35000-to-highest-level-since-2022-141522816.html'],\n",
       " ['BTC',\n",
       "  'Cloud mining platform GlobaleCrypto offers a Bitcoin mining plan with $7 worth of BTC.',\n",
       "  'NEGATIVE',\n",
       "  0.99250727891922,\n",
       "  'https://finance.yahoo.com/news/globalecrypto-revolutionizes-bitcoin-acquisition-strategies-183000829.html']]"
      ]
     },
     "execution_count": 40,
     "metadata": {},
     "output_type": "execute_result"
    }
   ],
   "source": [
    "final_output = create_output_array(summaries, scores, cleaned_urls)\n",
    "final_output"
   ]
  },
  {
   "cell_type": "code",
   "execution_count": 41,
   "metadata": {},
   "outputs": [],
   "source": [
    "final_output.insert(0, ['Ticker', 'Summary', 'Label', 'Confidence', 'URL'])"
   ]
  },
  {
   "cell_type": "code",
   "execution_count": 42,
   "metadata": {
    "collapsed": true
   },
   "outputs": [
    {
     "data": {
      "text/plain": [
       "[['Ticker', 'Summary', 'Label', 'Confidence', 'URL'],\n",
       " ['GME',\n",
       "  'Rob Khazzam bought shares in struggling video game retailer in 2017.',\n",
       "  'POSITIVE',\n",
       "  0.6601110696792603,\n",
       "  'https://ca.finance.yahoo.com/news/market-lessons-what-gamestop-flop-teach-investing-strategy-143742509.html'],\n",
       " ['GME',\n",
       "  'Fresh estimate for second-quarter GDP came in unchanged at 2.1%.',\n",
       "  'NEGATIVE',\n",
       "  0.9919314980506897,\n",
       "  'https://finance.yahoo.com/news/stocks-rise-as-oil-bond-yields-finally-take-a-breather-stock-market-news-today-200406227.html'],\n",
       " ['GME',\n",
       "  'Tech-heavy Nasdaq leads way to start new quarter higher. ISM Manufacturing Index for September comes in stronger than expected',\n",
       "  'POSITIVE',\n",
       "  0.7117865681648254,\n",
       "  'https://finance.yahoo.com/news/nasdaq-rises-dow-falls-in-seesaw-start-to-q4-stock-market-news-today-200428762.html'],\n",
       " ['GME',\n",
       "  'Relative Strength Index (RSI) reading for GME is 29.62.',\n",
       "  'NEGATIVE',\n",
       "  0.8664737343788147,\n",
       "  'https://finance.yahoo.com/news/down-19-41-4-weeks-133506409.html'],\n",
       " ['GME',\n",
       "  'A crypto project on the Ethereum Chain aims to shake up the financial system. Community comes together for the first time to film a movie',\n",
       "  'POSITIVE',\n",
       "  0.9736675024032593,\n",
       "  'https://finance.yahoo.com/news/introducing-dumb-money-game-changing-220000035.html'],\n",
       " ['GME',\n",
       "  'New anesthesiology residency program is accredited by the Accreditation Council for Graduate Medical Education.',\n",
       "  'POSITIVE',\n",
       "  0.9923668503761292,\n",
       "  'https://finance.yahoo.com/news/usf-health-tampa-general-again-123000669.html'],\n",
       " ['GME',\n",
       "  'Glassdoor ranks the 20 highest-paying countries for doctors. Community Health Systems has improved patient outcomes by implementing a remote patient monitoring program',\n",
       "  'POSITIVE',\n",
       "  0.9948858618736267,\n",
       "  'https://finance.yahoo.com/news/20-highest-paying-countries-doctors-141147787.html'],\n",
       " ['GME',\n",
       "  'All images are copyrighted.',\n",
       "  'NEGATIVE',\n",
       "  0.9880996346473694,\n",
       "  'https://www.google.com/search?q%3Dyahoo%2Bfinance%2BGME%26tbm%3Dnws%26pccc%3D1'],\n",
       " ['GME',\n",
       "  'We are aware of the issue and are working to resolve it.',\n",
       "  'POSITIVE',\n",
       "  0.9979088306427002,\n",
       "  'https://finance.yahoo.com/video/gamestop-stock-rises-ryan-cohen-140155496.html'],\n",
       " ['GME',\n",
       "  'Video game retailer reported better-than-expected results in second quarter. Shares of the company have lost about 22.1% in the past month',\n",
       "  'NEGATIVE',\n",
       "  0.9992434978485107,\n",
       "  'https://finance.yahoo.com/news/why-gamestop-gme-down-22-153004926.html'],\n",
       " ['GME',\n",
       "  'GME Hydro to purchase, install and operate two G-Reformer® units. Hydrogen produced will be sold to offset operating costs',\n",
       "  'NEGATIVE',\n",
       "  0.9839251041412354,\n",
       "  'https://finance.yahoo.com/news/gwti-inks-letter-intent-gme-131500800.html'],\n",
       " ['TSLA',\n",
       "  'Wall Street expects lower profitability due to cost-cutting efforts. CEO Musk sees challenges in reaching volume production of the Cybertruck',\n",
       "  'NEGATIVE',\n",
       "  0.9985221028327942,\n",
       "  'https://finance.yahoo.com/news/tesla-q3-earnings-140032243.html'],\n",
       " ['TSLA',\n",
       "  'All images are copyrighted.',\n",
       "  'NEGATIVE',\n",
       "  0.9880996346473694,\n",
       "  'https://www.google.com/search?q%3Dyahoo%2Bfinance%2BTSLA%26tbm%3Dnws%26pccc%3D1'],\n",
       " ['TSLA',\n",
       "  'EV maker says Justice Department has been requesting documents. Justice Department has been asking for information for months',\n",
       "  'NEGATIVE',\n",
       "  0.9826707243919373,\n",
       "  'https://finance.yahoo.com/news/the-road-ahead-gets-bumpier-for-tesla-as-doj-deepens-scrutiny-183208771.html'],\n",
       " ['TSLA',\n",
       "  'Bank of America, Goldman Sachs to report third-quarter results. Tesla, Netflix and other tech companies to report results',\n",
       "  'NEGATIVE',\n",
       "  0.9354450106620789,\n",
       "  'https://finance.yahoo.com/news/tesla-netflix-and-banks-highlight-earnings-rush-the-week-ahead-140003751.html'],\n",
       " ['TSLA',\n",
       "  'We are aware of the issue and are working to resolve it.',\n",
       "  'POSITIVE',\n",
       "  0.9979088306427002,\n",
       "  'https://finance.yahoo.com/video/musk-turned-little-baby-tesla-173731640.html'],\n",
       " ['TSLA',\n",
       "  'Carmaker says high rates are a concern; China outlook ‘challenging’. Musk had warned last week that high rates were a problem',\n",
       "  'NEGATIVE',\n",
       "  0.944806694984436,\n",
       "  'https://finance.yahoo.com/news/porsche-joins-tesla-in-warning-about-high-rates-181123085.html'],\n",
       " ['TSLA',\n",
       "  'Tesla still has a wide lead in the domestic EV market ahead of Ford.',\n",
       "  'POSITIVE',\n",
       "  0.9996185302734375,\n",
       "  'https://finance.yahoo.com/news/time-buy-recent-dip-teslas-005400771.html'],\n",
       " ['TSLA',\n",
       "  'Direxion Daily TSLA Bull 1.5X Shares ETF seen net inflows of $24.9 million. Tesla was also most-bought stock among retail traders on Thursday',\n",
       "  'POSITIVE',\n",
       "  0.637374997138977,\n",
       "  'https://finance.yahoo.com/news/dip-buyers-flock-tesla-bull-191150092.html'],\n",
       " ['TSLA',\n",
       "  'EV maker’s Q3 earnings missed estimates by 10%. ‘Elon is a troubleshooter,’ says legendary investor Cathie Wood',\n",
       "  'NEGATIVE',\n",
       "  0.9897423982620239,\n",
       "  'https://finance.yahoo.com/news/elon-musk-lost-fortune-tesla-113844160.html'],\n",
       " ['TSLA',\n",
       "  'Tesla’s new truck model to be launched next month. Share price has been underperforming so far in October',\n",
       "  'NEGATIVE',\n",
       "  0.9946118593215942,\n",
       "  'https://uk.finance.yahoo.com/news/tesla-stock-almost-50-off-063500435.html'],\n",
       " ['TSLA',\n",
       "  'EV maker reported weaker-than-expected third quarter results. Paffrath said Musk acted like a \"little baby\" on the call',\n",
       "  'NEGATIVE',\n",
       "  0.9997205138206482,\n",
       "  'https://finance.yahoo.com/news/elon-musk-acted-little-baby-160535804.html'],\n",
       " ['BTC',\n",
       "  'We are aware of the issue and are working to resolve it.',\n",
       "  'POSITIVE',\n",
       "  0.9979088306427002,\n",
       "  'https://finance.yahoo.com/video/spot-bitcoin-etf-could-mean-204307210.html'],\n",
       " ['BTC',\n",
       "  'Largest cryptocurrency has surged by 12% in the last 48 hours. Bitcoin spot ETF to be listed with DTCC this month',\n",
       "  'NEGATIVE',\n",
       "  0.8980571627616882,\n",
       "  'https://finance.yahoo.com/news/end-crypto-winter-093926791.html'],\n",
       " ['BTC',\n",
       "  'Rally is not about Bitcoin ETF optimism, but about risk appetite. Bitcoin could continue to rally if risk appetite improves',\n",
       "  'NEGATIVE',\n",
       "  0.9926819205284119,\n",
       "  'https://www.marketpulse.com/newsfeed/btc-usd-is-bitcoin-back/emoya'],\n",
       " ['BTC',\n",
       "  'Court overturns SEC’s rejection of Grayscale fund. Bitcoin climbs above $31,000 for first time since July',\n",
       "  'NEGATIVE',\n",
       "  0.9425058960914612,\n",
       "  'https://finance.yahoo.com/news/grayscale-gets-court-order-fight-190431100.html'],\n",
       " ['BTC',\n",
       "  'A Bitcoin ETF could unlock an estimated $600 billion in new demand. Potential approval could also set a precedent for other countries',\n",
       "  'NEGATIVE',\n",
       "  0.590732753276825,\n",
       "  'https://finance.yahoo.com/news/bitcoin-spot-etf-delays-flood-130000481.html'],\n",
       " ['BTC',\n",
       "  'Co-founder of BitMEX blames hawkish U.S. policy for crypto rally. Bitcoin to rise on fears of global inflation: Hayes',\n",
       "  'NEGATIVE',\n",
       "  0.9877322912216187,\n",
       "  'https://finance.yahoo.com/news/arthur-hayes-says-btc-rallying-053200278.html'],\n",
       " ['BTC',\n",
       "  'Borroe Finance is leading the crypto race because of its Web3 financing platform. Solana’s adoption rate is going through the roof because it’s a top crypto to buy',\n",
       "  'POSITIVE',\n",
       "  0.6432871222496033,\n",
       "  'https://finance.yahoo.com/news/bitcoin-solana-borroe-finance-among-142516987.html'],\n",
       " ['BTC',\n",
       "  'All images are copyrighted.',\n",
       "  'NEGATIVE',\n",
       "  0.9880996346473694,\n",
       "  'https://www.google.com/search?q%3Dyahoo%2Bfinance%2BBTC%26tbm%3Dnws%26pccc%3D1'],\n",
       " ['BTC',\n",
       "  'The cryptocurrency has more than doubled since the start of the year. A number of applications for Bitcoin ETFs are still awaiting approval',\n",
       "  'POSITIVE',\n",
       "  0.7488734126091003,\n",
       "  'https://uk.finance.yahoo.com/news/why-bitcoin-prices-doubled-since-163341266.html'],\n",
       " ['BTC',\n",
       "  'DTCC says listing of BlackRock’s Bitcoin Trust ETF is ‘not indicative of an outcome.’',\n",
       "  'NEGATIVE',\n",
       "  0.9996650218963623,\n",
       "  'https://finance.yahoo.com/news/bitcoin-surged-above-35000-to-highest-level-since-2022-141522816.html'],\n",
       " ['BTC',\n",
       "  'Cloud mining platform GlobaleCrypto offers a Bitcoin mining plan with $7 worth of BTC.',\n",
       "  'NEGATIVE',\n",
       "  0.99250727891922,\n",
       "  'https://finance.yahoo.com/news/globalecrypto-revolutionizes-bitcoin-acquisition-strategies-183000829.html']]"
      ]
     },
     "execution_count": 42,
     "metadata": {},
     "output_type": "execute_result"
    }
   ],
   "source": [
    "final_output"
   ]
  },
  {
   "cell_type": "code",
   "execution_count": 43,
   "metadata": {},
   "outputs": [],
   "source": [
    "import csv\n",
    "with open('assetsummaries.csv', mode='w', newline='') as f:\n",
    "    csv_writer = csv.writer(f, delimiter=',', quotechar='\"', quoting=csv.QUOTE_MINIMAL)\n",
    "    csv_writer.writerows(final_output)"
   ]
  },
  {
   "cell_type": "code",
   "execution_count": 46,
   "metadata": {},
   "outputs": [
    {
     "data": {
      "text/html": [
       "<div>\n",
       "<style scoped>\n",
       "    .dataframe tbody tr th:only-of-type {\n",
       "        vertical-align: middle;\n",
       "    }\n",
       "\n",
       "    .dataframe tbody tr th {\n",
       "        vertical-align: top;\n",
       "    }\n",
       "\n",
       "    .dataframe thead th {\n",
       "        text-align: right;\n",
       "    }\n",
       "</style>\n",
       "<table border=\"1\" class=\"dataframe\">\n",
       "  <thead>\n",
       "    <tr style=\"text-align: right;\">\n",
       "      <th></th>\n",
       "      <th>Ticker</th>\n",
       "      <th>Summary</th>\n",
       "      <th>Label</th>\n",
       "      <th>Confidence</th>\n",
       "      <th>URL</th>\n",
       "    </tr>\n",
       "  </thead>\n",
       "  <tbody>\n",
       "    <tr>\n",
       "      <th>0</th>\n",
       "      <td>GME</td>\n",
       "      <td>Rob Khazzam bought shares in struggling video ...</td>\n",
       "      <td>POSITIVE</td>\n",
       "      <td>0.660111</td>\n",
       "      <td>https://ca.finance.yahoo.com/news/market-lesso...</td>\n",
       "    </tr>\n",
       "    <tr>\n",
       "      <th>1</th>\n",
       "      <td>GME</td>\n",
       "      <td>Fresh estimate for second-quarter GDP came in ...</td>\n",
       "      <td>NEGATIVE</td>\n",
       "      <td>0.991931</td>\n",
       "      <td>https://finance.yahoo.com/news/stocks-rise-as-...</td>\n",
       "    </tr>\n",
       "    <tr>\n",
       "      <th>2</th>\n",
       "      <td>GME</td>\n",
       "      <td>Tech-heavy Nasdaq leads way to start new quart...</td>\n",
       "      <td>POSITIVE</td>\n",
       "      <td>0.711787</td>\n",
       "      <td>https://finance.yahoo.com/news/nasdaq-rises-do...</td>\n",
       "    </tr>\n",
       "    <tr>\n",
       "      <th>3</th>\n",
       "      <td>GME</td>\n",
       "      <td>Relative Strength Index (RSI) reading for GME ...</td>\n",
       "      <td>NEGATIVE</td>\n",
       "      <td>0.866474</td>\n",
       "      <td>https://finance.yahoo.com/news/down-19-41-4-we...</td>\n",
       "    </tr>\n",
       "    <tr>\n",
       "      <th>4</th>\n",
       "      <td>GME</td>\n",
       "      <td>A crypto project on the Ethereum Chain aims to...</td>\n",
       "      <td>POSITIVE</td>\n",
       "      <td>0.973668</td>\n",
       "      <td>https://finance.yahoo.com/news/introducing-dum...</td>\n",
       "    </tr>\n",
       "  </tbody>\n",
       "</table>\n",
       "</div>"
      ],
      "text/plain": [
       "  Ticker                                            Summary     Label  \\\n",
       "0    GME  Rob Khazzam bought shares in struggling video ...  POSITIVE   \n",
       "1    GME  Fresh estimate for second-quarter GDP came in ...  NEGATIVE   \n",
       "2    GME  Tech-heavy Nasdaq leads way to start new quart...  POSITIVE   \n",
       "3    GME  Relative Strength Index (RSI) reading for GME ...  NEGATIVE   \n",
       "4    GME  A crypto project on the Ethereum Chain aims to...  POSITIVE   \n",
       "\n",
       "   Confidence                                                URL  \n",
       "0    0.660111  https://ca.finance.yahoo.com/news/market-lesso...  \n",
       "1    0.991931  https://finance.yahoo.com/news/stocks-rise-as-...  \n",
       "2    0.711787  https://finance.yahoo.com/news/nasdaq-rises-do...  \n",
       "3    0.866474  https://finance.yahoo.com/news/down-19-41-4-we...  \n",
       "4    0.973668  https://finance.yahoo.com/news/introducing-dum...  "
      ]
     },
     "execution_count": 46,
     "metadata": {},
     "output_type": "execute_result"
    }
   ],
   "source": [
    "import pandas as pd\n",
    "df=pd.read_csv('assetsummaries.csv')\n",
    "df.head()"
   ]
  },
  {
   "cell_type": "code",
   "execution_count": 48,
   "metadata": {},
   "outputs": [
    {
     "data": {
      "text/html": [
       "<div>\n",
       "<style scoped>\n",
       "    .dataframe tbody tr th:only-of-type {\n",
       "        vertical-align: middle;\n",
       "    }\n",
       "\n",
       "    .dataframe tbody tr th {\n",
       "        vertical-align: top;\n",
       "    }\n",
       "\n",
       "    .dataframe thead th {\n",
       "        text-align: right;\n",
       "    }\n",
       "</style>\n",
       "<table border=\"1\" class=\"dataframe\">\n",
       "  <thead>\n",
       "    <tr style=\"text-align: right;\">\n",
       "      <th></th>\n",
       "      <th>Summary</th>\n",
       "      <th>Label</th>\n",
       "    </tr>\n",
       "  </thead>\n",
       "  <tbody>\n",
       "    <tr>\n",
       "      <th>0</th>\n",
       "      <td>Rob Khazzam bought shares in struggling video ...</td>\n",
       "      <td>POSITIVE</td>\n",
       "    </tr>\n",
       "    <tr>\n",
       "      <th>1</th>\n",
       "      <td>Fresh estimate for second-quarter GDP came in ...</td>\n",
       "      <td>NEGATIVE</td>\n",
       "    </tr>\n",
       "    <tr>\n",
       "      <th>2</th>\n",
       "      <td>Tech-heavy Nasdaq leads way to start new quart...</td>\n",
       "      <td>POSITIVE</td>\n",
       "    </tr>\n",
       "    <tr>\n",
       "      <th>3</th>\n",
       "      <td>Relative Strength Index (RSI) reading for GME ...</td>\n",
       "      <td>NEGATIVE</td>\n",
       "    </tr>\n",
       "    <tr>\n",
       "      <th>4</th>\n",
       "      <td>A crypto project on the Ethereum Chain aims to...</td>\n",
       "      <td>POSITIVE</td>\n",
       "    </tr>\n",
       "    <tr>\n",
       "      <th>5</th>\n",
       "      <td>New anesthesiology residency program is accred...</td>\n",
       "      <td>POSITIVE</td>\n",
       "    </tr>\n",
       "    <tr>\n",
       "      <th>6</th>\n",
       "      <td>Glassdoor ranks the 20 highest-paying countrie...</td>\n",
       "      <td>POSITIVE</td>\n",
       "    </tr>\n",
       "    <tr>\n",
       "      <th>7</th>\n",
       "      <td>All images are copyrighted.</td>\n",
       "      <td>NEGATIVE</td>\n",
       "    </tr>\n",
       "    <tr>\n",
       "      <th>8</th>\n",
       "      <td>We are aware of the issue and are working to r...</td>\n",
       "      <td>POSITIVE</td>\n",
       "    </tr>\n",
       "    <tr>\n",
       "      <th>9</th>\n",
       "      <td>Video game retailer reported better-than-expec...</td>\n",
       "      <td>NEGATIVE</td>\n",
       "    </tr>\n",
       "    <tr>\n",
       "      <th>10</th>\n",
       "      <td>GME Hydro to purchase, install and operate two...</td>\n",
       "      <td>NEGATIVE</td>\n",
       "    </tr>\n",
       "    <tr>\n",
       "      <th>11</th>\n",
       "      <td>Wall Street expects lower profitability due to...</td>\n",
       "      <td>NEGATIVE</td>\n",
       "    </tr>\n",
       "    <tr>\n",
       "      <th>12</th>\n",
       "      <td>All images are copyrighted.</td>\n",
       "      <td>NEGATIVE</td>\n",
       "    </tr>\n",
       "    <tr>\n",
       "      <th>13</th>\n",
       "      <td>EV maker says Justice Department has been requ...</td>\n",
       "      <td>NEGATIVE</td>\n",
       "    </tr>\n",
       "    <tr>\n",
       "      <th>14</th>\n",
       "      <td>Bank of America, Goldman Sachs to report third...</td>\n",
       "      <td>NEGATIVE</td>\n",
       "    </tr>\n",
       "    <tr>\n",
       "      <th>15</th>\n",
       "      <td>We are aware of the issue and are working to r...</td>\n",
       "      <td>POSITIVE</td>\n",
       "    </tr>\n",
       "    <tr>\n",
       "      <th>16</th>\n",
       "      <td>Carmaker says high rates are a concern; China ...</td>\n",
       "      <td>NEGATIVE</td>\n",
       "    </tr>\n",
       "    <tr>\n",
       "      <th>17</th>\n",
       "      <td>Tesla still has a wide lead in the domestic EV...</td>\n",
       "      <td>POSITIVE</td>\n",
       "    </tr>\n",
       "    <tr>\n",
       "      <th>18</th>\n",
       "      <td>Direxion Daily TSLA Bull 1.5X Shares ETF seen ...</td>\n",
       "      <td>POSITIVE</td>\n",
       "    </tr>\n",
       "    <tr>\n",
       "      <th>19</th>\n",
       "      <td>EV maker’s Q3 earnings missed estimates by 10%...</td>\n",
       "      <td>NEGATIVE</td>\n",
       "    </tr>\n",
       "    <tr>\n",
       "      <th>20</th>\n",
       "      <td>Tesla’s new truck model to be launched next mo...</td>\n",
       "      <td>NEGATIVE</td>\n",
       "    </tr>\n",
       "    <tr>\n",
       "      <th>21</th>\n",
       "      <td>EV maker reported weaker-than-expected third q...</td>\n",
       "      <td>NEGATIVE</td>\n",
       "    </tr>\n",
       "    <tr>\n",
       "      <th>22</th>\n",
       "      <td>We are aware of the issue and are working to r...</td>\n",
       "      <td>POSITIVE</td>\n",
       "    </tr>\n",
       "    <tr>\n",
       "      <th>23</th>\n",
       "      <td>Largest cryptocurrency has surged by 12% in th...</td>\n",
       "      <td>NEGATIVE</td>\n",
       "    </tr>\n",
       "    <tr>\n",
       "      <th>24</th>\n",
       "      <td>Rally is not about Bitcoin ETF optimism, but a...</td>\n",
       "      <td>NEGATIVE</td>\n",
       "    </tr>\n",
       "    <tr>\n",
       "      <th>25</th>\n",
       "      <td>Court overturns SEC’s rejection of Grayscale f...</td>\n",
       "      <td>NEGATIVE</td>\n",
       "    </tr>\n",
       "    <tr>\n",
       "      <th>26</th>\n",
       "      <td>A Bitcoin ETF could unlock an estimated $600 b...</td>\n",
       "      <td>NEGATIVE</td>\n",
       "    </tr>\n",
       "    <tr>\n",
       "      <th>27</th>\n",
       "      <td>Co-founder of BitMEX blames hawkish U.S. polic...</td>\n",
       "      <td>NEGATIVE</td>\n",
       "    </tr>\n",
       "    <tr>\n",
       "      <th>28</th>\n",
       "      <td>Borroe Finance is leading the crypto race beca...</td>\n",
       "      <td>POSITIVE</td>\n",
       "    </tr>\n",
       "    <tr>\n",
       "      <th>29</th>\n",
       "      <td>All images are copyrighted.</td>\n",
       "      <td>NEGATIVE</td>\n",
       "    </tr>\n",
       "    <tr>\n",
       "      <th>30</th>\n",
       "      <td>The cryptocurrency has more than doubled since...</td>\n",
       "      <td>POSITIVE</td>\n",
       "    </tr>\n",
       "    <tr>\n",
       "      <th>31</th>\n",
       "      <td>DTCC says listing of BlackRock’s Bitcoin Trust...</td>\n",
       "      <td>NEGATIVE</td>\n",
       "    </tr>\n",
       "    <tr>\n",
       "      <th>32</th>\n",
       "      <td>Cloud mining platform GlobaleCrypto offers a B...</td>\n",
       "      <td>NEGATIVE</td>\n",
       "    </tr>\n",
       "  </tbody>\n",
       "</table>\n",
       "</div>"
      ],
      "text/plain": [
       "                                              Summary     Label\n",
       "0   Rob Khazzam bought shares in struggling video ...  POSITIVE\n",
       "1   Fresh estimate for second-quarter GDP came in ...  NEGATIVE\n",
       "2   Tech-heavy Nasdaq leads way to start new quart...  POSITIVE\n",
       "3   Relative Strength Index (RSI) reading for GME ...  NEGATIVE\n",
       "4   A crypto project on the Ethereum Chain aims to...  POSITIVE\n",
       "5   New anesthesiology residency program is accred...  POSITIVE\n",
       "6   Glassdoor ranks the 20 highest-paying countrie...  POSITIVE\n",
       "7                         All images are copyrighted.  NEGATIVE\n",
       "8   We are aware of the issue and are working to r...  POSITIVE\n",
       "9   Video game retailer reported better-than-expec...  NEGATIVE\n",
       "10  GME Hydro to purchase, install and operate two...  NEGATIVE\n",
       "11  Wall Street expects lower profitability due to...  NEGATIVE\n",
       "12                        All images are copyrighted.  NEGATIVE\n",
       "13  EV maker says Justice Department has been requ...  NEGATIVE\n",
       "14  Bank of America, Goldman Sachs to report third...  NEGATIVE\n",
       "15  We are aware of the issue and are working to r...  POSITIVE\n",
       "16  Carmaker says high rates are a concern; China ...  NEGATIVE\n",
       "17  Tesla still has a wide lead in the domestic EV...  POSITIVE\n",
       "18  Direxion Daily TSLA Bull 1.5X Shares ETF seen ...  POSITIVE\n",
       "19  EV maker’s Q3 earnings missed estimates by 10%...  NEGATIVE\n",
       "20  Tesla’s new truck model to be launched next mo...  NEGATIVE\n",
       "21  EV maker reported weaker-than-expected third q...  NEGATIVE\n",
       "22  We are aware of the issue and are working to r...  POSITIVE\n",
       "23  Largest cryptocurrency has surged by 12% in th...  NEGATIVE\n",
       "24  Rally is not about Bitcoin ETF optimism, but a...  NEGATIVE\n",
       "25  Court overturns SEC’s rejection of Grayscale f...  NEGATIVE\n",
       "26  A Bitcoin ETF could unlock an estimated $600 b...  NEGATIVE\n",
       "27  Co-founder of BitMEX blames hawkish U.S. polic...  NEGATIVE\n",
       "28  Borroe Finance is leading the crypto race beca...  POSITIVE\n",
       "29                        All images are copyrighted.  NEGATIVE\n",
       "30  The cryptocurrency has more than doubled since...  POSITIVE\n",
       "31  DTCC says listing of BlackRock’s Bitcoin Trust...  NEGATIVE\n",
       "32  Cloud mining platform GlobaleCrypto offers a B...  NEGATIVE"
      ]
     },
     "execution_count": 48,
     "metadata": {},
     "output_type": "execute_result"
    }
   ],
   "source": [
    "df[['Summary','Label']]"
   ]
  },
  {
   "cell_type": "code",
   "execution_count": null,
   "metadata": {},
   "outputs": [],
   "source": []
  },
  {
   "cell_type": "code",
   "execution_count": null,
   "metadata": {},
   "outputs": [],
   "source": []
  }
 ],
 "metadata": {
  "kernelspec": {
   "display_name": "Python 3",
   "language": "python",
   "name": "python3"
  },
  "language_info": {
   "codemirror_mode": {
    "name": "ipython",
    "version": 3
   },
   "file_extension": ".py",
   "mimetype": "text/x-python",
   "name": "python",
   "nbconvert_exporter": "python",
   "pygments_lexer": "ipython3",
   "version": "3.9.13"
  }
 },
 "nbformat": 4,
 "nbformat_minor": 2
}
