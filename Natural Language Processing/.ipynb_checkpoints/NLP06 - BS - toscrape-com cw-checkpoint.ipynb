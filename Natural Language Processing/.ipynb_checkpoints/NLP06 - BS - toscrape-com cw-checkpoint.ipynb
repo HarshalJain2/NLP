{
 "cells": [
  {
   "cell_type": "code",
   "execution_count": 1,
   "metadata": {
    "_kg_hide-input": true,
    "papermill": {
     "duration": 0.068196,
     "end_time": "2021-04-16T07:19:19.641770",
     "exception": false,
     "start_time": "2021-04-16T07:19:19.573574",
     "status": "completed"
    },
    "tags": []
   },
   "outputs": [],
   "source": [
    "from IPython.core.display import display, HTML"
   ]
  },
  {
   "cell_type": "markdown",
   "metadata": {
    "id": "2Rf8vRFucC2T",
    "papermill": {
     "duration": 0.056448,
     "end_time": "2021-04-16T07:19:19.755584",
     "exception": false,
     "start_time": "2021-04-16T07:19:19.699136",
     "status": "completed"
    },
    "tags": []
   },
   "source": [
    "Since, its just a string. We can use **string operations** & **regex** to extract meaningful informations from it. Even though, python has great support for working with strings. It still would be a lot of work.\n",
    "\n",
    "If you look closely, then you might have already noticed that the above HTML document have a particular structure to it. The most important element in a HTML document is **tag**, which may contain other tags/strings. For example:\n",
    "- The complete document is built using tags, such as `<html>`, `<head>`, `<body>`, `<div>`, `<p>`, `<a>`, etc.\n",
    "- Each tag has a complementary closing tag, such as `</html>`, `</head>`, `</body>`, `</div>`, `</p>`, `</a>`, etc.\n",
    "- Tags can also have attributes.\n",
    "\n",
    "![](https://i.imgur.com/wf3Ahyg.png)\n",
    "\n",
    "Don't worry if you looking at HTML for the first time. It might look wierd at first, but with time it will grow on you.\n",
    "\n",
    "This structure allowed developers to write very efficient HTML parsers. These parsers make it super easy to extract information from the HTML document. Parsers also provide ways of navigating, searching, and modifying the parse tree.\n",
    "\n",
    "[Beautiful Soup](http://www.crummy.com/software/BeautifulSoup/) is a Python library for extracting data out of HTML and XML files. There are many such libraries like [requests-html](https://requests.readthedocs.io/projects/requests-html/en/latest/index.html), [lxml](https://lxml.de/), [gazpacho](https://gazpacho.xyz/), etc. for parsing HTML docs."
   ]
  },
  {
   "cell_type": "raw",
   "metadata": {},
   "source": [
    "<div>: Represents a division or container for grouping content or creating sections on a web page.\n",
    "\n",
    "<p>: Defines a paragraph of text.\n",
    "\n",
    "<a>: Creates a hyperlink or anchor that allows users to navigate to another web page or a specific location within the same page.\n",
    "\n",
    "<li>: Indicates a list item within an ordered <ol> (ordered list) or unordered <ul> (unordered list).\n",
    "\n",
    "<img>: Inserts an image into a web page. It requires a src attribute specifying the image URL.\n",
    "\n",
    "<h1> to <h6>: Represents different levels of headings, with <h1> being the highest (most important) and <h6> being the lowest.\n",
    "\n",
    "<table>: Defines a table with rows and columns. It is typically used for displaying tabular data.\n",
    "\n",
    "<form>: Creates a form for gathering user input. It includes various form elements like input fields, checkboxes, radio buttons, and submit buttons.\n",
    "\n",
    "<span>: Defines an inline container for a specific text or a small group of elements. It is often used for styling or targeting specific sections of text.\n",
    "\n",
    "<button>: Creates a clickable button element that can trigger an action or perform a specific function when clicked.\n",
    "\n",
    "<input>: Represents an input field where users can enter data, such as text, numbers, or checkboxes.\n",
    "\n",
    "<nav>: Defines a section of navigation links or menus.\n",
    "\n",
    "<header>: Represents the introductory content or the header section of a web page.\n",
    "\n",
    "<footer>: Represents the footer section of a web page, typically containing copyright information, links to legal notices, or contact information."
   ]
  },
  {
   "cell_type": "code",
   "execution_count": 2,
   "metadata": {
    "id": "OflnFdi1YuMg",
    "papermill": {
     "duration": 0.353983,
     "end_time": "2021-04-16T07:19:20.166344",
     "exception": false,
     "start_time": "2021-04-16T07:19:19.812361",
     "status": "completed"
    },
    "tags": []
   },
   "outputs": [],
   "source": [
    "# import\n",
    "from bs4 import BeautifulSoup as bs"
   ]
  },
  {
   "cell_type": "markdown",
   "metadata": {
    "id": "VPZvtsHlrbg-",
    "papermill": {
     "duration": 0.056934,
     "end_time": "2021-04-16T07:19:20.280434",
     "exception": false,
     "start_time": "2021-04-16T07:19:20.223500",
     "status": "completed"
    },
    "tags": []
   },
   "source": [
    "We start by creating a `soup` object which will help us to extract details. The input can be a *string*, or a *file object*."
   ]
  },
  {
   "cell_type": "code",
   "execution_count": 3,
   "metadata": {},
   "outputs": [],
   "source": [
    "ai_html = \"\"\"\n",
    "<html>\n",
    "  <head>\n",
    "   <title>\n",
    "     Web Scraping 101 - by aiadventures\n",
    "   </title>\n",
    "  </head>\n",
    "  <body>\n",
    "    <div id=\"course\">\n",
    "      <h3> Courses at \n",
    "        <a href=\"www.aiadventures.in\">aiadventures</a>\n",
    "      </h3>\n",
    "      <ul>\n",
    "        <li>Python</li>\n",
    "        <li>Data Science</li>\n",
    "        <li>Machine Learning</li>\n",
    "        <li>Deep Learning</li>\n",
    "        <li>Computer Vision</li>\n",
    "      </ul>\n",
    "    </div>\n",
    "    <div class=\"follow_us\">\n",
    "      <h3> Follow Us </h3>\n",
    "      <ul>\n",
    "        <li><a href=\"https://www.instagram.com/aiadventures.pune\">Instagram</a></li>\n",
    "        <li><a href=\"https://www.linkedin.com/company/aiadventures\">LinkedIn</a></li>\n",
    "        <li><a href=\"https://medium.com/aiadventures\">Medium</a></li>\n",
    "        <li><a href=\"https://www.youtube.com/channel/UCPZqWUIXZAs926TBRclhUGw\">Youtube</a></li>\n",
    "      </ul>\n",
    "    </div>\n",
    "  </body>\n",
    "</html>\n",
    "\"\"\""
   ]
  },
  {
   "cell_type": "code",
   "execution_count": 4,
   "metadata": {
    "id": "1eyqnVe7smH1",
    "outputId": "26d768c5-338b-4f10-f1c6-a0ef62d92bac",
    "papermill": {
     "duration": 0.07696,
     "end_time": "2021-04-16T07:19:20.415008",
     "exception": false,
     "start_time": "2021-04-16T07:19:20.338048",
     "status": "completed"
    },
    "tags": []
   },
   "outputs": [
    {
     "data": {
      "text/plain": [
       "<html>\n",
       "<head>\n",
       "<title>\n",
       "     Web Scraping 101 - by aiadventures\n",
       "   </title>\n",
       "</head>\n",
       "<body>\n",
       "<div id=\"course\">\n",
       "<h3> Courses at \n",
       "        <a href=\"www.aiadventures.in\">aiadventures</a>\n",
       "</h3>\n",
       "<ul>\n",
       "<li>Python</li>\n",
       "<li>Data Science</li>\n",
       "<li>Machine Learning</li>\n",
       "<li>Deep Learning</li>\n",
       "<li>Computer Vision</li>\n",
       "</ul>\n",
       "</div>\n",
       "<div class=\"follow_us\">\n",
       "<h3> Follow Us </h3>\n",
       "<ul>\n",
       "<li><a href=\"https://www.instagram.com/aiadventures.pune\">Instagram</a></li>\n",
       "<li><a href=\"https://www.linkedin.com/company/aiadventures\">LinkedIn</a></li>\n",
       "<li><a href=\"https://medium.com/aiadventures\">Medium</a></li>\n",
       "<li><a href=\"https://www.youtube.com/channel/UCPZqWUIXZAs926TBRclhUGw\">Youtube</a></li>\n",
       "</ul>\n",
       "</div>\n",
       "</body>\n",
       "</html>"
      ]
     },
     "execution_count": 4,
     "metadata": {},
     "output_type": "execute_result"
    }
   ],
   "source": [
    "soup = bs(ai_html)\n",
    "soup"
   ]
  },
  {
   "cell_type": "markdown",
   "metadata": {
    "id": "9Wade1Kwvc3Q",
    "papermill": {
     "duration": 0.056968,
     "end_time": "2021-04-16T07:19:20.529388",
     "exception": false,
     "start_time": "2021-04-16T07:19:20.472420",
     "status": "completed"
    },
    "tags": []
   },
   "source": [
    "The output looks exactly the same. But under the hood, the complete string has being parsed and organised in the form of a tree, for easy access. For example,"
   ]
  },
  {
   "cell_type": "code",
   "execution_count": 5,
   "metadata": {
    "id": "aEczI-rksw92",
    "outputId": "404f05b1-21f6-4fb9-cf17-dc5c438b92bd",
    "papermill": {
     "duration": 0.067228,
     "end_time": "2021-04-16T07:19:20.654125",
     "exception": false,
     "start_time": "2021-04-16T07:19:20.586897",
     "status": "completed"
    },
    "tags": []
   },
   "outputs": [
    {
     "data": {
      "text/plain": [
       "<title>\n",
       "     Web Scraping 101 - by aiadventures\n",
       "   </title>"
      ]
     },
     "execution_count": 5,
     "metadata": {},
     "output_type": "execute_result"
    }
   ],
   "source": [
    "soup.title"
   ]
  },
  {
   "cell_type": "markdown",
   "metadata": {
    "papermill": {
     "duration": 0.057434,
     "end_time": "2021-04-16T07:19:20.769394",
     "exception": false,
     "start_time": "2021-04-16T07:19:20.711960",
     "status": "completed"
    },
    "tags": []
   },
   "source": [
    "## Selecting Tags\n",
    "To extract information, first we will have to learn how to select/search HTML tags. Only after selecting HTML tags, we can extraction meaningful information from the tags. So, lets get started"
   ]
  },
  {
   "cell_type": "markdown",
   "metadata": {
    "id": "9Wade1Kwvc3Q",
    "papermill": {
     "duration": 0.058257,
     "end_time": "2021-04-16T07:19:20.886247",
     "exception": false,
     "start_time": "2021-04-16T07:19:20.827990",
     "status": "completed"
    },
    "tags": []
   },
   "source": [
    "#### Searching by Tag names\n",
    "The easiest way to search a tag (in BeautifulSoup) is to **search by its name**. You can simply select `title` tag by using `find` method."
   ]
  },
  {
   "cell_type": "code",
   "execution_count": 6,
   "metadata": {
    "id": "itJThScclPkq",
    "outputId": "80114b4f-3eb5-4a39-b1e9-131b6f867aff",
    "papermill": {
     "duration": 0.067749,
     "end_time": "2021-04-16T07:19:21.011761",
     "exception": false,
     "start_time": "2021-04-16T07:19:20.944012",
     "status": "completed"
    },
    "tags": []
   },
   "outputs": [
    {
     "data": {
      "text/plain": [
       "<title>\n",
       "     Web Scraping 101 - by aiadventures\n",
       "   </title>"
      ]
     },
     "execution_count": 6,
     "metadata": {},
     "output_type": "execute_result"
    }
   ],
   "source": [
    "soup.find('title')"
   ]
  },
  {
   "cell_type": "markdown",
   "metadata": {
    "id": "FaXHtyCyx0Mo",
    "papermill": {
     "duration": 0.059065,
     "end_time": "2021-04-16T07:19:21.130156",
     "exception": false,
     "start_time": "2021-04-16T07:19:21.071091",
     "status": "completed"
    },
    "tags": []
   },
   "source": [
    "**Note:** `find()` returns only the first tag/element. You can use `find_all()` to get a list of all the tags/elements.  "
   ]
  },
  {
   "cell_type": "code",
   "execution_count": 7,
   "metadata": {
    "execution": {
     "iopub.execute_input": "2021-04-16T07:19:21.252926Z",
     "iopub.status.busy": "2021-04-16T07:19:21.251989Z",
     "iopub.status.idle": "2021-04-16T07:19:21.257191Z",
     "shell.execute_reply": "2021-04-16T07:19:21.256514Z"
    },
    "id": "fg-lsu8kxvK_",
    "outputId": "d36651d8-2b8b-4574-bdc3-51028e14e674",
    "papermill": {
     "duration": 0.06908,
     "end_time": "2021-04-16T07:19:21.257304",
     "exception": false,
     "start_time": "2021-04-16T07:19:21.188224",
     "status": "completed"
    },
    "tags": []
   },
   "outputs": [
    {
     "data": {
      "text/plain": [
       "[<div id=\"course\">\n",
       " <h3> Courses at \n",
       "         <a href=\"www.aiadventures.in\">aiadventures</a>\n",
       " </h3>\n",
       " <ul>\n",
       " <li>Python</li>\n",
       " <li>Data Science</li>\n",
       " <li>Machine Learning</li>\n",
       " <li>Deep Learning</li>\n",
       " <li>Computer Vision</li>\n",
       " </ul>\n",
       " </div>,\n",
       " <div class=\"follow_us\">\n",
       " <h3> Follow Us </h3>\n",
       " <ul>\n",
       " <li><a href=\"https://www.instagram.com/aiadventures.pune\">Instagram</a></li>\n",
       " <li><a href=\"https://www.linkedin.com/company/aiadventures\">LinkedIn</a></li>\n",
       " <li><a href=\"https://medium.com/aiadventures\">Medium</a></li>\n",
       " <li><a href=\"https://www.youtube.com/channel/UCPZqWUIXZAs926TBRclhUGw\">Youtube</a></li>\n",
       " </ul>\n",
       " </div>]"
      ]
     },
     "execution_count": 7,
     "metadata": {},
     "output_type": "execute_result"
    }
   ],
   "source": [
    "soup.find_all('div')"
   ]
  },
  {
   "cell_type": "markdown",
   "metadata": {
    "id": "DiuvmHfPyhZF",
    "papermill": {
     "duration": 0.058065,
     "end_time": "2021-04-16T07:19:21.374066",
     "exception": false,
     "start_time": "2021-04-16T07:19:21.316001",
     "status": "completed"
    },
    "tags": []
   },
   "source": [
    "**Note:** `find()` returns a *tag* object and `find_all()` retuns a *ResultSet* object which is very similar to *python list*. So, it's very important to keep checking the data type. Because, it tells you, what operations are allowed."
   ]
  },
  {
   "cell_type": "markdown",
   "metadata": {
    "id": "DiuvmHfPyhZF",
    "papermill": {
     "duration": 0.058291,
     "end_time": "2021-04-16T07:19:21.490813",
     "exception": false,
     "start_time": "2021-04-16T07:19:21.432522",
     "status": "completed"
    },
    "tags": []
   },
   "source": [
    "You can also select multiple tags by passing a list of tags. "
   ]
  },
  {
   "cell_type": "code",
   "execution_count": 8,
   "metadata": {
    "id": "R1CXLcCMz7Gr",
    "outputId": "551332e2-f778-4815-9edb-d93976865c72",
    "papermill": {
     "duration": 0.069011,
     "end_time": "2021-04-16T07:19:21.618492",
     "exception": false,
     "start_time": "2021-04-16T07:19:21.549481",
     "status": "completed"
    },
    "tags": []
   },
   "outputs": [
    {
     "data": {
      "text/plain": [
       "[<h3> Courses at \n",
       "         <a href=\"www.aiadventures.in\">aiadventures</a>\n",
       " </h3>,\n",
       " <ul>\n",
       " <li>Python</li>\n",
       " <li>Data Science</li>\n",
       " <li>Machine Learning</li>\n",
       " <li>Deep Learning</li>\n",
       " <li>Computer Vision</li>\n",
       " </ul>,\n",
       " <h3> Follow Us </h3>,\n",
       " <ul>\n",
       " <li><a href=\"https://www.instagram.com/aiadventures.pune\">Instagram</a></li>\n",
       " <li><a href=\"https://www.linkedin.com/company/aiadventures\">LinkedIn</a></li>\n",
       " <li><a href=\"https://medium.com/aiadventures\">Medium</a></li>\n",
       " <li><a href=\"https://www.youtube.com/channel/UCPZqWUIXZAs926TBRclhUGw\">Youtube</a></li>\n",
       " </ul>]"
      ]
     },
     "execution_count": 8,
     "metadata": {},
     "output_type": "execute_result"
    }
   ],
   "source": [
    "## Select both h3 and ul tags\n",
    "soup.find_all(['h3', 'ul'])"
   ]
  },
  {
   "cell_type": "markdown",
   "metadata": {
    "id": "nHgYsvNiy3e5",
    "papermill": {
     "duration": 0.059314,
     "end_time": "2021-04-16T07:19:21.736982",
     "exception": false,
     "start_time": "2021-04-16T07:19:21.677668",
     "status": "completed"
    },
    "tags": []
   },
   "source": [
    "### Searching by Tag attributes\n",
    "\n",
    "Sometimes, we want to select tags based on attributes & its value. Its pretty simple, just pass the attribute (with the value) as an argument.\n",
    "\n",
    "For example, to select *div* tag with `id = course`, we can write . . . "
   ]
  },
  {
   "cell_type": "code",
   "execution_count": 9,
   "metadata": {
    "execution": {
     "iopub.execute_input": "2021-04-16T07:19:21.863979Z",
     "iopub.status.busy": "2021-04-16T07:19:21.863108Z",
     "iopub.status.idle": "2021-04-16T07:19:21.867755Z",
     "shell.execute_reply": "2021-04-16T07:19:21.867093Z"
    },
    "id": "ZFLI9hJu0hcs",
    "outputId": "9a79105d-89e2-4769-890c-a186791ce275",
    "papermill": {
     "duration": 0.071455,
     "end_time": "2021-04-16T07:19:21.867888",
     "exception": false,
     "start_time": "2021-04-16T07:19:21.796433",
     "status": "completed"
    },
    "tags": []
   },
   "outputs": [
    {
     "data": {
      "text/plain": [
       "<div id=\"course\">\n",
       "<h3> Courses at \n",
       "        <a href=\"www.aiadventures.in\">aiadventures</a>\n",
       "</h3>\n",
       "<ul>\n",
       "<li>Python</li>\n",
       "<li>Data Science</li>\n",
       "<li>Machine Learning</li>\n",
       "<li>Deep Learning</li>\n",
       "<li>Computer Vision</li>\n",
       "</ul>\n",
       "</div>"
      ]
     },
     "execution_count": 9,
     "metadata": {},
     "output_type": "execute_result"
    }
   ],
   "source": [
    "soup.find('div', id='course')"
   ]
  },
  {
   "cell_type": "markdown",
   "metadata": {
    "papermill": {
     "duration": 0.058727,
     "end_time": "2021-04-16T07:19:21.991213",
     "exception": false,
     "start_time": "2021-04-16T07:19:21.932486",
     "status": "completed"
    },
    "tags": []
   },
   "source": [
    "and to select *div* tag with `class = follow_us`, we can write . . ."
   ]
  },
  {
   "cell_type": "code",
   "execution_count": 10,
   "metadata": {
    "execution": {
     "iopub.execute_input": "2021-04-16T07:19:22.120884Z",
     "iopub.status.busy": "2021-04-16T07:19:22.119982Z",
     "iopub.status.idle": "2021-04-16T07:19:22.124490Z",
     "shell.execute_reply": "2021-04-16T07:19:22.123898Z"
    },
    "id": "jU7xuJF3lPgf",
    "outputId": "da5db719-df50-4077-85c6-554f0f6913f1",
    "papermill": {
     "duration": 0.072805,
     "end_time": "2021-04-16T07:19:22.124600",
     "exception": false,
     "start_time": "2021-04-16T07:19:22.051795",
     "status": "completed"
    },
    "tags": []
   },
   "outputs": [
    {
     "data": {
      "text/plain": [
       "<div class=\"follow_us\">\n",
       "<h3> Follow Us </h3>\n",
       "<ul>\n",
       "<li><a href=\"https://www.instagram.com/aiadventures.pune\">Instagram</a></li>\n",
       "<li><a href=\"https://www.linkedin.com/company/aiadventures\">LinkedIn</a></li>\n",
       "<li><a href=\"https://medium.com/aiadventures\">Medium</a></li>\n",
       "<li><a href=\"https://www.youtube.com/channel/UCPZqWUIXZAs926TBRclhUGw\">Youtube</a></li>\n",
       "</ul>\n",
       "</div>"
      ]
     },
     "execution_count": 10,
     "metadata": {},
     "output_type": "execute_result"
    }
   ],
   "source": [
    "soup.find('div', class_='follow_us')"
   ]
  },
  {
   "cell_type": "markdown",
   "metadata": {
    "papermill": {
     "duration": 0.059018,
     "end_time": "2021-04-16T07:19:22.243498",
     "exception": false,
     "start_time": "2021-04-16T07:19:22.184480",
     "status": "completed"
    },
    "tags": []
   },
   "source": [
    "**Note:** The `class` keyword is already taken python language, hence BeautifulSoup uses `class_` (extra '_' at the end).\n",
    "\n",
    "You can also select a tag by checking if an attribute is present or not."
   ]
  },
  {
   "cell_type": "code",
   "execution_count": 11,
   "metadata": {
    "execution": {
     "iopub.execute_input": "2021-04-16T07:19:22.370235Z",
     "iopub.status.busy": "2021-04-16T07:19:22.369560Z",
     "iopub.status.idle": "2021-04-16T07:19:22.373889Z",
     "shell.execute_reply": "2021-04-16T07:19:22.373359Z"
    },
    "id": "j5pas2n71cUX",
    "outputId": "1a85335a-caa2-40d7-f507-f61bf35237cf",
    "papermill": {
     "duration": 0.07099,
     "end_time": "2021-04-16T07:19:22.374005",
     "exception": false,
     "start_time": "2021-04-16T07:19:22.303015",
     "status": "completed"
    },
    "tags": []
   },
   "outputs": [
    {
     "data": {
      "text/plain": [
       "<div id=\"course\">\n",
       "<h3> Courses at \n",
       "        <a href=\"www.aiadventures.in\">aiadventures</a>\n",
       "</h3>\n",
       "<ul>\n",
       "<li>Python</li>\n",
       "<li>Data Science</li>\n",
       "<li>Machine Learning</li>\n",
       "<li>Deep Learning</li>\n",
       "<li>Computer Vision</li>\n",
       "</ul>\n",
       "</div>"
      ]
     },
     "execution_count": 11,
     "metadata": {},
     "output_type": "execute_result"
    }
   ],
   "source": [
    "## Selects all the 'div' which has 'id' attribute\n",
    "soup.find('div', id=True)"
   ]
  },
  {
   "cell_type": "markdown",
   "metadata": {
    "id": "35WMpIbH4NXc",
    "papermill": {
     "duration": 0.059942,
     "end_time": "2021-04-16T07:19:22.494097",
     "exception": false,
     "start_time": "2021-04-16T07:19:22.434155",
     "status": "completed"
    },
    "tags": []
   },
   "source": [
    "#### Regular Expressions\n",
    "\n",
    "Everywhere, you can **use regular expressions** (instead of strings) to select tags & its attribute values."
   ]
  },
  {
   "cell_type": "code",
   "execution_count": 12,
   "metadata": {
    "execution": {
     "iopub.execute_input": "2021-04-16T07:19:22.623357Z",
     "iopub.status.busy": "2021-04-16T07:19:22.622651Z",
     "iopub.status.idle": "2021-04-16T07:19:22.626309Z",
     "shell.execute_reply": "2021-04-16T07:19:22.625737Z"
    },
    "id": "ajixkasflPdG",
    "outputId": "dcc8971a-69f5-411d-f37c-4d2951552635",
    "papermill": {
     "duration": 0.071773,
     "end_time": "2021-04-16T07:19:22.626422",
     "exception": false,
     "start_time": "2021-04-16T07:19:22.554649",
     "status": "completed"
    },
    "tags": []
   },
   "outputs": [
    {
     "data": {
      "text/plain": [
       "<div class=\"follow_us\">\n",
       "<h3> Follow Us </h3>\n",
       "<ul>\n",
       "<li><a href=\"https://www.instagram.com/aiadventures.pune\">Instagram</a></li>\n",
       "<li><a href=\"https://www.linkedin.com/company/aiadventures\">LinkedIn</a></li>\n",
       "<li><a href=\"https://medium.com/aiadventures\">Medium</a></li>\n",
       "<li><a href=\"https://www.youtube.com/channel/UCPZqWUIXZAs926TBRclhUGw\">Youtube</a></li>\n",
       "</ul>\n",
       "</div>"
      ]
     },
     "execution_count": 12,
     "metadata": {},
     "output_type": "execute_result"
    }
   ],
   "source": [
    "import re\n",
    "soup.find(re.compile('di'), class_= re.compile('follow_us'))"
   ]
  },
  {
   "cell_type": "markdown",
   "metadata": {
    "papermill": {
     "duration": 0.059991,
     "end_time": "2021-04-16T07:19:22.747133",
     "exception": false,
     "start_time": "2021-04-16T07:19:22.687142",
     "status": "completed"
    },
    "tags": []
   },
   "source": [
    "The above code will select the first tag whose name matches the regular expression `di`, and where the value of class attribute matches the regular expression `follow_us`."
   ]
  },
  {
   "cell_type": "markdown",
   "metadata": {
    "id": "DwpYebpY4cRB",
    "papermill": {
     "duration": 0.061453,
     "end_time": "2021-04-16T07:19:22.868993",
     "exception": false,
     "start_time": "2021-04-16T07:19:22.807540",
     "status": "completed"
    },
    "tags": []
   },
   "source": [
    "### Accessing information\n",
    "\n",
    "So far, we have learnt how to select HTML tags. This is important because, once you have selected the elements, you can access all the information present inside it.\n",
    "\n",
    "Every tag has 3 major components:\n",
    "- Tag name\n",
    "- Text between the open & close tags, called **Inner text**.\n",
    "- Tag attributes and its values\n",
    "\n",
    "Lets see how we can extract all these information from our `title_tag`."
   ]
  },
  {
   "cell_type": "code",
   "execution_count": 13,
   "metadata": {
    "execution": {
     "iopub.execute_input": "2021-04-16T07:19:22.994780Z",
     "iopub.status.busy": "2021-04-16T07:19:22.994095Z",
     "iopub.status.idle": "2021-04-16T07:19:23.000078Z",
     "shell.execute_reply": "2021-04-16T07:19:23.000757Z"
    },
    "id": "sYGf0r4S5LCA",
    "outputId": "01a872fa-6f93-45bd-d928-c07d1491fdf9",
    "papermill": {
     "duration": 0.069571,
     "end_time": "2021-04-16T07:19:23.000921",
     "exception": false,
     "start_time": "2021-04-16T07:19:22.931350",
     "status": "completed"
    },
    "tags": []
   },
   "outputs": [
    {
     "data": {
      "text/plain": [
       "<title>\n",
       "     Web Scraping 101 - by aiadventures\n",
       "   </title>"
      ]
     },
     "execution_count": 13,
     "metadata": {},
     "output_type": "execute_result"
    }
   ],
   "source": [
    "title_tag = soup.find('title')\n",
    "title_tag"
   ]
  },
  {
   "cell_type": "markdown",
   "metadata": {
    "papermill": {
     "duration": 0.061728,
     "end_time": "2021-04-16T07:19:23.124663",
     "exception": false,
     "start_time": "2021-04-16T07:19:23.062935",
     "status": "completed"
    },
    "tags": []
   },
   "source": [
    "#### Tag name\n",
    "\n",
    "To access the tag name, you can simple run `tag_element.name`."
   ]
  },
  {
   "cell_type": "code",
   "execution_count": 14,
   "metadata": {
    "execution": {
     "iopub.execute_input": "2021-04-16T07:19:23.249555Z",
     "iopub.status.busy": "2021-04-16T07:19:23.248914Z",
     "iopub.status.idle": "2021-04-16T07:19:23.255537Z",
     "shell.execute_reply": "2021-04-16T07:19:23.255002Z"
    },
    "papermill": {
     "duration": 0.070125,
     "end_time": "2021-04-16T07:19:23.255657",
     "exception": false,
     "start_time": "2021-04-16T07:19:23.185532",
     "status": "completed"
    },
    "tags": []
   },
   "outputs": [
    {
     "data": {
      "text/plain": [
       "'title'"
      ]
     },
     "execution_count": 14,
     "metadata": {},
     "output_type": "execute_result"
    }
   ],
   "source": [
    "title_tag.name"
   ]
  },
  {
   "cell_type": "markdown",
   "metadata": {
    "papermill": {
     "duration": 0.060994,
     "end_time": "2021-04-16T07:19:23.378286",
     "exception": false,
     "start_time": "2021-04-16T07:19:23.317292",
     "status": "completed"
    },
    "tags": []
   },
   "source": [
    "#### Inner text"
   ]
  },
  {
   "cell_type": "markdown",
   "metadata": {
    "papermill": {
     "duration": 0.061047,
     "end_time": "2021-04-16T07:19:23.500448",
     "exception": false,
     "start_time": "2021-04-16T07:19:23.439401",
     "status": "completed"
    },
    "tags": []
   },
   "source": [
    "To access the inner Text, you can simple run `tag_element.text`."
   ]
  },
  {
   "cell_type": "code",
   "execution_count": 15,
   "metadata": {
    "execution": {
     "iopub.execute_input": "2021-04-16T07:19:23.628277Z",
     "iopub.status.busy": "2021-04-16T07:19:23.627480Z",
     "iopub.status.idle": "2021-04-16T07:19:23.631306Z",
     "shell.execute_reply": "2021-04-16T07:19:23.631758Z"
    },
    "id": "eJUZTK8D5K5F",
    "outputId": "64b82d54-68ff-41e1-ed45-70e1d2350d04",
    "papermill": {
     "duration": 0.069963,
     "end_time": "2021-04-16T07:19:23.631930",
     "exception": false,
     "start_time": "2021-04-16T07:19:23.561967",
     "status": "completed"
    },
    "tags": []
   },
   "outputs": [
    {
     "data": {
      "text/plain": [
       "'\\n     Web Scraping 101 - by aiadventures\\n   '"
      ]
     },
     "execution_count": 15,
     "metadata": {},
     "output_type": "execute_result"
    }
   ],
   "source": [
    "title_tag.text"
   ]
  },
  {
   "cell_type": "markdown",
   "metadata": {
    "papermill": {
     "duration": 0.06139,
     "end_time": "2021-04-16T07:19:23.755545",
     "exception": false,
     "start_time": "2021-04-16T07:19:23.694155",
     "status": "completed"
    },
    "tags": []
   },
   "source": [
    "#### Attribute values\n",
    "\n",
    "You can also extract the attribute values as follows:"
   ]
  },
  {
   "cell_type": "code",
   "execution_count": 16,
   "metadata": {
    "execution": {
     "iopub.execute_input": "2021-04-16T07:19:23.892269Z",
     "iopub.status.busy": "2021-04-16T07:19:23.891314Z",
     "iopub.status.idle": "2021-04-16T07:19:23.895147Z",
     "shell.execute_reply": "2021-04-16T07:19:23.895795Z"
    },
    "papermill": {
     "duration": 0.078673,
     "end_time": "2021-04-16T07:19:23.895960",
     "exception": false,
     "start_time": "2021-04-16T07:19:23.817287",
     "status": "completed"
    },
    "tags": []
   },
   "outputs": [
    {
     "data": {
      "text/plain": [
       "<a href=\"www.aiadventures.in\">aiadventures</a>"
      ]
     },
     "execution_count": 16,
     "metadata": {},
     "output_type": "execute_result"
    }
   ],
   "source": [
    "a_tag = soup.find('a')\n",
    "a_tag"
   ]
  },
  {
   "cell_type": "markdown",
   "metadata": {
    "papermill": {
     "duration": 0.066975,
     "end_time": "2021-04-16T07:19:24.041447",
     "exception": false,
     "start_time": "2021-04-16T07:19:23.974472",
     "status": "completed"
    },
    "tags": []
   },
   "source": [
    "Once you have the tag, just think of it as a dictionary. You can easily access any attribute by passing it as a key."
   ]
  },
  {
   "cell_type": "code",
   "execution_count": 17,
   "metadata": {
    "execution": {
     "iopub.execute_input": "2021-04-16T07:19:24.172251Z",
     "iopub.status.busy": "2021-04-16T07:19:24.171169Z",
     "iopub.status.idle": "2021-04-16T07:19:24.176728Z",
     "shell.execute_reply": "2021-04-16T07:19:24.177351Z"
    },
    "papermill": {
     "duration": 0.073089,
     "end_time": "2021-04-16T07:19:24.177491",
     "exception": false,
     "start_time": "2021-04-16T07:19:24.104402",
     "status": "completed"
    },
    "tags": []
   },
   "outputs": [
    {
     "data": {
      "text/plain": [
       "'www.aiadventures.in'"
      ]
     },
     "execution_count": 17,
     "metadata": {},
     "output_type": "execute_result"
    }
   ],
   "source": [
    "a_tag['href']"
   ]
  },
  {
   "cell_type": "markdown",
   "metadata": {
    "papermill": {
     "duration": 0.063906,
     "end_time": "2021-04-16T07:19:24.304081",
     "exception": false,
     "start_time": "2021-04-16T07:19:24.240175",
     "status": "completed"
    },
    "tags": []
   },
   "source": [
    "Once you know how to extract attribute values, you can easily extract all the links by running the following code"
   ]
  },
  {
   "cell_type": "code",
   "execution_count": 18,
   "metadata": {
    "execution": {
     "iopub.execute_input": "2021-04-16T07:19:24.433327Z",
     "iopub.status.busy": "2021-04-16T07:19:24.432288Z",
     "iopub.status.idle": "2021-04-16T07:19:24.440314Z",
     "shell.execute_reply": "2021-04-16T07:19:24.439777Z"
    },
    "id": "pCk6yTbq5Ks3",
    "outputId": "204807ef-8b21-4103-da2d-cf3950109905",
    "papermill": {
     "duration": 0.073897,
     "end_time": "2021-04-16T07:19:24.440429",
     "exception": false,
     "start_time": "2021-04-16T07:19:24.366532",
     "status": "completed"
    },
    "tags": []
   },
   "outputs": [
    {
     "data": {
      "text/plain": [
       "['www.aiadventures.in',\n",
       " 'https://www.instagram.com/aiadventures.pune',\n",
       " 'https://www.linkedin.com/company/aiadventures',\n",
       " 'https://medium.com/aiadventures',\n",
       " 'https://www.youtube.com/channel/UCPZqWUIXZAs926TBRclhUGw']"
      ]
     },
     "execution_count": 18,
     "metadata": {},
     "output_type": "execute_result"
    }
   ],
   "source": [
    "[a_tag['href'] for a_tag in soup.find_all('a')]"
   ]
  },
  {
   "cell_type": "markdown",
   "metadata": {
    "papermill": {
     "duration": 0.062434,
     "end_time": "2021-04-16T07:19:24.566101",
     "exception": false,
     "start_time": "2021-04-16T07:19:24.503667",
     "status": "completed"
    },
    "tags": []
   },
   "source": [
    "Take a minute to think & see if the above code make sense."
   ]
  },
  {
   "cell_type": "markdown",
   "metadata": {
    "id": "QqUk0jEC6qT1",
    "papermill": {
     "duration": 0.062493,
     "end_time": "2021-04-16T07:19:24.691085",
     "exception": false,
     "start_time": "2021-04-16T07:19:24.628592",
     "status": "completed"
    },
    "tags": []
   },
   "source": [
    "### Further Reading\n",
    "\n",
    "So far, we have just scratched the surface. But I think this is good enough to get you started with `BeautifulSoup` & to scrape most of the static pages on the web. `BeautifulSoup` has much more to offer, like \n",
    "- Searching the tree, [read more](https://www.crummy.com/software/BeautifulSoup/bs4/doc/#searching-the-tree)\n",
    "- CSS Selector, [read more](https://www.crummy.com/software/BeautifulSoup/bs4/doc/#css-selectors)\n",
    "- Navigating DOM tree, [read more](https://www.crummy.com/software/BeautifulSoup/bs4/doc/#navigating-the-tree)\n",
    "- Manipulating Elements, [read more](https://www.crummy.com/software/BeautifulSoup/bs4/doc/#modifying-the-tree)\n",
    "- and much more . . .\n",
    "\n",
    "I will highly recommend you to take some time and read more about `BeautifulSoup`. Here are some good YT videos on Web Scraping\n",
    "- https://www.youtube.com/watch?v=RUQWPJ1T6Zc\n",
    "- https://www.youtube.com/watch?v=RKsLLG-bzEY\n",
    "\n",
    "Note: Both the videos are approximately 3hrs long but are worth it. Also, they include projects & some more project ideas for you to practice later.\n",
    "\n",
    "We will now shift gears and will try to scrape a real web page."
   ]
  },
  {
   "cell_type": "markdown",
   "metadata": {
    "id": "6vElN6kp8aN9",
    "papermill": {
     "duration": 0.062413,
     "end_time": "2021-04-16T07:19:24.816043",
     "exception": false,
     "start_time": "2021-04-16T07:19:24.753630",
     "status": "completed"
    },
    "tags": []
   },
   "source": [
    "# Scraping a Real web page\n",
    "\n",
    "**Web Scraping is not always the solution!**\n",
    "\n",
    "Some websites provide data that can be downloaded in CSV format, or can be accessible via Application Programming Interfaces (APIs). Use web scraping only when both these options are not available.\n",
    "\n",
    "**Legalities**\n",
    "\n",
    "Generally, if you are going to use the scraped data for personal or educational purpose, then there may not be any problem. But if you are going to use it for commercial purpose then I will highly recommend you to do some background research about website's scraping policies as well about the data you are going to scrape.\n",
    "\n",
    "To understand the terms and conditions of any website, you can start with **robots.txt** file. For any website, simply write *robots.txt* after the website address. For example, www.google.com/robots.txt\n",
    "\n",
    "**Finally,**\n",
    "\n",
    "Once you make sure that you are not breaking any law/policy, then you should spend some time **analysis the web page**. Doing things like:\n",
    "- View page source\n",
    "- Inspect DOM elements\n",
    "- Is the page static/dynamic ?\n",
    "- Is it using AJAX calls ?\n",
    "\n",
    "After you know answers to all the above questions. You are good to start web scraping.\n",
    "\n",
    "In this notebook, we will scrape all the books from http://books.toscrape.com/ website. So, try looking at page source, & also inspect the book element."
   ]
  },
  {
   "cell_type": "markdown",
   "metadata": {
    "id": "m_AwX4EJq3hm",
    "papermill": {
     "duration": 0.063006,
     "end_time": "2021-04-16T07:19:24.941600",
     "exception": false,
     "start_time": "2021-04-16T07:19:24.878594",
     "status": "completed"
    },
    "tags": []
   },
   "source": [
    "### Requests library\n",
    "\n",
    "`requests` is python library used to download the contents of the web page. With the help of `requests`, we can get the raw HTML of web pages which can then be parsed using `BeautifulSoup`. \n",
    "\n",
    "Remember, BeautifulSoup is a parsing library, it cannot fetch a web page by itself. "
   ]
  },
  {
   "cell_type": "code",
   "execution_count": 19,
   "metadata": {
    "execution": {
     "iopub.execute_input": "2021-04-16T07:19:25.074142Z",
     "iopub.status.busy": "2021-04-16T07:19:25.073035Z",
     "iopub.status.idle": "2021-04-16T07:19:25.075558Z",
     "shell.execute_reply": "2021-04-16T07:19:25.076132Z"
    },
    "id": "DWxevsqudQqY",
    "papermill": {
     "duration": 0.071028,
     "end_time": "2021-04-16T07:19:25.076277",
     "exception": false,
     "start_time": "2021-04-16T07:19:25.005249",
     "status": "completed"
    },
    "tags": []
   },
   "outputs": [],
   "source": [
    "import requests"
   ]
  },
  {
   "cell_type": "code",
   "execution_count": 20,
   "metadata": {
    "execution": {
     "iopub.execute_input": "2021-04-16T07:19:25.207959Z",
     "iopub.status.busy": "2021-04-16T07:19:25.206952Z",
     "iopub.status.idle": "2021-04-16T07:19:25.944296Z",
     "shell.execute_reply": "2021-04-16T07:19:25.943561Z"
    },
    "id": "exAMuLZdY1ag",
    "outputId": "e46774df-936e-4391-e0ce-aade963430e4",
    "papermill": {
     "duration": 0.803705,
     "end_time": "2021-04-16T07:19:25.944424",
     "exception": false,
     "start_time": "2021-04-16T07:19:25.140719",
     "status": "completed"
    },
    "tags": []
   },
   "outputs": [
    {
     "data": {
      "text/plain": [
       "<Response [200]>"
      ]
     },
     "execution_count": 20,
     "metadata": {},
     "output_type": "execute_result"
    }
   ],
   "source": [
    "url = 'http://books.toscrape.com/'\n",
    "response = requests.get(url)\n",
    "response"
   ]
  },
  {
   "cell_type": "markdown",
   "metadata": {
    "id": "atxzeRI7cpY6",
    "papermill": {
     "duration": 0.063281,
     "end_time": "2021-04-16T07:19:26.072574",
     "exception": false,
     "start_time": "2021-04-16T07:19:26.009293",
     "status": "completed"
    },
    "tags": []
   },
   "source": [
    "you can also check the response status as follows"
   ]
  },
  {
   "cell_type": "code",
   "execution_count": 21,
   "metadata": {
    "execution": {
     "iopub.execute_input": "2021-04-16T07:19:26.209438Z",
     "iopub.status.busy": "2021-04-16T07:19:26.208584Z",
     "iopub.status.idle": "2021-04-16T07:19:26.212899Z",
     "shell.execute_reply": "2021-04-16T07:19:26.212277Z"
    },
    "id": "wwJTYW6naZnz",
    "outputId": "af36cb34-a7a9-4c6c-c60a-2f00cdc3c1a4",
    "papermill": {
     "duration": 0.073028,
     "end_time": "2021-04-16T07:19:26.213012",
     "exception": false,
     "start_time": "2021-04-16T07:19:26.139984",
     "status": "completed"
    },
    "tags": []
   },
   "outputs": [
    {
     "data": {
      "text/plain": [
       "200"
      ]
     },
     "execution_count": 21,
     "metadata": {},
     "output_type": "execute_result"
    }
   ],
   "source": [
    "response.status_code"
   ]
  },
  {
   "cell_type": "markdown",
   "metadata": {
    "id": "J1Bx6mOYa1pV",
    "papermill": {
     "duration": 0.06339,
     "end_time": "2021-04-16T07:19:26.340687",
     "exception": false,
     "start_time": "2021-04-16T07:19:26.277297",
     "status": "completed"
    },
    "tags": []
   },
   "source": [
    "*200* means the request was successfully served. These are called **HTTP response status codes**. You can read more about them, [here](https://developer.mozilla.org/en-US/docs/Web/HTTP/Status).\n",
    "\n",
    "Now, that the request to http://books.toscrape.com/ has been successfully served, we can get the all HTML text by calling `response.text`. Lets look at the first 1000 characters."
   ]
  },
  {
   "cell_type": "code",
   "execution_count": 22,
   "metadata": {
    "execution": {
     "iopub.execute_input": "2021-04-16T07:19:26.472085Z",
     "iopub.status.busy": "2021-04-16T07:19:26.471393Z",
     "iopub.status.idle": "2021-04-16T07:19:26.476310Z",
     "shell.execute_reply": "2021-04-16T07:19:26.476817Z"
    },
    "id": "rkvXR4-JY_p4",
    "outputId": "d6134fe3-97de-4701-ffc6-39950f0088ad",
    "papermill": {
     "duration": 0.072206,
     "end_time": "2021-04-16T07:19:26.476993",
     "exception": false,
     "start_time": "2021-04-16T07:19:26.404787",
     "status": "completed"
    },
    "tags": []
   },
   "outputs": [
    {
     "name": "stdout",
     "output_type": "stream",
     "text": [
      "<!DOCTYPE html>\n",
      "<!--[if lt IE 7]>      <html lang=\"en-us\" class=\"no-js lt-ie9 lt-ie8 lt-ie7\"> <![endif]-->\n",
      "<!--[if IE 7]>         <html lang=\"en-us\" class=\"no-js lt-ie9 lt-ie8\"> <![endif]-->\n",
      "<!--[if IE 8]>         <html lang=\"en-us\" class=\"no-js lt-ie9\"> <![endif]-->\n",
      "<!--[if gt IE 8]><!--> <html lang=\"en-us\" class=\"no-js\"> <!--<![endif]-->\n",
      "    <head>\n",
      "        <title>\n",
      "    All products | Books to Scrape - Sandbox\n",
      "</title>\n",
      "\n",
      "        <meta http-equiv=\"content-type\" content=\"text/html; charset=UTF-8\" />\n",
      "        <meta name=\"created\" content=\"24th Jun 2016 09:29\" />\n",
      "        <meta name=\"description\" content=\"\" />\n",
      "        <meta name=\"viewport\" content=\"width=device-width\" />\n",
      "        <meta name=\"robots\" content=\"NOARCHIVE,NOCACHE\" />\n",
      "\n",
      "        <!-- Le HTML5 shim, for IE6-8 support of HTML elements -->\n",
      "        <!--[if lt IE 9]>\n",
      "        <script src=\"//html5shim.googlecode.com/svn/trunk/html5.js\"></script>\n",
      "        <![endif]-->\n",
      "\n",
      "        \n",
      "            <link rel=\"shortcut icon\" href=\"static/oscar/favicon.\n"
     ]
    }
   ],
   "source": [
    "print(response.text[:1000])"
   ]
  },
  {
   "cell_type": "markdown",
   "metadata": {
    "id": "ZD7Qys14ZTnN",
    "papermill": {
     "duration": 0.064716,
     "end_time": "2021-04-16T07:19:26.606592",
     "exception": false,
     "start_time": "2021-04-16T07:19:26.541876",
     "status": "completed"
    },
    "tags": []
   },
   "source": [
    "**`response.text` vs `response.content`**\n",
    "\n",
    "- `text` is the content of the response in **Unicode**, and `content` is the content of the response in **bytes**.\n",
    "\n",
    "- `text` would be preferred for textual responses, such as an HTML or XML document, and `content` would be preferred for \"binary\" filetypes, such as an image or PDF file.\n"
   ]
  },
  {
   "cell_type": "code",
   "execution_count": 23,
   "metadata": {
    "execution": {
     "iopub.execute_input": "2021-04-16T07:19:26.740060Z",
     "iopub.status.busy": "2021-04-16T07:19:26.739041Z",
     "iopub.status.idle": "2021-04-16T07:19:26.745749Z",
     "shell.execute_reply": "2021-04-16T07:19:26.745179Z"
    },
    "id": "2uhVd1FgZBg1",
    "outputId": "e9710a65-85b3-48d8-b020-6c071ab32845",
    "papermill": {
     "duration": 0.07453,
     "end_time": "2021-04-16T07:19:26.745887",
     "exception": false,
     "start_time": "2021-04-16T07:19:26.671357",
     "status": "completed"
    },
    "tags": []
   },
   "outputs": [
    {
     "data": {
      "text/plain": [
       "str"
      ]
     },
     "execution_count": 23,
     "metadata": {},
     "output_type": "execute_result"
    }
   ],
   "source": [
    "type(response.text)"
   ]
  },
  {
   "cell_type": "markdown",
   "metadata": {
    "id": "xIu5eO8WdtU5",
    "papermill": {
     "duration": 0.065212,
     "end_time": "2021-04-16T07:19:26.876507",
     "exception": false,
     "start_time": "2021-04-16T07:19:26.811295",
     "status": "completed"
    },
    "tags": []
   },
   "source": [
    "Since, `response.text` is simply a python string, we can directly pass it to `BeautifulSoup` to get the *soup* object"
   ]
  },
  {
   "cell_type": "code",
   "execution_count": 24,
   "metadata": {
    "execution": {
     "iopub.execute_input": "2021-04-16T07:19:27.012752Z",
     "iopub.status.busy": "2021-04-16T07:19:27.012091Z",
     "iopub.status.idle": "2021-04-16T07:19:27.043443Z",
     "shell.execute_reply": "2021-04-16T07:19:27.042911Z"
    },
    "id": "d0SfW0nghlPB",
    "outputId": "96b7a7d1-c7a4-4dce-d5d1-9f6f59b8f8db",
    "papermill": {
     "duration": 0.101615,
     "end_time": "2021-04-16T07:19:27.043559",
     "exception": false,
     "start_time": "2021-04-16T07:19:26.941944",
     "status": "completed"
    },
    "tags": []
   },
   "outputs": [
    {
     "data": {
      "text/plain": [
       "bs4.BeautifulSoup"
      ]
     },
     "execution_count": 24,
     "metadata": {},
     "output_type": "execute_result"
    }
   ],
   "source": [
    "soup = bs(response.text)\n",
    "type(soup)"
   ]
  },
  {
   "cell_type": "markdown",
   "metadata": {
    "papermill": {
     "duration": 0.06676,
     "end_time": "2021-04-16T07:19:27.176271",
     "exception": false,
     "start_time": "2021-04-16T07:19:27.109511",
     "status": "completed"
    },
    "tags": []
   },
   "source": [
    "Lets have a look at the site title"
   ]
  },
  {
   "cell_type": "code",
   "execution_count": 25,
   "metadata": {
    "execution": {
     "iopub.execute_input": "2021-04-16T07:19:27.313497Z",
     "iopub.status.busy": "2021-04-16T07:19:27.312550Z",
     "iopub.status.idle": "2021-04-16T07:19:27.317259Z",
     "shell.execute_reply": "2021-04-16T07:19:27.316616Z"
    },
    "id": "Z5LgswnIhtR4",
    "outputId": "d1eb662a-4b49-42db-eb58-b9fe37ad9309",
    "papermill": {
     "duration": 0.075322,
     "end_time": "2021-04-16T07:19:27.317368",
     "exception": false,
     "start_time": "2021-04-16T07:19:27.242046",
     "status": "completed"
    },
    "tags": []
   },
   "outputs": [
    {
     "data": {
      "text/plain": [
       "'\\n    All products | Books to Scrape - Sandbox\\n'"
      ]
     },
     "execution_count": 25,
     "metadata": {},
     "output_type": "execute_result"
    }
   ],
   "source": [
    "soup.find('title').text"
   ]
  },
  {
   "cell_type": "markdown",
   "metadata": {
    "papermill": {
     "duration": 0.065414,
     "end_time": "2021-04-16T07:19:27.449137",
     "exception": false,
     "start_time": "2021-04-16T07:19:27.383723",
     "status": "completed"
    },
    "tags": []
   },
   "source": [
    "not very pretty to look at. We can use `strip()` string method"
   ]
  },
  {
   "cell_type": "code",
   "execution_count": 26,
   "metadata": {
    "execution": {
     "iopub.execute_input": "2021-04-16T07:19:27.586476Z",
     "iopub.status.busy": "2021-04-16T07:19:27.585736Z",
     "iopub.status.idle": "2021-04-16T07:19:27.589930Z",
     "shell.execute_reply": "2021-04-16T07:19:27.589379Z"
    },
    "papermill": {
     "duration": 0.075097,
     "end_time": "2021-04-16T07:19:27.590038",
     "exception": false,
     "start_time": "2021-04-16T07:19:27.514941",
     "status": "completed"
    },
    "tags": []
   },
   "outputs": [
    {
     "data": {
      "text/plain": [
       "'All products | Books to Scrape - Sandbox'"
      ]
     },
     "execution_count": 26,
     "metadata": {},
     "output_type": "execute_result"
    }
   ],
   "source": [
    "soup.find('title').text.strip()"
   ]
  },
  {
   "cell_type": "markdown",
   "metadata": {
    "papermill": {
     "duration": 0.06578,
     "end_time": "2021-04-16T07:19:27.722019",
     "exception": false,
     "start_time": "2021-04-16T07:19:27.656239",
     "status": "completed"
    },
    "tags": []
   },
   "source": [
    "Its time to inspect all the HTML tag and to identify the book tag so that we can extract information about the books.\n",
    "\n",
    "![](https://i.imgur.com/LpmDAgg.jpg)\n",
    "\n",
    "As you can see in the above image, our book is placed inside 'article' tag and the class name is 'product_pod'. We can easily select all the 'article' tags where the class is 'product_pod' using the below code . . ."
   ]
  },
  {
   "cell_type": "code",
   "execution_count": 27,
   "metadata": {
    "execution": {
     "iopub.execute_input": "2021-04-16T07:19:27.857641Z",
     "iopub.status.busy": "2021-04-16T07:19:27.856977Z",
     "iopub.status.idle": "2021-04-16T07:19:27.865579Z",
     "shell.execute_reply": "2021-04-16T07:19:27.866081Z"
    },
    "id": "AIMZVhaNC7ZF",
    "papermill": {
     "duration": 0.077995,
     "end_time": "2021-04-16T07:19:27.866234",
     "exception": false,
     "start_time": "2021-04-16T07:19:27.788239",
     "status": "completed"
    },
    "tags": []
   },
   "outputs": [],
   "source": [
    "books_tag = soup.find_all('article', class_='product_pod')"
   ]
  },
  {
   "cell_type": "markdown",
   "metadata": {
    "papermill": {
     "duration": 0.066041,
     "end_time": "2021-04-16T07:19:27.998975",
     "exception": false,
     "start_time": "2021-04-16T07:19:27.932934",
     "status": "completed"
    },
    "tags": []
   },
   "source": [
    "There are 20 books in a page. Lets verify it"
   ]
  },
  {
   "cell_type": "code",
   "execution_count": 28,
   "metadata": {
    "execution": {
     "iopub.execute_input": "2021-04-16T07:19:28.137119Z",
     "iopub.status.busy": "2021-04-16T07:19:28.136408Z",
     "iopub.status.idle": "2021-04-16T07:19:28.142345Z",
     "shell.execute_reply": "2021-04-16T07:19:28.142897Z"
    },
    "papermill": {
     "duration": 0.076432,
     "end_time": "2021-04-16T07:19:28.143051",
     "exception": false,
     "start_time": "2021-04-16T07:19:28.066619",
     "status": "completed"
    },
    "tags": []
   },
   "outputs": [
    {
     "data": {
      "text/plain": [
       "20"
      ]
     },
     "execution_count": 28,
     "metadata": {},
     "output_type": "execute_result"
    }
   ],
   "source": [
    "len(books_tag)"
   ]
  },
  {
   "cell_type": "markdown",
   "metadata": {
    "papermill": {
     "duration": 0.066423,
     "end_time": "2021-04-16T07:19:28.276513",
     "exception": false,
     "start_time": "2021-04-16T07:19:28.210090",
     "status": "completed"
    },
    "tags": []
   },
   "source": [
    "Great! Our selection is perfect.\n",
    "\n",
    "Now, lets try to select a single book and extract all the information we can"
   ]
  },
  {
   "cell_type": "code",
   "execution_count": 29,
   "metadata": {
    "execution": {
     "iopub.execute_input": "2021-04-16T07:19:28.421611Z",
     "iopub.status.busy": "2021-04-16T07:19:28.420692Z",
     "iopub.status.idle": "2021-04-16T07:19:28.425057Z",
     "shell.execute_reply": "2021-04-16T07:19:28.425531Z"
    },
    "id": "zY1xt8aEDTTC",
    "outputId": "3ae1a1e0-41d6-4ed8-8655-06fca88e8bb2",
    "papermill": {
     "duration": 0.081377,
     "end_time": "2021-04-16T07:19:28.425687",
     "exception": false,
     "start_time": "2021-04-16T07:19:28.344310",
     "status": "completed"
    },
    "tags": []
   },
   "outputs": [
    {
     "data": {
      "text/plain": [
       "<article class=\"product_pod\">\n",
       "<div class=\"image_container\">\n",
       "<a href=\"catalogue/a-light-in-the-attic_1000/index.html\"><img alt=\"A Light in the Attic\" class=\"thumbnail\" src=\"media/cache/2c/da/2cdad67c44b002e7ead0cc35693c0e8b.jpg\"/></a>\n",
       "</div>\n",
       "<p class=\"star-rating Three\">\n",
       "<i class=\"icon-star\"></i>\n",
       "<i class=\"icon-star\"></i>\n",
       "<i class=\"icon-star\"></i>\n",
       "<i class=\"icon-star\"></i>\n",
       "<i class=\"icon-star\"></i>\n",
       "</p>\n",
       "<h3><a href=\"catalogue/a-light-in-the-attic_1000/index.html\" title=\"A Light in the Attic\">A Light in the ...</a></h3>\n",
       "<div class=\"product_price\">\n",
       "<p class=\"price_color\">Â£51.77</p>\n",
       "<p class=\"instock availability\">\n",
       "<i class=\"icon-ok\"></i>\n",
       "    \n",
       "        In stock\n",
       "    \n",
       "</p>\n",
       "<form>\n",
       "<button class=\"btn btn-primary btn-block\" data-loading-text=\"Adding...\" type=\"submit\">Add to basket</button>\n",
       "</form>\n",
       "</div>\n",
       "</article>"
      ]
     },
     "execution_count": 29,
     "metadata": {},
     "output_type": "execute_result"
    }
   ],
   "source": [
    "book_tag = books_tag[0]\n",
    "book_tag"
   ]
  },
  {
   "cell_type": "markdown",
   "metadata": {
    "papermill": {
     "duration": 0.067325,
     "end_time": "2021-04-16T07:19:28.560520",
     "exception": false,
     "start_time": "2021-04-16T07:19:28.493195",
     "status": "completed"
    },
    "tags": []
   },
   "source": [
    "**Book title**\n",
    "\n",
    "The title is present inside 'a' tag. We cannot select all the 'a' tags. We only want the tags with title attribute. So, lets select it."
   ]
  },
  {
   "cell_type": "code",
   "execution_count": 30,
   "metadata": {
    "execution": {
     "iopub.execute_input": "2021-04-16T07:19:28.700678Z",
     "iopub.status.busy": "2021-04-16T07:19:28.699995Z",
     "iopub.status.idle": "2021-04-16T07:19:28.704105Z",
     "shell.execute_reply": "2021-04-16T07:19:28.703421Z"
    },
    "papermill": {
     "duration": 0.076611,
     "end_time": "2021-04-16T07:19:28.704229",
     "exception": false,
     "start_time": "2021-04-16T07:19:28.627618",
     "status": "completed"
    },
    "tags": []
   },
   "outputs": [
    {
     "data": {
      "text/plain": [
       "<a href=\"catalogue/a-light-in-the-attic_1000/index.html\" title=\"A Light in the Attic\">A Light in the ...</a>"
      ]
     },
     "execution_count": 30,
     "metadata": {},
     "output_type": "execute_result"
    }
   ],
   "source": [
    "title_tag = book_tag.find('a', title=True)\n",
    "title_tag"
   ]
  },
  {
   "cell_type": "markdown",
   "metadata": {
    "papermill": {
     "duration": 0.06773,
     "end_time": "2021-04-16T07:19:28.839767",
     "exception": false,
     "start_time": "2021-04-16T07:19:28.772037",
     "status": "completed"
    },
    "tags": []
   },
   "source": [
    "Wonderful! we have our title tag. To get the title we can simply use `title_tag.text`"
   ]
  },
  {
   "cell_type": "code",
   "execution_count": 31,
   "metadata": {
    "execution": {
     "iopub.execute_input": "2021-04-16T07:19:28.980174Z",
     "iopub.status.busy": "2021-04-16T07:19:28.979441Z",
     "iopub.status.idle": "2021-04-16T07:19:28.983141Z",
     "shell.execute_reply": "2021-04-16T07:19:28.983631Z"
    },
    "papermill": {
     "duration": 0.076521,
     "end_time": "2021-04-16T07:19:28.983777",
     "exception": false,
     "start_time": "2021-04-16T07:19:28.907256",
     "status": "completed"
    },
    "tags": []
   },
   "outputs": [
    {
     "data": {
      "text/plain": [
       "'A Light in the ...'"
      ]
     },
     "execution_count": 31,
     "metadata": {},
     "output_type": "execute_result"
    }
   ],
   "source": [
    "title_tag.text"
   ]
  },
  {
   "cell_type": "markdown",
   "metadata": {
    "papermill": {
     "duration": 0.067615,
     "end_time": "2021-04-16T07:19:29.119313",
     "exception": false,
     "start_time": "2021-04-16T07:19:29.051698",
     "status": "completed"
    },
    "tags": []
   },
   "source": [
    "but as you can see, its not the complete title. For complete title of the book, can be extracted from the title attribute"
   ]
  },
  {
   "cell_type": "code",
   "execution_count": 32,
   "metadata": {
    "execution": {
     "iopub.execute_input": "2021-04-16T07:19:29.261458Z",
     "iopub.status.busy": "2021-04-16T07:19:29.260713Z",
     "iopub.status.idle": "2021-04-16T07:19:29.263632Z",
     "shell.execute_reply": "2021-04-16T07:19:29.264293Z"
    },
    "papermill": {
     "duration": 0.076289,
     "end_time": "2021-04-16T07:19:29.264437",
     "exception": false,
     "start_time": "2021-04-16T07:19:29.188148",
     "status": "completed"
    },
    "tags": []
   },
   "outputs": [
    {
     "data": {
      "text/plain": [
       "'A Light in the Attic'"
      ]
     },
     "execution_count": 32,
     "metadata": {},
     "output_type": "execute_result"
    }
   ],
   "source": [
    "title_tag['title']"
   ]
  },
  {
   "cell_type": "markdown",
   "metadata": {
    "papermill": {
     "duration": 0.068736,
     "end_time": "2021-04-16T07:19:29.401980",
     "exception": false,
     "start_time": "2021-04-16T07:19:29.333244",
     "status": "completed"
    },
    "tags": []
   },
   "source": [
    "and . . . you have your title. You can easily write every thing in just one line of code"
   ]
  },
  {
   "cell_type": "code",
   "execution_count": 33,
   "metadata": {
    "execution": {
     "iopub.execute_input": "2021-04-16T07:19:29.542000Z",
     "iopub.status.busy": "2021-04-16T07:19:29.541321Z",
     "iopub.status.idle": "2021-04-16T07:19:29.546755Z",
     "shell.execute_reply": "2021-04-16T07:19:29.547279Z"
    },
    "id": "DPGG-yOfDq7h",
    "outputId": "536a9bea-f4cf-47af-8379-a186c652c80d",
    "papermill": {
     "duration": 0.077246,
     "end_time": "2021-04-16T07:19:29.547428",
     "exception": false,
     "start_time": "2021-04-16T07:19:29.470182",
     "status": "completed"
    },
    "tags": []
   },
   "outputs": [
    {
     "data": {
      "text/plain": [
       "'A Light in the Attic'"
      ]
     },
     "execution_count": 33,
     "metadata": {},
     "output_type": "execute_result"
    }
   ],
   "source": [
    "## Title\n",
    "title = book_tag.find('a', title=True)['title']\n",
    "title"
   ]
  },
  {
   "cell_type": "markdown",
   "metadata": {
    "papermill": {
     "duration": 0.068325,
     "end_time": "2021-04-16T07:19:29.684183",
     "exception": false,
     "start_time": "2021-04-16T07:19:29.615858",
     "status": "completed"
    },
    "tags": []
   },
   "source": [
    "Follow the same process (as above) to extract ratings, price & book_link."
   ]
  },
  {
   "cell_type": "code",
   "execution_count": 34,
   "metadata": {
    "execution": {
     "iopub.execute_input": "2021-04-16T07:19:29.824836Z",
     "iopub.status.busy": "2021-04-16T07:19:29.824143Z",
     "iopub.status.idle": "2021-04-16T07:19:29.829287Z",
     "shell.execute_reply": "2021-04-16T07:19:29.829779Z"
    },
    "id": "Sr7_yCIEEYRa",
    "outputId": "d833f0ec-236f-4359-9100-4d2465405d6b",
    "papermill": {
     "duration": 0.077163,
     "end_time": "2021-04-16T07:19:29.829939",
     "exception": false,
     "start_time": "2021-04-16T07:19:29.752776",
     "status": "completed"
    },
    "tags": []
   },
   "outputs": [
    {
     "data": {
      "text/plain": [
       "'Three'"
      ]
     },
     "execution_count": 34,
     "metadata": {},
     "output_type": "execute_result"
    }
   ],
   "source": [
    "## Rating\n",
    "rating = book_tag.find('p')['class'][1]\n",
    "rating"
   ]
  },
  {
   "cell_type": "code",
   "execution_count": 35,
   "metadata": {
    "execution": {
     "iopub.execute_input": "2021-04-16T07:19:29.971586Z",
     "iopub.status.busy": "2021-04-16T07:19:29.970903Z",
     "iopub.status.idle": "2021-04-16T07:19:29.976319Z",
     "shell.execute_reply": "2021-04-16T07:19:29.976832Z"
    },
    "id": "vCfJOMJzEuyz",
    "outputId": "b58e7d48-ffe1-4060-c947-004efb0610b8",
    "papermill": {
     "duration": 0.078293,
     "end_time": "2021-04-16T07:19:29.976996",
     "exception": false,
     "start_time": "2021-04-16T07:19:29.898703",
     "status": "completed"
    },
    "tags": []
   },
   "outputs": [
    {
     "data": {
      "text/plain": [
       "'£51.77'"
      ]
     },
     "execution_count": 35,
     "metadata": {},
     "output_type": "execute_result"
    }
   ],
   "source": [
    "## Price\n",
    "price = book_tag.find('p', class_='price_color').text[1:]\n",
    "price"
   ]
  },
  {
   "cell_type": "code",
   "execution_count": 36,
   "metadata": {
    "execution": {
     "iopub.execute_input": "2021-04-16T07:19:30.121125Z",
     "iopub.status.busy": "2021-04-16T07:19:30.120449Z",
     "iopub.status.idle": "2021-04-16T07:19:30.128428Z",
     "shell.execute_reply": "2021-04-16T07:19:30.127856Z"
    },
    "id": "O4_u33FfgKKk",
    "outputId": "beef1fa9-a37c-4412-a4b8-e9e7b992ad7a",
    "papermill": {
     "duration": 0.080545,
     "end_time": "2021-04-16T07:19:30.128536",
     "exception": false,
     "start_time": "2021-04-16T07:19:30.047991",
     "status": "completed"
    },
    "tags": []
   },
   "outputs": [
    {
     "data": {
      "text/plain": [
       "'http://books.toscrape.com/catalogue/a-light-in-the-attic_1000/index.html'"
      ]
     },
     "execution_count": 36,
     "metadata": {},
     "output_type": "execute_result"
    }
   ],
   "source": [
    "## Book link\n",
    "link = 'http://books.toscrape.com/' + book_tag.find('a')['href']\n",
    "link"
   ]
  },
  {
   "cell_type": "markdown",
   "metadata": {
    "papermill": {
     "duration": 0.069797,
     "end_time": "2021-04-16T07:19:30.269385",
     "exception": false,
     "start_time": "2021-04-16T07:19:30.199588",
     "status": "completed"
    },
    "tags": []
   },
   "source": [
    "Lets put the above code inside a function"
   ]
  },
  {
   "cell_type": "code",
   "execution_count": 37,
   "metadata": {
    "execution": {
     "iopub.execute_input": "2021-04-16T07:19:30.411757Z",
     "iopub.status.busy": "2021-04-16T07:19:30.411104Z",
     "iopub.status.idle": "2021-04-16T07:19:30.417124Z",
     "shell.execute_reply": "2021-04-16T07:19:30.417659Z"
    },
    "id": "vtvfeoryGgKk",
    "papermill": {
     "duration": 0.078838,
     "end_time": "2021-04-16T07:19:30.417787",
     "exception": false,
     "start_time": "2021-04-16T07:19:30.338949",
     "status": "completed"
    },
    "tags": []
   },
   "outputs": [],
   "source": [
    "def get_details(book_tag):\n",
    "    title = book_tag.find('a', title=True)['title']\n",
    "    rating = book_tag.find('p')['class'][1]\n",
    "    price = book_tag.find('p', class_='price_color').text[1:]\n",
    "    link = 'http://books.toscrape.com/' + book_tag.find('a')['href']\n",
    "    return title, rating, price, link"
   ]
  },
  {
   "cell_type": "markdown",
   "metadata": {
    "papermill": {
     "duration": 0.069068,
     "end_time": "2021-04-16T07:19:30.556519",
     "exception": false,
     "start_time": "2021-04-16T07:19:30.487451",
     "status": "completed"
    },
    "tags": []
   },
   "source": [
    "`get_details` function takes a 'book_tag', extracts all the details from it and returns them.\n",
    "\n",
    "Lets write some more functions to "
   ]
  },
  {
   "cell_type": "code",
   "execution_count": 38,
   "metadata": {
    "execution": {
     "iopub.execute_input": "2021-04-16T07:19:30.699130Z",
     "iopub.status.busy": "2021-04-16T07:19:30.698478Z",
     "iopub.status.idle": "2021-04-16T07:19:30.706332Z",
     "shell.execute_reply": "2021-04-16T07:19:30.705684Z"
    },
    "id": "HevZjhcngqx5",
    "papermill": {
     "duration": 0.080036,
     "end_time": "2021-04-16T07:19:30.706439",
     "exception": false,
     "start_time": "2021-04-16T07:19:30.626403",
     "status": "completed"
    },
    "tags": []
   },
   "outputs": [],
   "source": [
    "def get_soup(url):\n",
    "    \"\"\"Takes URL and returns a soup object\"\"\"\n",
    "    resp = requests.get(url)\n",
    "    if resp.status_code == 200:\n",
    "        return bs(resp.text)\n",
    "    else: return None\n",
    "\n",
    "\n",
    "def get_books(url):\n",
    "    \"\"\"Extact details from all the book tags\"\"\"\n",
    "    soup = get_soup(url)\n",
    "    book_tags = soup.find_all('article', class_='product_pod')\n",
    "\n",
    "    books = []\n",
    "    for book_tag in book_tags:\n",
    "        books.append(get_details(book_tag))\n",
    "\n",
    "    return books"
   ]
  },
  {
   "cell_type": "code",
   "execution_count": 39,
   "metadata": {
    "execution": {
     "iopub.execute_input": "2021-04-16T07:19:30.853061Z",
     "iopub.status.busy": "2021-04-16T07:19:30.852395Z",
     "iopub.status.idle": "2021-04-16T07:19:31.339635Z",
     "shell.execute_reply": "2021-04-16T07:19:31.340210Z"
    },
    "id": "FlRCZPlihTBj",
    "outputId": "f43b7c36-db88-436d-bec5-d653e37b2743",
    "papermill": {
     "duration": 0.563474,
     "end_time": "2021-04-16T07:19:31.340361",
     "exception": false,
     "start_time": "2021-04-16T07:19:30.776887",
     "status": "completed"
    },
    "tags": []
   },
   "outputs": [
    {
     "data": {
      "text/plain": [
       "20"
      ]
     },
     "execution_count": 39,
     "metadata": {},
     "output_type": "execute_result"
    }
   ],
   "source": [
    "url = 'http://books.toscrape.com/'\n",
    "books = get_books(url)\n",
    "len(books)"
   ]
  },
  {
   "cell_type": "markdown",
   "metadata": {
    "papermill": {
     "duration": 0.069789,
     "end_time": "2021-04-16T07:19:31.482230",
     "exception": false,
     "start_time": "2021-04-16T07:19:31.412441",
     "status": "completed"
    },
    "tags": []
   },
   "source": [
    "Lets have a look at books . . ."
   ]
  },
  {
   "cell_type": "code",
   "execution_count": 40,
   "metadata": {
    "execution": {
     "iopub.execute_input": "2021-04-16T07:19:31.625891Z",
     "iopub.status.busy": "2021-04-16T07:19:31.624904Z",
     "iopub.status.idle": "2021-04-16T07:19:31.632398Z",
     "shell.execute_reply": "2021-04-16T07:19:31.631784Z"
    },
    "papermill": {
     "duration": 0.080257,
     "end_time": "2021-04-16T07:19:31.632509",
     "exception": false,
     "start_time": "2021-04-16T07:19:31.552252",
     "status": "completed"
    },
    "tags": []
   },
   "outputs": [
    {
     "data": {
      "text/plain": [
       "[('A Light in the Attic',\n",
       "  'Three',\n",
       "  '£51.77',\n",
       "  'http://books.toscrape.com/catalogue/a-light-in-the-attic_1000/index.html'),\n",
       " ('Tipping the Velvet',\n",
       "  'One',\n",
       "  '£53.74',\n",
       "  'http://books.toscrape.com/catalogue/tipping-the-velvet_999/index.html'),\n",
       " ('Soumission',\n",
       "  'One',\n",
       "  '£50.10',\n",
       "  'http://books.toscrape.com/catalogue/soumission_998/index.html')]"
      ]
     },
     "execution_count": 40,
     "metadata": {},
     "output_type": "execute_result"
    }
   ],
   "source": [
    "books[:3]"
   ]
  },
  {
   "cell_type": "markdown",
   "metadata": {
    "papermill": {
     "duration": 0.070496,
     "end_time": "2021-04-16T07:19:31.773386",
     "exception": false,
     "start_time": "2021-04-16T07:19:31.702890",
     "status": "completed"
    },
    "tags": []
   },
   "source": [
    "Not very pretty, right? Don't worry, we will make a pandas dataframe.\n",
    "\n",
    "Its time we write a function that would extract all the 1000 books from the website. "
   ]
  },
  {
   "cell_type": "code",
   "execution_count": 41,
   "metadata": {
    "execution": {
     "iopub.execute_input": "2021-04-16T07:19:31.924915Z",
     "iopub.status.busy": "2021-04-16T07:19:31.924231Z",
     "iopub.status.idle": "2021-04-16T07:19:31.931825Z",
     "shell.execute_reply": "2021-04-16T07:19:31.932356Z"
    },
    "id": "a-99VYU7h7cp",
    "papermill": {
     "duration": 0.087444,
     "end_time": "2021-04-16T07:19:31.932521",
     "exception": false,
     "start_time": "2021-04-16T07:19:31.845077",
     "status": "completed"
    },
    "tags": []
   },
   "outputs": [],
   "source": [
    "import pandas as pd\n",
    "\n",
    "def get_all_books(page = 3):\n",
    "    books = []\n",
    "    for i in range(1, page+1):\n",
    "        ## This is how the url changes with every page\n",
    "        url = f'http://books.toscrape.com/catalogue/page-{i}.html'\n",
    "        soup = get_soup(url)\n",
    "        if soup:    \n",
    "            book_tags = soup.find_all('article', class_='product_pod')\n",
    "\n",
    "            for book_tag in book_tags:\n",
    "                books.append(get_details(book_tag))\n",
    "            \n",
    "    books = pd.DataFrame(books, columns=['title', 'rating', 'price', 'link'])\n",
    "    return books"
   ]
  },
  {
   "cell_type": "markdown",
   "metadata": {
    "papermill": {
     "duration": 0.070664,
     "end_time": "2021-04-16T07:19:32.074591",
     "exception": false,
     "start_time": "2021-04-16T07:19:32.003927",
     "status": "completed"
    },
    "tags": []
   },
   "source": [
    "We will only scrape first 3 pages to test our code"
   ]
  },
  {
   "cell_type": "code",
   "execution_count": 42,
   "metadata": {
    "execution": {
     "iopub.execute_input": "2021-04-16T07:19:32.220460Z",
     "iopub.status.busy": "2021-04-16T07:19:32.219817Z",
     "iopub.status.idle": "2021-04-16T07:19:33.674936Z",
     "shell.execute_reply": "2021-04-16T07:19:33.674328Z"
    },
    "papermill": {
     "duration": 1.5296,
     "end_time": "2021-04-16T07:19:33.675057",
     "exception": false,
     "start_time": "2021-04-16T07:19:32.145457",
     "status": "completed"
    },
    "tags": []
   },
   "outputs": [
    {
     "data": {
      "text/html": [
       "<div>\n",
       "<style scoped>\n",
       "    .dataframe tbody tr th:only-of-type {\n",
       "        vertical-align: middle;\n",
       "    }\n",
       "\n",
       "    .dataframe tbody tr th {\n",
       "        vertical-align: top;\n",
       "    }\n",
       "\n",
       "    .dataframe thead th {\n",
       "        text-align: right;\n",
       "    }\n",
       "</style>\n",
       "<table border=\"1\" class=\"dataframe\">\n",
       "  <thead>\n",
       "    <tr style=\"text-align: right;\">\n",
       "      <th></th>\n",
       "      <th>title</th>\n",
       "      <th>rating</th>\n",
       "      <th>price</th>\n",
       "      <th>link</th>\n",
       "    </tr>\n",
       "  </thead>\n",
       "  <tbody>\n",
       "    <tr>\n",
       "      <th>0</th>\n",
       "      <td>A Light in the Attic</td>\n",
       "      <td>Three</td>\n",
       "      <td>£51.77</td>\n",
       "      <td>http://books.toscrape.com/a-light-in-the-attic...</td>\n",
       "    </tr>\n",
       "    <tr>\n",
       "      <th>1</th>\n",
       "      <td>Tipping the Velvet</td>\n",
       "      <td>One</td>\n",
       "      <td>£53.74</td>\n",
       "      <td>http://books.toscrape.com/tipping-the-velvet_9...</td>\n",
       "    </tr>\n",
       "    <tr>\n",
       "      <th>2</th>\n",
       "      <td>Soumission</td>\n",
       "      <td>One</td>\n",
       "      <td>£50.10</td>\n",
       "      <td>http://books.toscrape.com/soumission_998/index...</td>\n",
       "    </tr>\n",
       "    <tr>\n",
       "      <th>3</th>\n",
       "      <td>Sharp Objects</td>\n",
       "      <td>Four</td>\n",
       "      <td>£47.82</td>\n",
       "      <td>http://books.toscrape.com/sharp-objects_997/in...</td>\n",
       "    </tr>\n",
       "    <tr>\n",
       "      <th>4</th>\n",
       "      <td>Sapiens: A Brief History of Humankind</td>\n",
       "      <td>Five</td>\n",
       "      <td>£54.23</td>\n",
       "      <td>http://books.toscrape.com/sapiens-a-brief-hist...</td>\n",
       "    </tr>\n",
       "  </tbody>\n",
       "</table>\n",
       "</div>"
      ],
      "text/plain": [
       "                                   title rating   price  \\\n",
       "0                   A Light in the Attic  Three  £51.77   \n",
       "1                     Tipping the Velvet    One  £53.74   \n",
       "2                             Soumission    One  £50.10   \n",
       "3                          Sharp Objects   Four  £47.82   \n",
       "4  Sapiens: A Brief History of Humankind   Five  £54.23   \n",
       "\n",
       "                                                link  \n",
       "0  http://books.toscrape.com/a-light-in-the-attic...  \n",
       "1  http://books.toscrape.com/tipping-the-velvet_9...  \n",
       "2  http://books.toscrape.com/soumission_998/index...  \n",
       "3  http://books.toscrape.com/sharp-objects_997/in...  \n",
       "4  http://books.toscrape.com/sapiens-a-brief-hist...  "
      ]
     },
     "execution_count": 42,
     "metadata": {},
     "output_type": "execute_result"
    }
   ],
   "source": [
    "df = get_all_books(3)\n",
    "df.head()"
   ]
  },
  {
   "cell_type": "markdown",
   "metadata": {
    "papermill": {
     "duration": 0.073339,
     "end_time": "2021-04-16T07:19:33.820223",
     "exception": false,
     "start_time": "2021-04-16T07:19:33.746884",
     "status": "completed"
    },
    "tags": []
   },
   "source": [
    "DataFrame looks much better. We scraped 3 pages so we should have 60 (3 x 20) records. "
   ]
  },
  {
   "cell_type": "code",
   "execution_count": 43,
   "metadata": {
    "execution": {
     "iopub.execute_input": "2021-04-16T07:19:33.970306Z",
     "iopub.status.busy": "2021-04-16T07:19:33.969594Z",
     "iopub.status.idle": "2021-04-16T07:19:33.973879Z",
     "shell.execute_reply": "2021-04-16T07:19:33.973329Z"
    },
    "papermill": {
     "duration": 0.080308,
     "end_time": "2021-04-16T07:19:33.973998",
     "exception": false,
     "start_time": "2021-04-16T07:19:33.893690",
     "status": "completed"
    },
    "tags": []
   },
   "outputs": [
    {
     "data": {
      "text/plain": [
       "(60, 4)"
      ]
     },
     "execution_count": 43,
     "metadata": {},
     "output_type": "execute_result"
    }
   ],
   "source": [
    "df.shape"
   ]
  },
  {
   "cell_type": "markdown",
   "metadata": {
    "papermill": {
     "duration": 0.071554,
     "end_time": "2021-04-16T07:19:34.117919",
     "exception": false,
     "start_time": "2021-04-16T07:19:34.046365",
     "status": "completed"
    },
    "tags": []
   },
   "source": [
    "Perfection! Excatly what we expected. \n",
    "\n",
    "Before we scrape all the 1000 books, we will have to take care of a few more things. \n",
    "\n",
    "- Whenever you are scraping a website, try to be responsilble. A normal user generally makes 2-5 requests (clicks) per minute. But you python program can make upto 1000 requests per second. This can use all the resources in the server. Sometimes, it can even crash the server. So, make sure you sleep for a couple of seconds before you make the next request.\n",
    "\n",
    "- There are multiple things that can go wrong when scraping a website, like network error, slow connection, timeout, element missing, code change, etc. So, its high recommended to use `try / except` blocks to handle errors effectively.\n",
    "\n",
    "\n",
    "This is how your final code will look."
   ]
  },
  {
   "cell_type": "code",
   "execution_count": 44,
   "metadata": {
    "execution": {
     "iopub.execute_input": "2021-04-16T07:19:34.278555Z",
     "iopub.status.busy": "2021-04-16T07:19:34.275315Z",
     "iopub.status.idle": "2021-04-16T07:19:34.282509Z",
     "shell.execute_reply": "2021-04-16T07:19:34.281731Z"
    },
    "id": "a-99VYU7h7cp",
    "papermill": {
     "duration": 0.092309,
     "end_time": "2021-04-16T07:19:34.282635",
     "exception": false,
     "start_time": "2021-04-16T07:19:34.190326",
     "status": "completed"
    },
    "tags": []
   },
   "outputs": [],
   "source": [
    "import time\n",
    "import requests\n",
    "import pandas as pd\n",
    "from bs4 import BeautifulSoup as bs\n",
    "\n",
    "def get_soup(url):\n",
    "    \"\"\"Takes URL and returns a soup object\"\"\"\n",
    "    try:\n",
    "        resp = requests.get(url)\n",
    "    except:\n",
    "        return None\n",
    "    \n",
    "    if resp.status_code == 200:\n",
    "        return bs(resp.text)\n",
    "    else: \n",
    "        return None\n",
    "\n",
    "\n",
    "def get_details(book_tag):\n",
    "    ## title\n",
    "    try:\n",
    "        title = book_tag.find('a', title=True)['title']\n",
    "    except:\n",
    "        title = None\n",
    "        \n",
    "    ## rating\n",
    "    try: \n",
    "        rating = book_tag.find('p')['class'][1]\n",
    "    except: \n",
    "        rating = None \n",
    "        \n",
    "    ## Price\n",
    "    try: \n",
    "        price = book_tag.find('p', class_='price_color').text[1:]\n",
    "    except:\n",
    "        price = None\n",
    "    \n",
    "    ## Link\n",
    "    try:\n",
    "        link = 'http://books.toscrape.com/' + book_tag.find('a')['href']\n",
    "    except:\n",
    "        price = None\n",
    "        \n",
    "    return title, rating, price, link\n",
    "\n",
    "\n",
    "\n",
    "def get_all_books(page = 3):\n",
    "    books = []\n",
    "    for i in range(1, page+1):\n",
    "        url = f'http://books.toscrape.com/catalogue/page-{i}.html'\n",
    "        soup = get_soup(url)\n",
    "        if soup:    \n",
    "            try:\n",
    "                book_tags = soup.find_all('article', class_='product_pod')\n",
    "\n",
    "                for book_tag in book_tags:\n",
    "                    books.append(get_details(book_tag))\n",
    "            except:\n",
    "                print(f'Error reading page {i} . . .')\n",
    "\n",
    "            time.sleep(1) # sleep before making the next request\n",
    "\n",
    "    books = pd.DataFrame(books, columns=['title', 'rating', 'price', 'link'])\n",
    "    return books"
   ]
  },
  {
   "cell_type": "code",
   "execution_count": null,
   "metadata": {
    "execution": {
     "iopub.execute_input": "2021-04-16T07:19:34.429148Z",
     "iopub.status.busy": "2021-04-16T07:19:34.428458Z",
     "iopub.status.idle": "2021-04-16T07:20:48.621897Z",
     "shell.execute_reply": "2021-04-16T07:20:48.622440Z"
    },
    "id": "NaR5vXc0kLFm",
    "outputId": "c78499a3-643a-4313-f8e2-497cb2f50988",
    "papermill": {
     "duration": 74.268412,
     "end_time": "2021-04-16T07:20:48.622619",
     "exception": false,
     "start_time": "2021-04-16T07:19:34.354207",
     "status": "completed"
    },
    "tags": []
   },
   "outputs": [],
   "source": [
    "df = get_all_books(50) # 20 books x 50 pages = 1000 books\n",
    "df.head()"
   ]
  },
  {
   "cell_type": "code",
   "execution_count": null,
   "metadata": {
    "execution": {
     "iopub.execute_input": "2021-04-16T07:20:48.773294Z",
     "iopub.status.busy": "2021-04-16T07:20:48.772524Z",
     "iopub.status.idle": "2021-04-16T07:20:48.775770Z",
     "shell.execute_reply": "2021-04-16T07:20:48.776289Z"
    },
    "id": "wopf5-o6lxUE",
    "outputId": "b9fbcd56-5a53-4e59-bc4d-e7aaee432d90",
    "papermill": {
     "duration": 0.080675,
     "end_time": "2021-04-16T07:20:48.776429",
     "exception": false,
     "start_time": "2021-04-16T07:20:48.695754",
     "status": "completed"
    },
    "tags": []
   },
   "outputs": [],
   "source": [
    "df.shape"
   ]
  },
  {
   "cell_type": "code",
   "execution_count": null,
   "metadata": {},
   "outputs": [],
   "source": []
  },
  {
   "cell_type": "code",
   "execution_count": null,
   "metadata": {},
   "outputs": [],
   "source": []
  },
  {
   "cell_type": "code",
   "execution_count": null,
   "metadata": {},
   "outputs": [],
   "source": []
  }
 ],
 "metadata": {
  "kernelspec": {
   "display_name": "Python 3 (ipykernel)",
   "language": "python",
   "name": "python3"
  },
  "language_info": {
   "codemirror_mode": {
    "name": "ipython",
    "version": 3
   },
   "file_extension": ".py",
   "mimetype": "text/x-python",
   "name": "python",
   "nbconvert_exporter": "python",
   "pygments_lexer": "ipython3",
   "version": "3.9.13"
  },
  "papermill": {
   "duration": 95.982073,
   "end_time": "2021-04-16T07:20:50.002422",
   "environment_variables": {},
   "exception": null,
   "input_path": "__notebook__.ipynb",
   "output_path": "__notebook__.ipynb",
   "parameters": {},
   "start_time": "2021-04-16T07:19:14.020349",
   "version": "2.1.0"
  }
 },
 "nbformat": 4,
 "nbformat_minor": 4
}
