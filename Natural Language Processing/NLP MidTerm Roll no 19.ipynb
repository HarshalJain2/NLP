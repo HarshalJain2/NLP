{
 "cells": [
  {
   "cell_type": "code",
   "execution_count": 1,
   "id": "34b5ed0f",
   "metadata": {},
   "outputs": [],
   "source": [
    "import numpy as np\n",
    "import pandas as pd\n",
    "import seaborn as sns\n",
    "import matplotlib.pyplot as plt\n",
    "import nltk\n",
    "from sklearn.preprocessing import LabelBinarizer\n",
    "from nltk.corpus import stopwords\n",
    "from nltk.stem.porter import PorterStemmer\n",
    "from wordcloud import WordCloud,STOPWORDS\n",
    "from nltk.stem import WordNetLemmatizer\n",
    "from nltk.tokenize import word_tokenize,sent_tokenize\n",
    "import seaborn as sns \n",
    "import re,string,unicodedata\n",
    "from sklearn.feature_extraction.text import TfidfVectorizer\n",
    "from scipy.sparse import hstack\n",
    "from sklearn.preprocessing import LabelEncoder\n",
    "from sklearn.feature_extraction.text import CountVectorizer\n",
    "from sklearn.model_selection import train_test_split\n",
    "tfidf = TfidfVectorizer(stop_words='english')\n",
    "from sklearn.naive_bayes import BernoulliNB, MultinomialNB, GaussianNB\n",
    "from sklearn.metrics import accuracy_score  \n",
    "from sklearn.metrics import confusion_matrix\n",
    "from sklearn.ensemble import RandomForestClassifier\n",
    "from sklearn.neighbors import KNeighborsClassifier\n",
    "from sklearn.tree import DecisionTreeClassifier\n",
    "from sklearn.ensemble import GradientBoostingClassifier"
   ]
  },
  {
   "cell_type": "code",
   "execution_count": 2,
   "id": "252bd98b",
   "metadata": {},
   "outputs": [],
   "source": [
    "#remove stopwords such as a,am,he,him,the...etc\n",
    "stop_words=stopwords.words('english')"
   ]
  },
  {
   "cell_type": "code",
   "execution_count": 3,
   "id": "82d39574",
   "metadata": {},
   "outputs": [],
   "source": [
    "#defined a function to remove symbols,\"www,https\",numbers,punctuations\n",
    "def process_text(text):\n",
    "    text=str(text).lower()\n",
    "    text=re.sub('\\[.*?\\]','',text)\n",
    "    text=re.sub('https?://\\S+|www\\.\\S+','',text)\n",
    "    text=re.sub('<.*?>+','',text)\n",
    "    text = re.sub('[%s]' % re.escape(string.punctuation), '', text)\n",
    "    text = re.sub('\\n', '', text)\n",
    "    text = re.sub('\\w*\\d\\w*', '', text)\n",
    "    return text  "
   ]
  },
  {
   "cell_type": "code",
   "execution_count": 4,
   "id": "73662a4f",
   "metadata": {},
   "outputs": [],
   "source": [
    "#defined a function to remove stopwords such as a,or,it ,as etc...\n",
    "def remove_stopwords(text):\n",
    "    text=\" \".join(word for word in text.split(' ') if word not in stop_words)\n",
    "    return text"
   ]
  },
  {
   "cell_type": "code",
   "execution_count": 6,
   "id": "e24009e3",
   "metadata": {},
   "outputs": [],
   "source": [
    "#read the dataframe\n",
    "df=pd.read_csv(\"SMSSpamCollection.csv\")"
   ]
  },
  {
   "cell_type": "code",
   "execution_count": 37,
   "id": "6bec0f23",
   "metadata": {},
   "outputs": [],
   "source": [
    "#drop the null values:\n",
    "df.dropna(inplace=True)"
   ]
  },
  {
   "cell_type": "code",
   "execution_count": 38,
   "id": "96d113c5",
   "metadata": {},
   "outputs": [],
   "source": [
    "#label encoder to encode the label column\n",
    "encoder = LabelEncoder()\n",
    "encoded_labels = encoder.fit_transform(df[\"category\"])"
   ]
  },
  {
   "cell_type": "code",
   "execution_count": 39,
   "id": "4c734e27",
   "metadata": {},
   "outputs": [],
   "source": [
    "#assign the label values to the category column\n",
    "df[\"category\"]=encoded_labels"
   ]
  },
  {
   "cell_type": "code",
   "execution_count": 40,
   "id": "52fa777d",
   "metadata": {},
   "outputs": [],
   "source": [
    "#assign the text processed to another column\n",
    "df[\"processed_text_headline\"]=df['headline'].apply(process_text)\n",
    "df[\"processed_text_short_description\"]=df['short_description'].apply(process_text)"
   ]
  },
  {
   "cell_type": "code",
   "execution_count": 41,
   "id": "843e25d2",
   "metadata": {},
   "outputs": [],
   "source": [
    "df.drop(columns=[\"headline\",\"short_description\"],inplace=True)"
   ]
  },
  {
   "cell_type": "code",
   "execution_count": 42,
   "id": "3c01d072",
   "metadata": {},
   "outputs": [],
   "source": [
    "#remove the stopwords in the features\n",
    "df['processed_text_headline'] = df['processed_text_headline'].apply(remove_stopwords)\n",
    "df['processed_text_short_description'] = df['processed_text_short_description'].apply(remove_stopwords)"
   ]
  },
  {
   "cell_type": "code",
   "execution_count": 46,
   "id": "d63734f1",
   "metadata": {},
   "outputs": [],
   "source": [
    "#Set the feature and label columns\n",
    "y = df['category']\n",
    "X =df[\"processed_text_headline\"]+\" \"+df[\"processed_text_short_description\"]"
   ]
  },
  {
   "cell_type": "code",
   "execution_count": 43,
   "id": "f37bd490",
   "metadata": {},
   "outputs": [],
   "source": [
    "# Split the train and test data\n",
    "X_train, X_test, y_train, y_test = train_test_split(X, y, test_size=0.3, random_state=42)"
   ]
  },
  {
   "cell_type": "code",
   "execution_count": 44,
   "id": "6f2458d6",
   "metadata": {},
   "outputs": [],
   "source": [
    "#use tfidf to transform the train and test data\n",
    "tfidf = TfidfVectorizer(stop_words='english')\n",
    "X_train=tfidf.fit_transform(X_train)\n",
    "X_test= tfidf.transform(X_test)"
   ]
  },
  {
   "cell_type": "code",
   "execution_count": 45,
   "id": "86de7aa0",
   "metadata": {},
   "outputs": [
    {
     "name": "stdout",
     "output_type": "stream",
     "text": [
      "Accuracy score - Train:   \n",
      " 0.5619832470384125\n",
      "Accuracy score - test:   \n",
      " 0.5121758380771664\n"
     ]
    }
   ],
   "source": [
    "#Fit and predict the values using a multinomial NaiveBayes\n",
    "mnb = MultinomialNB()\n",
    "mnb.fit(X_train, y_train)\n",
    "\n",
    "y_train_pred = mnb.predict(X_train)\n",
    "y_train_prob = mnb.predict_proba(X_train)\n",
    "\n",
    "print('Accuracy score - Train:  ', '\\n', accuracy_score(y_train, y_train_pred))\n",
    "\n",
    "\n",
    "y_test_pred = mnb.predict(X_test)\n",
    "y_test_prob = mnb.predict_proba(X_test)\n",
    "\n",
    "\n",
    "print('Accuracy score - test:  ', '\\n', accuracy_score(y_test, y_test_pred))"
   ]
  },
  {
   "cell_type": "code",
   "execution_count": 46,
   "id": "279d5190",
   "metadata": {},
   "outputs": [],
   "source": [
    "# Set the lable and feature columns\n",
    "y = df['category']\n",
    "X =df[\"processed_text_headline\"]+\" \"+df[\"processed_text_short_description\"]"
   ]
  },
  {
   "cell_type": "code",
   "execution_count": 47,
   "id": "19e68636",
   "metadata": {},
   "outputs": [],
   "source": [
    "# Split the train and test data\n",
    "X_train, X_test, y_train, y_test = train_test_split(X, y, test_size=0.3, random_state=42)"
   ]
  },
  {
   "cell_type": "code",
   "execution_count": 48,
   "id": "c01e05ab",
   "metadata": {},
   "outputs": [],
   "source": [
    "# Use count vectorizer to transform the train and test data\n",
    "cvect = CountVectorizer()\n",
    "\n",
    "X_train = cvect.fit_transform(X_train)\n",
    "\n",
    "X_test = cvect.transform(X_test)"
   ]
  },
  {
   "cell_type": "code",
   "execution_count": 49,
   "id": "8167fb82",
   "metadata": {},
   "outputs": [
    {
     "name": "stdout",
     "output_type": "stream",
     "text": [
      "Accuracy score - Train:   \n",
      " 0.6870747377266936\n",
      "Accuracy score - test:   \n",
      " 0.5491144845034788\n"
     ]
    }
   ],
   "source": [
    "#fit and predict the model using Multinoimal NaiveBayes\n",
    "\n",
    "\n",
    "mnb = MultinomialNB()\n",
    "mnb.fit(X_train, y_train)\n",
    "y_train_pred = mnb.predict(X_train)\n",
    "y_train_prob = mnb.predict_proba(X_train)\n",
    "\n",
    "\n",
    "\n",
    "#print the Train and test accuracy\n",
    "print('Accuracy score - Train:  ', '\\n', accuracy_score(y_train, y_train_pred))\n",
    "\n",
    "y_test_pred = mnb.predict(X_test)\n",
    "y_test_prob = mnb.predict_proba(X_test)\n",
    "\n",
    "\n",
    "print('Accuracy score - test:  ', '\\n', accuracy_score(y_test, y_test_pred))"
   ]
  },
  {
   "cell_type": "markdown",
   "id": "bee68f0f",
   "metadata": {},
   "source": [
    "### Here I have combined multiple categories in the label and reduced the number of categories to 15 and checked for model performance"
   ]
  },
  {
   "cell_type": "code",
   "execution_count": 50,
   "id": "7e3d9980",
   "metadata": {},
   "outputs": [],
   "source": [
    "# Read the dataframew\n",
    "df=pd.read_csv(\"news_category.csv\")\n",
    "df.drop(columns=\"Unnamed: 0\",inplace=True)\n",
    "df.dropna(inplace=True)"
   ]
  },
  {
   "cell_type": "markdown",
   "id": "5e7d64b3",
   "metadata": {},
   "source": [
    "Club similar columns together"
   ]
  },
  {
   "cell_type": "code",
   "execution_count": 51,
   "id": "0cc5c518",
   "metadata": {},
   "outputs": [],
   "source": [
    "df['category'].replace({\"WORLDPOST\":\"WORLD NEWS\",\"THE WORLDPOST\":\"WORLD NEWS\"},inplace=True)\n",
    "df['category'].replace({\"COMEDY\":\"ENTERTAINMENT\",\"SPORTS\":\"ENTERTAINMENT\"},inplace=True)\n",
    "df['category'].replace({\"QUEER VOICES\":\"VOICES\",\"LATINO VOICES\":\"VOICES\",\"BLACK VOICES\":\"VOICES\"},inplace=True)\n",
    "df['category'].replace({\"WEIRD NEWS\":\"NEWS\",\"GOOD NEWS\":\"NEWS\"},inplace=True)\n",
    "df['category'].replace({\"WORLD NEWS\":\"NEWS\"},inplace=True)\n",
    "df['category'].replace({\"SCIENCE\":\"EDUCATION\",\"COLLEGE\":\"EDUCATION\",\"TECH\":\"EDUCATION\"},inplace=True)\n",
    "df['category'].replace({\"STYLE\":\"ENTERTAINMENT\"},inplace=True)\n",
    "df['category'].replace({\"FIFTY\":\"LIVING\",\"HEALTHY LIVING\":\"LIVING\",\"TRAVEL\":\"LIVING\",\"TASTE\":\"LIVING\",\"GREEN\":\"LIVING\"},inplace=True)"
   ]
  },
  {
   "cell_type": "code",
   "execution_count": 52,
   "id": "4cfc4150",
   "metadata": {},
   "outputs": [
    {
     "data": {
      "text/plain": [
       "15"
      ]
     },
     "execution_count": 52,
     "metadata": {},
     "output_type": "execute_result"
    }
   ],
   "source": [
    "len(df['category'].value_counts())"
   ]
  },
  {
   "cell_type": "code",
   "execution_count": 53,
   "id": "5ec84cb4",
   "metadata": {},
   "outputs": [],
   "source": [
    "#label encoder to encode the label column\n",
    "encoder = LabelEncoder()\n",
    "encoded_labels = encoder.fit_transform(df[\"category\"])\n",
    "df['category']=encoded_labels"
   ]
  },
  {
   "cell_type": "code",
   "execution_count": 54,
   "id": "330c398d",
   "metadata": {},
   "outputs": [],
   "source": [
    "#assign the text processed to another column\n",
    "df[\"processed_text_headline\"]=df['headline'].apply(process_text)\n",
    "df[\"processed_text_short_description\"]=df['short_description'].apply(process_text)"
   ]
  },
  {
   "cell_type": "code",
   "execution_count": 55,
   "id": "fe9f1bf4",
   "metadata": {},
   "outputs": [],
   "source": [
    "#remove the stopwords in the features\n",
    "df.drop(columns=[\"headline\",\"short_description\"],inplace=True)\n",
    "df['processed_text_headline'] = df['processed_text_headline'].apply(remove_stopwords)\n",
    "df['processed_text_short_description'] = df['processed_text_short_description'].apply(remove_stopwords)\n"
   ]
  },
  {
   "cell_type": "markdown",
   "id": "e42ab3c4",
   "metadata": {},
   "source": [
    "#### Tf-IDF - Naive Bayes"
   ]
  },
  {
   "cell_type": "code",
   "execution_count": 56,
   "id": "2e70ef04",
   "metadata": {},
   "outputs": [],
   "source": [
    "# Split the train and test data\n",
    "# Set the label and feature columns\n",
    "y = df['category']\n",
    "X =df[\"processed_text_headline\"]+\" \"+df[\"processed_text_short_description\"]\n",
    "X_train, X_test, y_train, y_test = train_test_split(X, y, test_size=0.3, random_state=42)"
   ]
  },
  {
   "cell_type": "code",
   "execution_count": 57,
   "id": "237e1b9e",
   "metadata": {},
   "outputs": [],
   "source": [
    "# Use count vectorizer to transform the train and test data\n",
    "\n",
    "tfidf = TfidfVectorizer(stop_words='english')\n",
    "\n",
    "\n",
    "X_train= tfidf.fit_transform(X_train)\n",
    "X_test = tfidf.transform(X_test)"
   ]
  },
  {
   "cell_type": "code",
   "execution_count": 58,
   "id": "ec52699a",
   "metadata": {},
   "outputs": [
    {
     "name": "stdout",
     "output_type": "stream",
     "text": [
      "Accuracy score - Train:   \n",
      " 0.5619832470384125\n",
      "Accuracy score - test:   \n",
      " 0.5121758380771664\n"
     ]
    }
   ],
   "source": [
    "\n",
    "\n",
    "#fit and predict the model using Multinoimal NaiveBayes\n",
    "mnb = MultinomialNB()\n",
    "mnb.fit(X_train, y_train)\n",
    "\n",
    "y_train_pred = mnb.predict(X_train)\n",
    "y_train_prob = mnb.predict_proba(X_train)\n",
    "\n",
    "#print the Train and test accuracy\n",
    "\n",
    "\n",
    "print('Accuracy score - Train:  ', '\\n', accuracy_score(y_train, y_train_pred))\n",
    "\n",
    "\n",
    "y_test_pred = mnb.predict(X_test)\n",
    "y_test_prob = mnb.predict_proba(X_test)\n",
    "\n",
    "print('Accuracy score - test:  ', '\\n', accuracy_score(y_test, y_test_pred))"
   ]
  },
  {
   "cell_type": "markdown",
   "id": "da1a97db",
   "metadata": {},
   "source": [
    "### Count Vectorizer -Naive Beyes"
   ]
  },
  {
   "cell_type": "code",
   "execution_count": 59,
   "id": "bc626c88",
   "metadata": {},
   "outputs": [],
   "source": [
    "# Split the train and test data\n",
    "y = df['category']\n",
    "X =df[\"processed_text_headline\"]+\" \"+df[\"processed_text_short_description\"]\n",
    "X_train, X_test, y_train, y_test = train_test_split(X, y, test_size=0.3, random_state=42)"
   ]
  },
  {
   "cell_type": "code",
   "execution_count": 60,
   "id": "62c397ee",
   "metadata": {},
   "outputs": [],
   "source": [
    "# Use count vectorizer to transform the train and test data\n",
    "cvect = CountVectorizer()\n",
    "X_train = cvect.fit_transform(X_train)\n",
    "X_test = cvect.transform(X_test)"
   ]
  },
  {
   "cell_type": "code",
   "execution_count": 70,
   "id": "a9c5dd53",
   "metadata": {},
   "outputs": [
    {
     "name": "stdout",
     "output_type": "stream",
     "text": [
      "Accuracy score - Train:   \n",
      " 0.5619832470384125\n",
      "Accuracy score - test:   \n",
      " 0.5121758380771664\n"
     ]
    }
   ],
   "source": [
    "#fit and predict the model using Multinoimal NaiveBayes\n",
    "mnb = MultinomialNB()\n",
    "mnb.fit(X_train, y_train)\n",
    "y_train_pred = mnb.predict(X_train)\n",
    "y_train_prob = mnb.predict_proba(X_train)\n",
    "\n",
    "#print the Train and test accuracy\n",
    "\n",
    "print('Accuracy score - Train:  ', '\\n', accuracy_score(y_train, y_train_pred))\n",
    "\n",
    "y_test_pred = mnb.predict(X_test)\n",
    "y_test_prob = mnb.predict_proba(X_test)\n",
    "\n",
    "print('Accuracy score - test:  ', '\\n', accuracy_score(y_test, y_test_pred))"
   ]
  },
  {
   "cell_type": "code",
   "execution_count": 62,
   "id": "77a43d83",
   "metadata": {},
   "outputs": [],
   "source": [
    "# Set the label and feature columns\n",
    "\n",
    "y = df['category']\n",
    "X =df[\"processed_text_headline\"]+\" \"+df[\"processed_text_short_description\"]\n",
    "\n",
    "# Split the train and test data\n",
    "X_train, X_test, y_train, y_test = train_test_split(X, y, test_size=0.3, random_state=42)"
   ]
  },
  {
   "cell_type": "code",
   "execution_count": 63,
   "id": "383b1973",
   "metadata": {},
   "outputs": [],
   "source": [
    "# Use count vectorizer to transform the train and test data\n",
    "cvect = CountVectorizer()\n",
    "X_train = cvect.fit_transform(X_train)\n",
    "X_test = cvect.transform(X_test)"
   ]
  },
  {
   "cell_type": "code",
   "execution_count": 64,
   "id": "2d6b5f00",
   "metadata": {},
   "outputs": [
    {
     "name": "stdout",
     "output_type": "stream",
     "text": [
      "Accuracy score - Train:   \n",
      " 0.9849142020656564\n",
      "Accuracy score - test:   \n",
      " 0.5492726122707148\n"
     ]
    }
   ],
   "source": [
    "#fit and predict the outcome using RandomForestClassifer\n",
    "\n",
    "mnb = RandomForestClassifier(n_estimators=10,max_depth=1000)\n",
    "mnb.fit(X_train, y_train)\n",
    "y_train_pred = mnb.predict(X_train)\n",
    "y_test_pred = mnb.predict(X_test)\n",
    "\n",
    "# print the Train and test accuracy\n",
    "\n",
    "print('Accuracy score - Train:  ', '\\n', accuracy_score(y_train, y_train_pred))\n",
    "\n",
    "print('Accuracy score - test:  ', '\\n', accuracy_score(y_test, y_test_pred))"
   ]
  },
  {
   "cell_type": "markdown",
   "id": "b909ed26",
   "metadata": {},
   "source": [
    "#### RandomForestRegressor with tfidf vectorizer"
   ]
  },
  {
   "cell_type": "code",
   "execution_count": 65,
   "id": "0fe9b51b",
   "metadata": {},
   "outputs": [],
   "source": [
    "# Split the train and test data\n",
    "y = df['category']\n",
    "X =df[\"processed_text_headline\"]+\" \"+df[\"processed_text_short_description\"]\n",
    "X_train, X_test, y_train, y_test = train_test_split(X, y, test_size=0.3, random_state=42)"
   ]
  },
  {
   "cell_type": "code",
   "execution_count": 66,
   "id": "20476522",
   "metadata": {},
   "outputs": [],
   "source": [
    "# Use tfidf to transform the train and test data\n",
    "tfidf = TfidfVectorizer(stop_words='english')\n",
    "X_train= tfidf.fit_transform(X_train)\n",
    "X_test = tfidf.transform(X_test)"
   ]
  },
  {
   "cell_type": "code",
   "execution_count": 68,
   "id": "39cd3a0e",
   "metadata": {},
   "outputs": [
    {
     "name": "stdout",
     "output_type": "stream",
     "text": [
      "Accuracy score - Train:   \n",
      " 0.9870693160562769\n",
      "Accuracy score - test:   \n",
      " 0.5620809614168248\n"
     ]
    }
   ],
   "source": [
    "\n",
    "\n",
    "# Fit and predict the outcome using RandomForestClassifier\n",
    "\n",
    "mnb = RandomForestClassifier(n_estimators=10,max_depth=20000)\n",
    "mnb.fit(X_train, y_train)\n",
    "y_train_pred = mnb.predict(X_train)\n",
    "\n",
    "# print the Train and test accuracy\n",
    "\n",
    "\n",
    "print('Accuracy score - Train:  ', '\\n', accuracy_score(y_train, y_train_pred))\n",
    "\n",
    "y_test_pred = mnb.predict(X_test)\n",
    "y_test_prob = mnb.predict_proba(X_test)\n",
    "\n",
    "print('Accuracy score - test:  ', '\\n', accuracy_score(y_test, y_test_pred))"
   ]
  },
  {
   "cell_type": "markdown",
   "id": "950ddc55",
   "metadata": {},
   "source": [
    "* For Random Forest Classifier the Trian asscuracy is high and the test accuracy is low. There is a huge gap between the train and test accuracy.\n",
    "* For MultinominalNB there is a less gap between train and test .\n"
   ]
  },
  {
   "cell_type": "markdown",
   "id": "ed501069",
   "metadata": {},
   "source": [
    "* **MultinomialNB after Tfidf has a best train and test accuracy after clubbing the categories in the label columns**"
   ]
  }
 ],
 "metadata": {
  "kernelspec": {
   "display_name": "Python 3 (ipykernel)",
   "language": "python",
   "name": "python3"
  },
  "language_info": {
   "codemirror_mode": {
    "name": "ipython",
    "version": 3
   },
   "file_extension": ".py",
   "mimetype": "text/x-python",
   "name": "python",
   "nbconvert_exporter": "python",
   "pygments_lexer": "ipython3",
   "version": "3.9.13"
  }
 },
 "nbformat": 4,
 "nbformat_minor": 5
}
