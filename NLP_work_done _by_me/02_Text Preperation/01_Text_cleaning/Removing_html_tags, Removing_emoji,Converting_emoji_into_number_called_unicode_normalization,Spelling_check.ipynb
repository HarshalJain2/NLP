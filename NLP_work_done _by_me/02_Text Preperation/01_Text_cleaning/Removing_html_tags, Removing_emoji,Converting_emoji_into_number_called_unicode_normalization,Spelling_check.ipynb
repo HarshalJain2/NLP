{
 "cells": [
  {
   "cell_type": "code",
   "execution_count": 4,
   "id": "26141b7c",
   "metadata": {},
   "outputs": [],
   "source": [
    "sample_text='<p>My favorite color is <del>blue</del> <ins>red</ins>.</p>'"
   ]
  },
  {
   "cell_type": "code",
   "execution_count": 5,
   "id": "90689565",
   "metadata": {},
   "outputs": [
    {
     "data": {
      "text/plain": [
       "'<p>My favorite color is <del>blue</del> <ins>red</ins>.</p>'"
      ]
     },
     "execution_count": 5,
     "metadata": {},
     "output_type": "execute_result"
    }
   ],
   "source": [
    "sample_text"
   ]
  },
  {
   "cell_type": "markdown",
   "id": "083a01af",
   "metadata": {},
   "source": [
    "**import re**: This line imports the Python re module, which provides support for regular expressions. Regular expressions are patterns that can be used to match and manipulate strings.\n",
    "\n",
    "\n",
    "**<:** Matches the opening angle bracket of an HTML tag.\n",
    "\n",
    "**.*?**: Matches any character (.) zero or more times (*) in a non-greedy way (?). This is used to match the content within the HTML tag.\n",
    "\n",
    "\n",
    "**>**: Matches the closing angle bracket of an HTML tag.\n",
    "\n",
    "**return p.sub('', data)**: This line uses the sub() method of the regular expression pattern (p) to substitute (replace) matches with an empty string (''). In other words, it removes any text that matches the regular expression pattern from the input data."
   ]
  },
  {
   "cell_type": "code",
   "execution_count": 6,
   "id": "5f8d59b0",
   "metadata": {},
   "outputs": [],
   "source": [
    "import re\n",
    "def striphtml(data):\n",
    "    p = re.compile(r'<.*?>')\n",
    "    return p.sub('',data)"
   ]
  },
  {
   "cell_type": "code",
   "execution_count": 7,
   "id": "4fc229e6",
   "metadata": {},
   "outputs": [
    {
     "data": {
      "text/plain": [
       "'My favorite color is blue red.'"
      ]
     },
     "execution_count": 7,
     "metadata": {},
     "output_type": "execute_result"
    }
   ],
   "source": [
    "striphtml(sample_text)"
   ]
  },
  {
   "cell_type": "code",
   "execution_count": 9,
   "id": "cc124897",
   "metadata": {},
   "outputs": [
    {
     "data": {
      "text/plain": [
       "'This is the first line.This is the second line.'"
      ]
     },
     "execution_count": 9,
     "metadata": {},
     "output_type": "execute_result"
    }
   ],
   "source": [
    "striphtml(\"<ph2!.>This is the first line.</p><p>This is the second line.</p>\")"
   ]
  },
  {
   "cell_type": "markdown",
   "id": "828ef3f4",
   "metadata": {},
   "source": [
    "# Emoji Removing from Text"
   ]
  },
  {
   "cell_type": "code",
   "execution_count": 10,
   "id": "e7f6861f",
   "metadata": {
    "scrolled": true
   },
   "outputs": [
    {
     "name": "stdout",
     "output_type": "stream",
     "text": [
      "Note: you may need to restart the kernel to use updated packages.Collecting emoji\n",
      "  Downloading emoji-2.8.0-py2.py3-none-any.whl (358 kB)\n",
      "     -------------------------------------- 358.9/358.9 kB 2.2 MB/s eta 0:00:00\n",
      "Installing collected packages: emoji\n",
      "Successfully installed emoji-2.8.0\n",
      "\n"
     ]
    }
   ],
   "source": [
    "pip install emoji"
   ]
  },
  {
   "cell_type": "code",
   "execution_count": 11,
   "id": "f3a47326",
   "metadata": {},
   "outputs": [],
   "source": [
    "text_with_emojis = \"Hello 😃, how are you? 🌟\""
   ]
  },
  {
   "cell_type": "markdown",
   "id": "c54611bd",
   "metadata": {},
   "source": [
    "**emoji_pattern** = **re.compile(\"[...]\")**: This line defines a regular expression pattern stored in the emoji_pattern variable. This pattern is used to match a wide range of emojis. The pattern is constructed using Unicode code points (e.g., \\U0001F600), which represent specific emoji characters.\n",
    "\n",
    "**return emoji_pattern.sub(r'', text)**: This line uses the **sub()** method of the emoji_pattern regular expression to replace all matches of emojis in the input text with an empty string ''. In other words, it removes all emojis from the input text."
   ]
  },
  {
   "cell_type": "code",
   "execution_count": 15,
   "id": "79a5b21a",
   "metadata": {},
   "outputs": [],
   "source": [
    "import re\n",
    "\n",
    "def remove_emojis(text):\n",
    "    emoji_pattern = re.compile(\"[\"\n",
    "        u\"\\U0001F600-\\U0001F64F\"  # emoticons\n",
    "        u\"\\U0001F300-\\U0001F5FF\"  # symbols & pictographs\n",
    "        u\"\\U0001F680-\\U0001F6FF\"  # transport & map symbols\n",
    "        u\"\\U0001F700-\\U0001F77F\"  # alchemical symbols\n",
    "        u\"\\U0001F780-\\U0001F7FF\"  # Geometric Shapes Extended\n",
    "        u\"\\U0001F800-\\U0001F8FF\"  # Supplemental Arrows-C\n",
    "        u\"\\U0001F900-\\U0001F9FF\"  # Supplemental Symbols and Pictographs\n",
    "        u\"\\U0001FA00-\\U0001FA6F\"  # Chess Symbols\n",
    "        u\"\\U0001FA70-\\U0001FAFF\"  # Symbols and Pictographs Extended-A\n",
    "        u\"\\U0001FB00-\\U0001FBFF\"  # Symbols for Legacy Computing\n",
    "        u\"\\U0001FC00-\\U0001FCFF\"  # Symbols for Legacy Computing\n",
    "        u\"\\U0001FD00-\\U0001FDFF\"  # Symbols for Legacy Computing\n",
    "        u\"\\U0001FE00-\\U0001FEFF\"  # Symbols for Legacy Computing\n",
    "        u\"\\U0001FF00-\\U0001FFFF\"  # Symbols for Legacy Computing\n",
    "        \"]+\", flags=re.UNICODE)\n",
    "    return emoji_pattern.sub(r'', text)\n"
   ]
  },
  {
   "cell_type": "code",
   "execution_count": 16,
   "id": "1244d6e6",
   "metadata": {},
   "outputs": [
    {
     "name": "stdout",
     "output_type": "stream",
     "text": [
      "Hello , how are you? \n"
     ]
    }
   ],
   "source": [
    "cleaned_text = remove_emojis(text_with_emojis)\n",
    "print(cleaned_text)\n"
   ]
  },
  {
   "cell_type": "code",
   "execution_count": null,
   "id": "71bebbfe",
   "metadata": {},
   "outputs": [],
   "source": []
  },
  {
   "cell_type": "markdown",
   "id": "ca4cfea7",
   "metadata": {},
   "source": [
    "# Converting emoji into machine language code called unicode_normalization "
   ]
  },
  {
   "cell_type": "code",
   "execution_count": 17,
   "id": "630c52b4",
   "metadata": {
    "scrolled": true
   },
   "outputs": [
    {
     "data": {
      "text/plain": [
       "'Hello 😃, how are you? 🌟'"
      ]
     },
     "execution_count": 17,
     "metadata": {},
     "output_type": "execute_result"
    }
   ],
   "source": [
    "text_with_emojis"
   ]
  },
  {
   "cell_type": "markdown",
   "id": "7d14ce59",
   "metadata": {},
   "source": [
    "python have one function .encode('utf-8) this will convert this emoji into machine understandable language called as unicode normalization"
   ]
  },
  {
   "cell_type": "code",
   "execution_count": 18,
   "id": "f6067345",
   "metadata": {},
   "outputs": [
    {
     "data": {
      "text/plain": [
       "b'Hello \\xf0\\x9f\\x98\\x83, how are you? \\xf0\\x9f\\x8c\\x9f'"
      ]
     },
     "execution_count": 18,
     "metadata": {},
     "output_type": "execute_result"
    }
   ],
   "source": [
    "text_with_emojis.encode('utf-8')"
   ]
  },
  {
   "cell_type": "code",
   "execution_count": null,
   "id": "434f35b0",
   "metadata": {},
   "outputs": [],
   "source": []
  },
  {
   "cell_type": "markdown",
   "id": "c1ddbb98",
   "metadata": {},
   "source": [
    "# Spelling check"
   ]
  },
  {
   "cell_type": "code",
   "execution_count": 22,
   "id": "99e79111",
   "metadata": {},
   "outputs": [],
   "source": [
    "incorrect_text='''I am havng truble speeling corectly. I offten make mistaks wen I type. Somtimes, I dont pay atention to \n",
    "my grammar either. Its dificult to rite perfictly all the time. The english langauge can be challanging, \n",
    "with its homophones and confusng rules. But I'm commited to improving, and I knw that with practice, I can get beter.'''"
   ]
  },
  {
   "cell_type": "markdown",
   "id": "f6876d3c",
   "metadata": {},
   "source": [
    "1. using textblob import Textblob liblary \n",
    "2. in this one function called **.correct()** and  corrected the spellings"
   ]
  },
  {
   "cell_type": "code",
   "execution_count": 23,
   "id": "8aa7e862",
   "metadata": {},
   "outputs": [
    {
     "name": "stdout",
     "output_type": "stream",
     "text": [
      "Requirement already satisfied: textblob in c:\\users\\jainh\\anaconda3\\lib\\site-packages (0.17.1)\n",
      "Requirement already satisfied: nltk>=3.1 in c:\\users\\jainh\\anaconda3\\lib\\site-packages (from textblob) (3.7)\n",
      "Requirement already satisfied: click in c:\\users\\jainh\\anaconda3\\lib\\site-packages (from nltk>=3.1->textblob) (8.0.4)\n",
      "Requirement already satisfied: tqdm in c:\\users\\jainh\\anaconda3\\lib\\site-packages (from nltk>=3.1->textblob) (4.64.1)\n",
      "Requirement already satisfied: joblib in c:\\users\\jainh\\anaconda3\\lib\\site-packages (from nltk>=3.1->textblob) (1.2.0)\n",
      "Requirement already satisfied: regex>=2021.8.3 in c:\\users\\jainh\\anaconda3\\lib\\site-packages (from nltk>=3.1->textblob) (2022.7.9)\n",
      "Requirement already satisfied: colorama in c:\\users\\jainh\\anaconda3\\lib\\site-packages (from click->nltk>=3.1->textblob) (0.4.5)\n",
      "Note: you may need to restart the kernel to use updated packages.\n"
     ]
    }
   ],
   "source": [
    "pip install textblob"
   ]
  },
  {
   "cell_type": "code",
   "execution_count": 24,
   "id": "4119d877",
   "metadata": {},
   "outputs": [
    {
     "data": {
      "text/plain": [
       "TextBlob(\"I am having trouble spelling correctly. I often make mistake wen I type. Sometimes, I dont pay attention to \n",
       "my grammar either. Its difficult to rite perfectly all the time. The english language can be challenging, \n",
       "with its homophones and confusing rules. But I'm committed to improving, and I know that with practice, I can get better.\")"
      ]
     },
     "execution_count": 24,
     "metadata": {},
     "output_type": "execute_result"
    }
   ],
   "source": [
    "from textblob import TextBlob\n",
    "correct_text=TextBlob(incorrect_text)\n",
    "correct_text.correct()"
   ]
  },
  {
   "cell_type": "code",
   "execution_count": null,
   "id": "b5a082e5",
   "metadata": {},
   "outputs": [],
   "source": [
    "not all spelling cone correctly still here."
   ]
  }
 ],
 "metadata": {
  "kernelspec": {
   "display_name": "Python 3 (ipykernel)",
   "language": "python",
   "name": "python3"
  },
  "language_info": {
   "codemirror_mode": {
    "name": "ipython",
    "version": 3
   },
   "file_extension": ".py",
   "mimetype": "text/x-python",
   "name": "python",
   "nbconvert_exporter": "python",
   "pygments_lexer": "ipython3",
   "version": "3.9.13"
  }
 },
 "nbformat": 4,
 "nbformat_minor": 5
}
