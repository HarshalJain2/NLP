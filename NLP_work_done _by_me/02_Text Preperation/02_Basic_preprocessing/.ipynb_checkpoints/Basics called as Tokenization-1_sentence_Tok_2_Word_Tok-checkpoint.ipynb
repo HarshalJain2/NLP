{
 "cells": [
  {
   "cell_type": "markdown",
   "id": "80c8f8c8",
   "metadata": {},
   "source": [
    "# Basic Preprocessing - 1. Tokenization - 1. sentence Tokenization , 2. word tokenization"
   ]
  },
  {
   "cell_type": "code",
   "execution_count": 2,
   "id": "b0e56757",
   "metadata": {},
   "outputs": [],
   "source": [
    "text='''Text summarization is the process of condensing a longer piece of text into a shorter version while retaining the most \n",
    "important information and the overall meaning of the original text. This is a valuable tool in various fields, including \n",
    "journalism, content generation, and information retrieval, as it allows people to quickly grasp the key points of a document \n",
    "without reading the entire text.'''"
   ]
  },
  {
   "cell_type": "code",
   "execution_count": 3,
   "id": "a5be3f79",
   "metadata": {},
   "outputs": [],
   "source": [
    "from nltk.tokenize import sent_tokenize,word_tokenize  # liblary import"
   ]
  },
  {
   "cell_type": "code",
   "execution_count": null,
   "id": "11f95f18",
   "metadata": {},
   "outputs": [],
   "source": []
  }
 ],
 "metadata": {
  "kernelspec": {
   "display_name": "Python 3 (ipykernel)",
   "language": "python",
   "name": "python3"
  },
  "language_info": {
   "codemirror_mode": {
    "name": "ipython",
    "version": 3
   },
   "file_extension": ".py",
   "mimetype": "text/x-python",
   "name": "python",
   "nbconvert_exporter": "python",
   "pygments_lexer": "ipython3",
   "version": "3.9.13"
  }
 },
 "nbformat": 4,
 "nbformat_minor": 5
}
